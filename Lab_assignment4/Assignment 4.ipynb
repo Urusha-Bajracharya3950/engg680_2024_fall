{
  "cells": [
    {
      "cell_type": "markdown",
      "metadata": {
        "id": "view-in-github",
        "colab_type": "text"
      },
      "source": [
        "<a href=\"https://colab.research.google.com/github/Urusha-Bajracharya3950/engg680_2024_fall/blob/main/Lab_assignment4/Assignment%204.ipynb\" target=\"_parent\"><img src=\"https://colab.research.google.com/assets/colab-badge.svg\" alt=\"Open In Colab\"/></a>"
      ]
    },
    {
      "cell_type": "markdown",
      "metadata": {
        "id": "uC2wyZs9dbOE"
      },
      "source": [
        "# **ENGG680 - Introduction to Digital Engineering**\n",
        "## *Lab Assignment 4: ML Applications - Vehicle Motion State Classification*"
      ]
    },
    {
      "cell_type": "markdown",
      "metadata": {
        "id": "HUWH_MGYdbOI"
      },
      "source": [
        "## Preliminary: Certificate of Work\n"
      ]
    },
    {
      "cell_type": "markdown",
      "metadata": {
        "id": "QYQSX2OgdbOI"
      },
      "source": [
        "*We, the undersigned, certify that this is our own work, which has been done expressly for this course, either without the assistance of any other party or where appropriate we have acknowledged the work of others. Further, we have read and understood the section in the university calendar on plagiarism/cheating/other academic misconduct and we are aware of the implications thereof. We request that the total mark for this assignment be distributed as follows among group members:*"
      ]
    },
    {
      "cell_type": "markdown",
      "metadata": {
        "id": "-Jbx_pdSdbOJ"
      },
      "source": [
        "|          | First Name | Last Name | Signature (Full Name, Date) | Hours | Contribution % |\n",
        "|----------|------------|-----------|-----------------------------|-------|----------------|\n",
        "| Member 1: | First Name | Last Name | Signature | Hours | Contribution |\n",
        "| Member 2: | First Name | Last Name | Signature | Hours | Contribution |\n",
        "| Member 3: | First Name | Last Name | Signature | Hours | Contribution |\n",
        "| Member 4: | First Name | Last Name | Signature | Hours | Contribution |\n"
      ]
    },
    {
      "cell_type": "markdown",
      "metadata": {
        "id": "KIGkL2mvdbOJ"
      },
      "source": [
        "---"
      ]
    },
    {
      "cell_type": "markdown",
      "metadata": {
        "id": "XOvLPgfjdbOK"
      },
      "source": [
        "## Section 1 - Motion Classification Using *All Features* Derived From Inertial Sensor Data (33 Marks)"
      ]
    },
    {
      "cell_type": "markdown",
      "metadata": {
        "id": "-vuaznUIdbOK"
      },
      "source": [
        "---"
      ]
    },
    {
      "cell_type": "markdown",
      "metadata": {
        "id": "JuVw9fSbdbOK"
      },
      "source": [
        "### 1.1 Assignment datasets import (6 Marks)"
      ]
    },
    {
      "cell_type": "markdown",
      "metadata": {
        "id": "ufZNigwxdbOK"
      },
      "source": [
        "---"
      ]
    },
    {
      "cell_type": "code",
      "execution_count": 106,
      "metadata": {
        "id": "jqXIiCSNdbOL"
      },
      "outputs": [],
      "source": [
        "# some library imports\n",
        "import pandas as pd"
      ]
    },
    {
      "cell_type": "code",
      "source": [
        "from google.colab import drive\n",
        "drive.mount('/content/drive')"
      ],
      "metadata": {
        "colab": {
          "base_uri": "https://localhost:8080/"
        },
        "id": "Lfg58fs3mDu5",
        "outputId": "0025951d-f315-4d64-ecd3-8d98ae4dc084"
      },
      "execution_count": 107,
      "outputs": [
        {
          "output_type": "stream",
          "name": "stdout",
          "text": [
            "Drive already mounted at /content/drive; to attempt to forcibly remount, call drive.mount(\"/content/drive\", force_remount=True).\n"
          ]
        }
      ]
    },
    {
      "cell_type": "markdown",
      "source": [],
      "metadata": {
        "id": "Y6Yp2BzomDU9"
      }
    },
    {
      "cell_type": "markdown",
      "metadata": {
        "id": "Et1pUqFJdbOL"
      },
      "source": [
        "First load the following datasets into dataframes.\n",
        "* *UrbanNav-HK_Whampoa-20210521_sensors.csv* to dataframe variable named *cv_set*. This dataset is to be used for model training and hyper parameter tuning.\n",
        "* *UrbanNav-HK_TST-20210517_sensors.csv* to dataframe variable named *test_set1*. This is first independent test dataset.\n",
        "* *2020-03-14-16-45-35.csv* to dataframe variable named *test_set2*. This is the second independent test dataset."
      ]
    },
    {
      "cell_type": "code",
      "execution_count": 108,
      "metadata": {
        "colab": {
          "base_uri": "https://localhost:8080/"
        },
        "id": "4AqZ1ryBdbOM",
        "outputId": "7bd77aae-0735-4bdf-9a81-70ed59f26144"
      },
      "outputs": [
        {
          "output_type": "execute_result",
          "data": {
            "text/plain": [
              "(     ax_sum    ay_sum    az_sum    gx_sum    gy_sum    gz_sum     a_sum  \\\n",
              " 0 -0.003929 -0.093081  9.789349 -0.002649  0.001406 -0.001391  9.797418   \n",
              " 1 -0.000966 -0.092417  9.789095 -0.001806  0.000103 -0.001943  9.798815   \n",
              " 2 -0.008014  0.037066  9.792780 -0.001129  0.001207  0.005840  9.805465   \n",
              " 3 -0.097655  0.286081  9.781135 -0.000960  0.002518  0.076946  9.792874   \n",
              " 4 -0.239673  0.288418  9.779307 -0.001625  0.005648  0.157407  9.794137   \n",
              " \n",
              "       g_sum        ax_var        ay_var  ...     g_min    ax_max    ay_max  \\\n",
              " 0  0.022554  8.046094e-07  1.319665e-07  ...  0.000003  0.001496  0.000544   \n",
              " 1  0.021731  1.032619e-06  1.073067e-07  ...  0.000006  0.001865  0.000615   \n",
              " 2  0.024407  1.128046e-06  4.231253e-07  ...  0.000003  0.003009  0.002097   \n",
              " 3  0.080408  7.988949e-07  6.873045e-08  ...  0.000052  0.001546  0.001457   \n",
              " 4  0.158930  8.240663e-07  1.143863e-07  ...  0.000233  0.001387  0.001681   \n",
              " \n",
              "      az_max    gx_max    gy_max    gz_max     a_max     g_max  motion_state  \n",
              " 0  0.024992  0.000110  0.000075  0.000078  0.024997  0.000187          rest  \n",
              " 1  0.024828  0.000124  0.000098  0.000090  0.024829  0.000144          rest  \n",
              " 2  0.025014  0.000142  0.000085  0.000111  0.025125  0.000144      straight  \n",
              " 3  0.024822  0.000131  0.000093  0.000350  0.024839  0.000351          turn  \n",
              " 4  0.025347  0.000134  0.000095  0.000500  0.025439  0.000504          turn  \n",
              " \n",
              " [5 rows x 33 columns],\n",
              "      ax_sum    ay_sum    az_sum    gx_sum    gy_sum    gz_sum     a_sum  \\\n",
              " 0  0.264465  0.089904  9.786930 -0.002305  0.000218 -0.001143  9.801661   \n",
              " 1  0.264300  0.088882  9.788127 -0.001865 -0.000523 -0.001999  9.802481   \n",
              " 2  0.263289  0.091253  9.787077 -0.003514 -0.000400 -0.002699  9.801773   \n",
              " 3  0.265551  0.088830  9.786133 -0.001530 -0.000451 -0.002179  9.800554   \n",
              " 4  0.268502  0.133801  9.774356 -0.001495 -0.000986 -0.001686  9.790128   \n",
              " \n",
              "       g_sum    ax_var        ay_var  ...     g_min    ax_max    ay_max  \\\n",
              " 0  0.025634  0.000001  7.749919e-08  ...  0.000003  0.002506  0.000845   \n",
              " 1  0.025218  0.000001  9.243000e-08  ...  0.000007  0.002427  0.000949   \n",
              " 2  0.026243  0.000001  8.410489e-08  ...  0.000007  0.002532  0.001030   \n",
              " 3  0.028030  0.000001  7.048151e-08  ...  0.000008  0.002454  0.000817   \n",
              " 4  0.026112  0.000001  1.819436e-07  ...  0.000009  0.002626  0.002005   \n",
              " \n",
              "      az_max    gx_max    gy_max    gz_max     a_max     g_max  motion_state  \n",
              " 0  0.024884  0.000155  0.000078  0.000069  0.024886  0.000170          rest  \n",
              " 1  0.024881  0.000201  0.000095  0.000076  0.024883  0.000201          rest  \n",
              " 2  0.024904  0.000159  0.000068  0.000074  0.024904  0.000169          rest  \n",
              " 3  0.024917  0.000188  0.000081  0.000080  0.024926  0.000199          rest  \n",
              " 4  0.024851  0.000188  0.000068  0.000068  0.024855  0.000194          rest  \n",
              " \n",
              " [5 rows x 33 columns],\n",
              "      ax_sum    ay_sum    az_sum    gx_sum    gy_sum    gz_sum     a_sum  \\\n",
              " 0 -0.046400  0.305907  9.791451 -0.002184  0.001311 -0.001901  9.800683   \n",
              " 1 -0.050073  0.311947  9.785619 -0.003369  0.001898 -0.002051  9.797741   \n",
              " 2 -0.045121  0.311157  9.794267 -0.002583  0.002641 -0.003126  9.803662   \n",
              " 3 -0.044207  0.311091  9.788876 -0.002947  0.002217 -0.002639  9.798112   \n",
              " 4 -0.049304  0.311548  9.791129 -0.003078  0.002126 -0.002390  9.798496   \n",
              " \n",
              "       g_sum    ax_var        ay_var  ...     g_min    ax_max    ay_max  \\\n",
              " 0  0.012437  0.000002  3.020959e-07  ...  0.000007  0.002575  0.002993   \n",
              " 1  0.013805  0.000003  6.859937e-07  ...  0.000013  0.003880  0.004106   \n",
              " 2  0.012473  0.000002  2.651305e-07  ...  0.000011  0.002537  0.002991   \n",
              " 3  0.012434  0.000002  1.084477e-07  ...  0.000011  0.002296  0.002398   \n",
              " 4  0.012217  0.000001  5.710469e-08  ...  0.000004  0.001666  0.002141   \n",
              " \n",
              "      az_max    gx_max    gy_max    gz_max     a_max     g_max  motion_state  \n",
              " 0  0.049701  0.000094  0.000115  0.000080  0.049764  0.000142          rest  \n",
              " 1  0.050477  0.000140  0.000140  0.000083  0.050763  0.000151          rest  \n",
              " 2  0.050137  0.000096  0.000117  0.000079  0.050161  0.000158          rest  \n",
              " 3  0.052505  0.000074  0.000109  0.000077  0.052563  0.000147          rest  \n",
              " 4  0.052165  0.000077  0.000106  0.000087  0.052225  0.000144          rest  \n",
              " \n",
              " [5 rows x 33 columns])"
            ]
          },
          "metadata": {},
          "execution_count": 108
        }
      ],
      "source": [
        "# (2 marks)\n",
        "# TODO: Load cross validation/training dataset (UrbanNav-HK_Whampoa-20210521_sensors.csv) to 'cv_set' dataframe\n",
        "# uncomment and compelete below\n",
        "cv_set = pd.read_csv('/content/drive/MyDrive/engg680_2024_fall/Lab_assignment4/UrbanNav-HK_Whampoa-20210521_sensors.csv')\n",
        "\n",
        "# TODO: Load UrbanNav-HK_TST-20210517_sensors.csv to 'test_set1' dataframe\n",
        "test_set1 = pd.read_csv('/content/drive/MyDrive/engg680_2024_fall/Lab_assignment4/UrbanNav-HK_TST-20210517_sensors.csv')\n",
        "\n",
        "# TODO: Load 2020-03-14-16-45-35.csv to 'test_set2' dataframe\n",
        "test_set2 = pd.read_csv('/content/drive/MyDrive/engg680_2024_fall/Lab_assignment4/2020-03-14-16-45-35.csv')\n",
        "\n",
        "cv_set.head(), test_set1.head(), test_set2.head()"
      ]
    },
    {
      "cell_type": "markdown",
      "metadata": {
        "id": "ktcdraiudbOM"
      },
      "source": [
        "For the *cv_set*, look at the dataframe head and info, and print the list of all columns. The *test_set1* and *test_set2* have the same schema as *cv_set*, however, have different number of rows (samples)."
      ]
    },
    {
      "cell_type": "code",
      "execution_count": 109,
      "metadata": {
        "colab": {
          "base_uri": "https://localhost:8080/"
        },
        "id": "zMIiEn7sdbOM",
        "outputId": "5cebedef-ed8c-4a14-f9fc-96c31ed27318"
      },
      "outputs": [
        {
          "output_type": "stream",
          "name": "stdout",
          "text": [
            "First two rows of cv_set:\n",
            "     ax_sum    ay_sum    az_sum    gx_sum    gy_sum    gz_sum     a_sum  \\\n",
            "0 -0.003929 -0.093081  9.789349 -0.002649  0.001406 -0.001391  9.797418   \n",
            "1 -0.000966 -0.092417  9.789095 -0.001806  0.000103 -0.001943  9.798815   \n",
            "\n",
            "      g_sum        ax_var        ay_var  ...     g_min    ax_max    ay_max  \\\n",
            "0  0.022554  8.046094e-07  1.319665e-07  ...  0.000003  0.001496  0.000544   \n",
            "1  0.021731  1.032619e-06  1.073067e-07  ...  0.000006  0.001865  0.000615   \n",
            "\n",
            "     az_max    gx_max    gy_max    gz_max     a_max     g_max  motion_state  \n",
            "0  0.024992  0.000110  0.000075  0.000078  0.024997  0.000187          rest  \n",
            "1  0.024828  0.000124  0.000098  0.000090  0.024829  0.000144          rest  \n",
            "\n",
            "[2 rows x 33 columns]\n"
          ]
        }
      ],
      "source": [
        "# TODO: Display first two rows of cv_set\n",
        "# (1 mark)\n",
        "print(\"First two rows of cv_set:\")\n",
        "print(cv_set.head(2))"
      ]
    },
    {
      "cell_type": "code",
      "execution_count": 110,
      "metadata": {
        "colab": {
          "base_uri": "https://localhost:8080/"
        },
        "id": "5zn28ZQwdbOM",
        "outputId": "6a6cad60-e6fe-4fcd-a561-f38700824a0f"
      },
      "outputs": [
        {
          "output_type": "stream",
          "name": "stdout",
          "text": [
            "<class 'pandas.core.frame.DataFrame'>\n",
            "RangeIndex: 1534 entries, 0 to 1533\n",
            "Data columns (total 33 columns):\n",
            " #   Column        Non-Null Count  Dtype  \n",
            "---  ------        --------------  -----  \n",
            " 0   ax_sum        1534 non-null   float64\n",
            " 1   ay_sum        1534 non-null   float64\n",
            " 2   az_sum        1534 non-null   float64\n",
            " 3   gx_sum        1534 non-null   float64\n",
            " 4   gy_sum        1534 non-null   float64\n",
            " 5   gz_sum        1534 non-null   float64\n",
            " 6   a_sum         1534 non-null   float64\n",
            " 7   g_sum         1534 non-null   float64\n",
            " 8   ax_var        1534 non-null   float64\n",
            " 9   ay_var        1534 non-null   float64\n",
            " 10  az_var        1534 non-null   float64\n",
            " 11  gx_var        1534 non-null   float64\n",
            " 12  gy_var        1534 non-null   float64\n",
            " 13  gz_var        1534 non-null   float64\n",
            " 14  a_var         1534 non-null   float64\n",
            " 15  g_var         1534 non-null   float64\n",
            " 16  ax_min        1534 non-null   float64\n",
            " 17  ay_min        1534 non-null   float64\n",
            " 18  az_min        1534 non-null   float64\n",
            " 19  gx_min        1534 non-null   float64\n",
            " 20  gy_min        1534 non-null   float64\n",
            " 21  gz_min        1534 non-null   float64\n",
            " 22  a_min         1534 non-null   float64\n",
            " 23  g_min         1534 non-null   float64\n",
            " 24  ax_max        1534 non-null   float64\n",
            " 25  ay_max        1534 non-null   float64\n",
            " 26  az_max        1534 non-null   float64\n",
            " 27  gx_max        1534 non-null   float64\n",
            " 28  gy_max        1534 non-null   float64\n",
            " 29  gz_max        1534 non-null   float64\n",
            " 30  a_max         1534 non-null   float64\n",
            " 31  g_max         1534 non-null   float64\n",
            " 32  motion_state  1534 non-null   object \n",
            "dtypes: float64(32), object(1)\n",
            "memory usage: 395.6+ KB\n"
          ]
        }
      ],
      "source": [
        "# TODO: Load the info method of cv_set\n",
        "# (1 mark)\n",
        "cv_set.info()"
      ]
    },
    {
      "cell_type": "code",
      "execution_count": 111,
      "metadata": {
        "colab": {
          "base_uri": "https://localhost:8080/"
        },
        "id": "ddjYF6aAdbOM",
        "outputId": "b1f8aec0-93f3-43c3-9c1b-d2fe5f628ea7"
      },
      "outputs": [
        {
          "output_type": "stream",
          "name": "stdout",
          "text": [
            "'cv_set' has 1534 rows and 33 columns\n",
            "'test_set1' has 783 rows and 33 columns\n",
            "'test_set2' has 297 rows and 33 columns\n"
          ]
        }
      ],
      "source": [
        "# TODO: Display the number of rows and columns  of all three datasets\n",
        "# (1 mark)\n",
        "print(f\"'cv_set' has {cv_set.shape[0]} rows and {cv_set.shape[1]} columns\")\n",
        "print(f\"'test_set1' has {test_set1.shape[0]} rows and {test_set1.shape[1]} columns\")\n",
        "print(f\"'test_set2' has {test_set2.shape[0]} rows and {test_set2.shape[1]} columns\")"
      ]
    },
    {
      "cell_type": "code",
      "execution_count": 112,
      "metadata": {
        "colab": {
          "base_uri": "https://localhost:8080/"
        },
        "id": "xJarDqbbdbOM",
        "outputId": "68fd5307-fee9-4d68-a8d0-1d835639cb47"
      },
      "outputs": [
        {
          "output_type": "stream",
          "name": "stdout",
          "text": [
            "All columns in 'cv_set':\n",
            "['ax_sum', 'ay_sum', 'az_sum', 'gx_sum', 'gy_sum', 'gz_sum', 'a_sum', 'g_sum', 'ax_var', 'ay_var', 'az_var', 'gx_var', 'gy_var', 'gz_var', 'a_var', 'g_var', 'ax_min', 'ay_min', 'az_min', 'gx_min', 'gy_min', 'gz_min', 'a_min', 'g_min', 'ax_max', 'ay_max', 'az_max', 'gx_max', 'gy_max', 'gz_max', 'a_max', 'g_max', 'motion_state']\n"
          ]
        }
      ],
      "source": [
        "# TODO: Display all columns in cv_set\n",
        "# (1 mark)\n",
        "print(\"All columns in 'cv_set':\")\n",
        "print(cv_set.columns.tolist())"
      ]
    },
    {
      "cell_type": "markdown",
      "metadata": {
        "id": "z3RxBDwRdbON"
      },
      "source": [
        "In all three dataframes, target vector is stored in the *motion_state* column. All other columns are features."
      ]
    },
    {
      "cell_type": "markdown",
      "metadata": {
        "id": "k_s2y4CrdbON"
      },
      "source": [
        "___"
      ]
    },
    {
      "cell_type": "markdown",
      "metadata": {
        "id": "AmUIiY5_dbON"
      },
      "source": [
        "### 1.2 - Grid Search with Cross Validation (18 Marks)"
      ]
    },
    {
      "cell_type": "markdown",
      "metadata": {
        "id": "FS0tZujZdbON"
      },
      "source": [
        "___"
      ]
    },
    {
      "cell_type": "markdown",
      "metadata": {
        "id": "brkViqgXdbON"
      },
      "source": [
        "#### 1.2.1 - Extract all features and target from cv_set"
      ]
    },
    {
      "cell_type": "markdown",
      "metadata": {
        "id": "w_75g68hdbON"
      },
      "source": [
        "___"
      ]
    },
    {
      "cell_type": "markdown",
      "metadata": {
        "id": "qmc5enM2dbON"
      },
      "source": [
        "From the *cv_set*, load the target vector stored in the *motion_state* column into a new variable *y*"
      ]
    },
    {
      "cell_type": "code",
      "execution_count": 113,
      "metadata": {
        "colab": {
          "base_uri": "https://localhost:8080/"
        },
        "id": "yL8DLzCYdbON",
        "outputId": "50d35091-f29f-4df0-eff3-9e5e6c9192f3"
      },
      "outputs": [
        {
          "output_type": "stream",
          "name": "stdout",
          "text": [
            "First few entries in target vector 'y':\n",
            "0        rest\n",
            "1        rest\n",
            "2    straight\n",
            "3        turn\n",
            "4        turn\n",
            "Name: motion_state, dtype: object\n"
          ]
        }
      ],
      "source": [
        "# TODO - Load target vector into y\n",
        "# (1 mark)\n",
        "y = cv_set['motion_state']\n",
        "\n",
        "print(\"First few entries in target vector 'y':\")\n",
        "print(y.head())"
      ]
    },
    {
      "cell_type": "markdown",
      "metadata": {
        "id": "OlichVlUdbON"
      },
      "source": [
        "From *cv_set*, load all features, that is all columns except for the target vector, in a new dataframe variable *X*"
      ]
    },
    {
      "cell_type": "code",
      "execution_count": 114,
      "metadata": {
        "colab": {
          "base_uri": "https://localhost:8080/",
          "height": 194
        },
        "id": "FJPm8GkKdbON",
        "outputId": "344ca19f-d7ee-4f36-d946-4d5f5e5eae64"
      },
      "outputs": [
        {
          "output_type": "execute_result",
          "data": {
            "text/plain": [
              "     ax_sum    ay_sum    az_sum    gx_sum    gy_sum    gz_sum     a_sum  \\\n",
              "0 -0.003929 -0.093081  9.789349 -0.002649  0.001406 -0.001391  9.797418   \n",
              "1 -0.000966 -0.092417  9.789095 -0.001806  0.000103 -0.001943  9.798815   \n",
              "\n",
              "      g_sum        ax_var        ay_var  ...     a_min     g_min    ax_max  \\\n",
              "0  0.022554  8.046094e-07  1.319665e-07  ...  0.023871  0.000003  0.001496   \n",
              "1  0.021731  1.032619e-06  1.073067e-07  ...  0.024153  0.000006  0.001865   \n",
              "\n",
              "     ay_max    az_max    gx_max    gy_max    gz_max     a_max     g_max  \n",
              "0  0.000544  0.024992  0.000110  0.000075  0.000078  0.024997  0.000187  \n",
              "1  0.000615  0.024828  0.000124  0.000098  0.000090  0.024829  0.000144  \n",
              "\n",
              "[2 rows x 32 columns]"
            ],
            "text/html": [
              "\n",
              "  <div id=\"df-b8bb69df-0ece-4067-ad31-60ce4b8a3019\" class=\"colab-df-container\">\n",
              "    <div>\n",
              "<style scoped>\n",
              "    .dataframe tbody tr th:only-of-type {\n",
              "        vertical-align: middle;\n",
              "    }\n",
              "\n",
              "    .dataframe tbody tr th {\n",
              "        vertical-align: top;\n",
              "    }\n",
              "\n",
              "    .dataframe thead th {\n",
              "        text-align: right;\n",
              "    }\n",
              "</style>\n",
              "<table border=\"1\" class=\"dataframe\">\n",
              "  <thead>\n",
              "    <tr style=\"text-align: right;\">\n",
              "      <th></th>\n",
              "      <th>ax_sum</th>\n",
              "      <th>ay_sum</th>\n",
              "      <th>az_sum</th>\n",
              "      <th>gx_sum</th>\n",
              "      <th>gy_sum</th>\n",
              "      <th>gz_sum</th>\n",
              "      <th>a_sum</th>\n",
              "      <th>g_sum</th>\n",
              "      <th>ax_var</th>\n",
              "      <th>ay_var</th>\n",
              "      <th>...</th>\n",
              "      <th>a_min</th>\n",
              "      <th>g_min</th>\n",
              "      <th>ax_max</th>\n",
              "      <th>ay_max</th>\n",
              "      <th>az_max</th>\n",
              "      <th>gx_max</th>\n",
              "      <th>gy_max</th>\n",
              "      <th>gz_max</th>\n",
              "      <th>a_max</th>\n",
              "      <th>g_max</th>\n",
              "    </tr>\n",
              "  </thead>\n",
              "  <tbody>\n",
              "    <tr>\n",
              "      <th>0</th>\n",
              "      <td>-0.003929</td>\n",
              "      <td>-0.093081</td>\n",
              "      <td>9.789349</td>\n",
              "      <td>-0.002649</td>\n",
              "      <td>0.001406</td>\n",
              "      <td>-0.001391</td>\n",
              "      <td>9.797418</td>\n",
              "      <td>0.022554</td>\n",
              "      <td>8.046094e-07</td>\n",
              "      <td>1.319665e-07</td>\n",
              "      <td>...</td>\n",
              "      <td>0.023871</td>\n",
              "      <td>0.000003</td>\n",
              "      <td>0.001496</td>\n",
              "      <td>0.000544</td>\n",
              "      <td>0.024992</td>\n",
              "      <td>0.000110</td>\n",
              "      <td>0.000075</td>\n",
              "      <td>0.000078</td>\n",
              "      <td>0.024997</td>\n",
              "      <td>0.000187</td>\n",
              "    </tr>\n",
              "    <tr>\n",
              "      <th>1</th>\n",
              "      <td>-0.000966</td>\n",
              "      <td>-0.092417</td>\n",
              "      <td>9.789095</td>\n",
              "      <td>-0.001806</td>\n",
              "      <td>0.000103</td>\n",
              "      <td>-0.001943</td>\n",
              "      <td>9.798815</td>\n",
              "      <td>0.021731</td>\n",
              "      <td>1.032619e-06</td>\n",
              "      <td>1.073067e-07</td>\n",
              "      <td>...</td>\n",
              "      <td>0.024153</td>\n",
              "      <td>0.000006</td>\n",
              "      <td>0.001865</td>\n",
              "      <td>0.000615</td>\n",
              "      <td>0.024828</td>\n",
              "      <td>0.000124</td>\n",
              "      <td>0.000098</td>\n",
              "      <td>0.000090</td>\n",
              "      <td>0.024829</td>\n",
              "      <td>0.000144</td>\n",
              "    </tr>\n",
              "  </tbody>\n",
              "</table>\n",
              "<p>2 rows × 32 columns</p>\n",
              "</div>\n",
              "    <div class=\"colab-df-buttons\">\n",
              "\n",
              "  <div class=\"colab-df-container\">\n",
              "    <button class=\"colab-df-convert\" onclick=\"convertToInteractive('df-b8bb69df-0ece-4067-ad31-60ce4b8a3019')\"\n",
              "            title=\"Convert this dataframe to an interactive table.\"\n",
              "            style=\"display:none;\">\n",
              "\n",
              "  <svg xmlns=\"http://www.w3.org/2000/svg\" height=\"24px\" viewBox=\"0 -960 960 960\">\n",
              "    <path d=\"M120-120v-720h720v720H120Zm60-500h600v-160H180v160Zm220 220h160v-160H400v160Zm0 220h160v-160H400v160ZM180-400h160v-160H180v160Zm440 0h160v-160H620v160ZM180-180h160v-160H180v160Zm440 0h160v-160H620v160Z\"/>\n",
              "  </svg>\n",
              "    </button>\n",
              "\n",
              "  <style>\n",
              "    .colab-df-container {\n",
              "      display:flex;\n",
              "      gap: 12px;\n",
              "    }\n",
              "\n",
              "    .colab-df-convert {\n",
              "      background-color: #E8F0FE;\n",
              "      border: none;\n",
              "      border-radius: 50%;\n",
              "      cursor: pointer;\n",
              "      display: none;\n",
              "      fill: #1967D2;\n",
              "      height: 32px;\n",
              "      padding: 0 0 0 0;\n",
              "      width: 32px;\n",
              "    }\n",
              "\n",
              "    .colab-df-convert:hover {\n",
              "      background-color: #E2EBFA;\n",
              "      box-shadow: 0px 1px 2px rgba(60, 64, 67, 0.3), 0px 1px 3px 1px rgba(60, 64, 67, 0.15);\n",
              "      fill: #174EA6;\n",
              "    }\n",
              "\n",
              "    .colab-df-buttons div {\n",
              "      margin-bottom: 4px;\n",
              "    }\n",
              "\n",
              "    [theme=dark] .colab-df-convert {\n",
              "      background-color: #3B4455;\n",
              "      fill: #D2E3FC;\n",
              "    }\n",
              "\n",
              "    [theme=dark] .colab-df-convert:hover {\n",
              "      background-color: #434B5C;\n",
              "      box-shadow: 0px 1px 3px 1px rgba(0, 0, 0, 0.15);\n",
              "      filter: drop-shadow(0px 1px 2px rgba(0, 0, 0, 0.3));\n",
              "      fill: #FFFFFF;\n",
              "    }\n",
              "  </style>\n",
              "\n",
              "    <script>\n",
              "      const buttonEl =\n",
              "        document.querySelector('#df-b8bb69df-0ece-4067-ad31-60ce4b8a3019 button.colab-df-convert');\n",
              "      buttonEl.style.display =\n",
              "        google.colab.kernel.accessAllowed ? 'block' : 'none';\n",
              "\n",
              "      async function convertToInteractive(key) {\n",
              "        const element = document.querySelector('#df-b8bb69df-0ece-4067-ad31-60ce4b8a3019');\n",
              "        const dataTable =\n",
              "          await google.colab.kernel.invokeFunction('convertToInteractive',\n",
              "                                                    [key], {});\n",
              "        if (!dataTable) return;\n",
              "\n",
              "        const docLinkHtml = 'Like what you see? Visit the ' +\n",
              "          '<a target=\"_blank\" href=https://colab.research.google.com/notebooks/data_table.ipynb>data table notebook</a>'\n",
              "          + ' to learn more about interactive tables.';\n",
              "        element.innerHTML = '';\n",
              "        dataTable['output_type'] = 'display_data';\n",
              "        await google.colab.output.renderOutput(dataTable, element);\n",
              "        const docLink = document.createElement('div');\n",
              "        docLink.innerHTML = docLinkHtml;\n",
              "        element.appendChild(docLink);\n",
              "      }\n",
              "    </script>\n",
              "  </div>\n",
              "\n",
              "\n",
              "<div id=\"df-9e8eb7bc-e80c-43cb-b50c-b53bca567004\">\n",
              "  <button class=\"colab-df-quickchart\" onclick=\"quickchart('df-9e8eb7bc-e80c-43cb-b50c-b53bca567004')\"\n",
              "            title=\"Suggest charts\"\n",
              "            style=\"display:none;\">\n",
              "\n",
              "<svg xmlns=\"http://www.w3.org/2000/svg\" height=\"24px\"viewBox=\"0 0 24 24\"\n",
              "     width=\"24px\">\n",
              "    <g>\n",
              "        <path d=\"M19 3H5c-1.1 0-2 .9-2 2v14c0 1.1.9 2 2 2h14c1.1 0 2-.9 2-2V5c0-1.1-.9-2-2-2zM9 17H7v-7h2v7zm4 0h-2V7h2v10zm4 0h-2v-4h2v4z\"/>\n",
              "    </g>\n",
              "</svg>\n",
              "  </button>\n",
              "\n",
              "<style>\n",
              "  .colab-df-quickchart {\n",
              "      --bg-color: #E8F0FE;\n",
              "      --fill-color: #1967D2;\n",
              "      --hover-bg-color: #E2EBFA;\n",
              "      --hover-fill-color: #174EA6;\n",
              "      --disabled-fill-color: #AAA;\n",
              "      --disabled-bg-color: #DDD;\n",
              "  }\n",
              "\n",
              "  [theme=dark] .colab-df-quickchart {\n",
              "      --bg-color: #3B4455;\n",
              "      --fill-color: #D2E3FC;\n",
              "      --hover-bg-color: #434B5C;\n",
              "      --hover-fill-color: #FFFFFF;\n",
              "      --disabled-bg-color: #3B4455;\n",
              "      --disabled-fill-color: #666;\n",
              "  }\n",
              "\n",
              "  .colab-df-quickchart {\n",
              "    background-color: var(--bg-color);\n",
              "    border: none;\n",
              "    border-radius: 50%;\n",
              "    cursor: pointer;\n",
              "    display: none;\n",
              "    fill: var(--fill-color);\n",
              "    height: 32px;\n",
              "    padding: 0;\n",
              "    width: 32px;\n",
              "  }\n",
              "\n",
              "  .colab-df-quickchart:hover {\n",
              "    background-color: var(--hover-bg-color);\n",
              "    box-shadow: 0 1px 2px rgba(60, 64, 67, 0.3), 0 1px 3px 1px rgba(60, 64, 67, 0.15);\n",
              "    fill: var(--button-hover-fill-color);\n",
              "  }\n",
              "\n",
              "  .colab-df-quickchart-complete:disabled,\n",
              "  .colab-df-quickchart-complete:disabled:hover {\n",
              "    background-color: var(--disabled-bg-color);\n",
              "    fill: var(--disabled-fill-color);\n",
              "    box-shadow: none;\n",
              "  }\n",
              "\n",
              "  .colab-df-spinner {\n",
              "    border: 2px solid var(--fill-color);\n",
              "    border-color: transparent;\n",
              "    border-bottom-color: var(--fill-color);\n",
              "    animation:\n",
              "      spin 1s steps(1) infinite;\n",
              "  }\n",
              "\n",
              "  @keyframes spin {\n",
              "    0% {\n",
              "      border-color: transparent;\n",
              "      border-bottom-color: var(--fill-color);\n",
              "      border-left-color: var(--fill-color);\n",
              "    }\n",
              "    20% {\n",
              "      border-color: transparent;\n",
              "      border-left-color: var(--fill-color);\n",
              "      border-top-color: var(--fill-color);\n",
              "    }\n",
              "    30% {\n",
              "      border-color: transparent;\n",
              "      border-left-color: var(--fill-color);\n",
              "      border-top-color: var(--fill-color);\n",
              "      border-right-color: var(--fill-color);\n",
              "    }\n",
              "    40% {\n",
              "      border-color: transparent;\n",
              "      border-right-color: var(--fill-color);\n",
              "      border-top-color: var(--fill-color);\n",
              "    }\n",
              "    60% {\n",
              "      border-color: transparent;\n",
              "      border-right-color: var(--fill-color);\n",
              "    }\n",
              "    80% {\n",
              "      border-color: transparent;\n",
              "      border-right-color: var(--fill-color);\n",
              "      border-bottom-color: var(--fill-color);\n",
              "    }\n",
              "    90% {\n",
              "      border-color: transparent;\n",
              "      border-bottom-color: var(--fill-color);\n",
              "    }\n",
              "  }\n",
              "</style>\n",
              "\n",
              "  <script>\n",
              "    async function quickchart(key) {\n",
              "      const quickchartButtonEl =\n",
              "        document.querySelector('#' + key + ' button');\n",
              "      quickchartButtonEl.disabled = true;  // To prevent multiple clicks.\n",
              "      quickchartButtonEl.classList.add('colab-df-spinner');\n",
              "      try {\n",
              "        const charts = await google.colab.kernel.invokeFunction(\n",
              "            'suggestCharts', [key], {});\n",
              "      } catch (error) {\n",
              "        console.error('Error during call to suggestCharts:', error);\n",
              "      }\n",
              "      quickchartButtonEl.classList.remove('colab-df-spinner');\n",
              "      quickchartButtonEl.classList.add('colab-df-quickchart-complete');\n",
              "    }\n",
              "    (() => {\n",
              "      let quickchartButtonEl =\n",
              "        document.querySelector('#df-9e8eb7bc-e80c-43cb-b50c-b53bca567004 button');\n",
              "      quickchartButtonEl.style.display =\n",
              "        google.colab.kernel.accessAllowed ? 'block' : 'none';\n",
              "    })();\n",
              "  </script>\n",
              "</div>\n",
              "\n",
              "    </div>\n",
              "  </div>\n"
            ],
            "application/vnd.google.colaboratory.intrinsic+json": {
              "type": "dataframe",
              "variable_name": "X"
            }
          },
          "metadata": {},
          "execution_count": 114
        }
      ],
      "source": [
        "# TODO - Load all features from cv_set to X\n",
        "# (2 marks)\n",
        "X = cv_set.drop(columns=['motion_state'])\n",
        "X.head(2)"
      ]
    },
    {
      "cell_type": "markdown",
      "metadata": {
        "id": "eAMu7P6hdbON"
      },
      "source": [
        "___"
      ]
    },
    {
      "cell_type": "markdown",
      "metadata": {
        "id": "F8he3y33dbON"
      },
      "source": [
        "#### 1.2.2 - Configure and Perform Grid Search with Cross-Validation"
      ]
    },
    {
      "cell_type": "markdown",
      "metadata": {
        "id": "NeA8BXO2dbON"
      },
      "source": [
        "___"
      ]
    },
    {
      "cell_type": "code",
      "execution_count": 115,
      "metadata": {
        "id": "pWZ20C40dbOO"
      },
      "outputs": [],
      "source": [
        "from sklearn.pipeline import Pipeline\n",
        "from sklearn.model_selection import train_test_split\n",
        "from sklearn.svm import SVC\n",
        "from sklearn.preprocessing import StandardScaler, RobustScaler, MinMaxScaler, Normalizer\n",
        "from sklearn.model_selection import GridSearchCV"
      ]
    },
    {
      "cell_type": "markdown",
      "metadata": {
        "id": "s_YZWW4ldbOO"
      },
      "source": [
        "The dataset *(X, y)*, must be split into training/validation *(X_train, y_train)* and testing *(X_test, y_test)* sets. Use the `train_test_split` function from sklearn to create the split, where  **30%** of data is used for testing. Set the `random_state=42`, and `stratify=y`.  "
      ]
    },
    {
      "cell_type": "code",
      "execution_count": 116,
      "metadata": {
        "colab": {
          "base_uri": "https://localhost:8080/"
        },
        "id": "fDhDYqWGdbOO",
        "outputId": "daafa217-5f8f-4c76-a8c6-17447f3377f1"
      },
      "outputs": [
        {
          "output_type": "stream",
          "name": "stdout",
          "text": [
            "X_train shape: (1073, 32), y_train shape: (1073,)\n",
            "X_test shape: (461, 32), y_test shape: (461,)\n"
          ]
        }
      ],
      "source": [
        "# TODO - Perform test/train split\n",
        "# (1 mark)\n",
        "X_train, X_test, y_train, y_test = train_test_split(X, y, test_size=0.3, random_state=42, stratify=y)\n",
        "\n",
        "print(f\"X_train shape: {X_train.shape}, y_train shape: {y_train.shape}\")\n",
        "print(f\"X_test shape: {X_test.shape}, y_test shape: {y_test.shape}\")"
      ]
    },
    {
      "cell_type": "markdown",
      "metadata": {
        "id": "Lk0kQgixdbOO"
      },
      "source": [
        "Initialize a `Pipeline`, consisting of a *scaler* and a *classifer*, set the default values to *StandardScaler()*, and *SVC()*, respectively."
      ]
    },
    {
      "cell_type": "code",
      "execution_count": 117,
      "metadata": {
        "colab": {
          "base_uri": "https://localhost:8080/"
        },
        "id": "-mNzB_bqdbOO",
        "outputId": "a0253254-0760-4766-957b-9475c78df7f8"
      },
      "outputs": [
        {
          "output_type": "stream",
          "name": "stdout",
          "text": [
            "Pipeline initialized:\n",
            "Pipeline(steps=[('scaler', StandardScaler()), ('classifier', SVC())])\n"
          ]
        }
      ],
      "source": [
        "# TODO - Initialize Pipeline into variable pipe\n",
        "# (2 marks)\n",
        "pipe = Pipeline([\n",
        "    ('scaler', StandardScaler()),\n",
        "    ('classifier', SVC())\n",
        "])\n",
        "\n",
        "print(\"Pipeline initialized:\")\n",
        "print(pipe)"
      ]
    },
    {
      "cell_type": "markdown",
      "metadata": {
        "id": "7QUtzFe6dbOO"
      },
      "source": [
        "Define the grid search configuration (*param_grid*) for training and hyper parameter tuning of the *support vector classifier*. Tune, the hyper-parameter *C*, over the interval `C=[0.01, 0.1, 1 ,10,100]`, *gamma*, over the interval `gamma=[0.001, 0.01, 0.1,1]`, and use the *radial basis function* as the kernel. For the *scaler* parameter, test with the `StandardScaler`, `RobustScaler`, and `None` options."
      ]
    },
    {
      "cell_type": "code",
      "execution_count": 118,
      "metadata": {
        "colab": {
          "base_uri": "https://localhost:8080/"
        },
        "id": "3G7-FCKRdbOO",
        "outputId": "a5b1de96-3db3-4023-87f1-588afbb07cce"
      },
      "outputs": [
        {
          "output_type": "stream",
          "name": "stdout",
          "text": [
            "Parameter grid configuration:\n",
            "{'scaler': [StandardScaler(), RobustScaler(), None], 'classifier__C': [0.01, 0.1, 1, 10, 100], 'classifier__gamma': [0.001, 0.01, 0.1, 1], 'classifier__kernel': ['rbf']}\n"
          ]
        }
      ],
      "source": [
        "# TODO - Setup grid set\n",
        "# (4 marks)\n",
        "\n",
        "param_grid = {\n",
        "    'scaler': [StandardScaler(), RobustScaler(), None],\n",
        "    'classifier__C': [0.01, 0.1, 1, 10, 100],\n",
        "    'classifier__gamma': [0.001, 0.01, 0.1, 1],\n",
        "    'classifier__kernel': ['rbf']\n",
        "}\n",
        "print(\"Parameter grid configuration:\")\n",
        "print(param_grid)"
      ]
    },
    {
      "cell_type": "code",
      "execution_count": 119,
      "metadata": {
        "colab": {
          "base_uri": "https://localhost:8080/"
        },
        "id": "V4C0OOHDdbOO",
        "outputId": "96b9613d-83b3-49d6-f897-dd2e64f16949"
      },
      "outputs": [
        {
          "output_type": "stream",
          "name": "stdout",
          "text": [
            "Best parameters found: {'classifier__C': 100, 'classifier__gamma': 0.01, 'classifier__kernel': 'rbf', 'scaler': RobustScaler()}\n",
            "Best cross-validation accuracy: 0.9496718104759834\n"
          ]
        }
      ],
      "source": [
        "# Perform the grid search to train model and tune hyper parameters\n",
        "grid = GridSearchCV(\n",
        "    estimator=pipe,\n",
        "    param_grid=param_grid,\n",
        "    cv=5,\n",
        "    scoring='accuracy',\n",
        "    return_train_score=True\n",
        ")\n",
        "\n",
        "grid.fit(X_train, y_train)\n",
        "\n",
        "print(\"Best parameters found:\", grid.best_params_)\n",
        "print(\"Best cross-validation accuracy:\", grid.best_score_)"
      ]
    },
    {
      "cell_type": "markdown",
      "metadata": {
        "id": "sl_fjLMGdbOO"
      },
      "source": [
        "___"
      ]
    },
    {
      "cell_type": "markdown",
      "metadata": {
        "id": "HulZoIw_dbOT"
      },
      "source": [
        "#### 1.2.3 - Visualize Grid Search Results"
      ]
    },
    {
      "cell_type": "markdown",
      "metadata": {
        "id": "YYqAkHcYdbOT"
      },
      "source": [
        "___"
      ]
    },
    {
      "cell_type": "markdown",
      "metadata": {
        "id": "_qaxaX4OdbOT"
      },
      "source": [
        "Print the results from the grid search. The following outputs must be printed.\n",
        "* Best parameter set\n",
        "* Best cross-validation train score\n",
        "* Best cross-validation test score\n",
        "* Test set accuracy"
      ]
    },
    {
      "cell_type": "code",
      "execution_count": 120,
      "metadata": {
        "id": "7xaUj9CYdbOT",
        "colab": {
          "base_uri": "https://localhost:8080/"
        },
        "outputId": "85f3ac00-6f40-4437-8b0f-bbe229107f0f"
      },
      "outputs": [
        {
          "output_type": "stream",
          "name": "stdout",
          "text": [
            "Fitting 5 folds for each of 60 candidates, totalling 300 fits\n",
            "Best params:\n",
            "{'classifier__C': 100, 'classifier__gamma': 0.01, 'classifier__kernel': 'rbf', 'scaler': RobustScaler()}\n",
            "Best cross-validation train score: 0.95\n",
            "Best cross-validation validation score: 0.95\n",
            "Test-set score: 0.96\n"
          ]
        }
      ],
      "source": [
        "# TODO: Print the results from the grid search\n",
        "# (2 marks)\n",
        "\n",
        "\n",
        "grid_search = GridSearchCV(pipe, param_grid, cv=5, n_jobs=-1, verbose=1)\n",
        "grid_search.fit(X_train, y_train)\n",
        "best_params = grid_search.best_params_\n",
        "best_score = grid_search.best_score_\n",
        "test_score = grid_search.best_estimator_.score(X_test, y_test)\n",
        "\n",
        "print(\"Best params:\\n{}\".format(best_params))\n",
        "print(\"Best cross-validation train score: {:.2f}\".format(best_score))\n",
        "print(\"Best cross-validation validation score: {:.2f}\".format(grid_search.cv_results_['mean_test_score'][grid_search.best_index_]))\n",
        "print(\"Test-set score: {:.2f}\".format(test_score))"
      ]
    },
    {
      "cell_type": "markdown",
      "metadata": {
        "id": "-DxZdOOYdbOU"
      },
      "source": [
        "Display the confusion matrix and print the classification report for the trained model. Use the *(X_test, y_test)* dataset. **Hint** - You can use your code from assignment 3."
      ]
    },
    {
      "cell_type": "code",
      "execution_count": 121,
      "metadata": {
        "id": "0WjzUtQLdbOU",
        "colab": {
          "base_uri": "https://localhost:8080/",
          "height": 768
        },
        "outputId": "0151f3db-9adf-44bb-a950-36acb6a2683e"
      },
      "outputs": [
        {
          "output_type": "display_data",
          "data": {
            "text/plain": [
              "<Figure size 800x600 with 2 Axes>"
            ],
            "image/png": "[encoded data removed]"
          },
          "metadata": {}
        },
        {
          "output_type": "stream",
          "name": "stdout",
          "text": [
            "Classification Report:\n",
            "\n",
            "              precision    recall  f1-score   support\n",
            "\n",
            "        rest       0.94      0.99      0.96       155\n",
            "    straight       0.97      0.93      0.95       207\n",
            "        turn       0.95      0.97      0.96        99\n",
            "\n",
            "    accuracy                           0.96       461\n",
            "   macro avg       0.95      0.96      0.96       461\n",
            "weighted avg       0.96      0.96      0.96       461\n",
            "\n"
          ]
        }
      ],
      "source": [
        "# TODO - Display confusion matrix and print classification report for (X_test, y_test)\n",
        "# (2 marks)\n",
        "from sklearn.metrics import confusion_matrix, classification_report\n",
        "import matplotlib.pyplot as plt\n",
        "import seaborn as sns\n",
        "\n",
        "y_test_pred = grid.best_estimator_.predict(X_test)\n",
        "\n",
        "conf_matrix = confusion_matrix(y_test, y_test_pred)\n",
        "\n",
        "plt.figure(figsize=(8, 6))\n",
        "sns.heatmap(conf_matrix, annot=True, fmt='d', cmap='Blues', xticklabels=grid.classes_, yticklabels=grid.classes_)\n",
        "plt.xlabel('Predicted labels')\n",
        "plt.ylabel('True Labels')\n",
        "plt.title('Confusion Matrix')\n",
        "plt.show()\n",
        "\n",
        "print(\"Classification Report:\\n\")\n",
        "print(classification_report(y_test, y_test_pred))"
      ]
    },
    {
      "cell_type": "markdown",
      "metadata": {
        "id": "07OgKb_5dbOU"
      },
      "source": [
        "___"
      ]
    },
    {
      "cell_type": "markdown",
      "metadata": {
        "id": "xWpGQwPldbOU"
      },
      "source": [
        "#### 1.2.4 - Questions"
      ]
    },
    {
      "cell_type": "markdown",
      "source": [],
      "metadata": {
        "id": "oayR6qlpuH-L"
      }
    },
    {
      "cell_type": "markdown",
      "metadata": {
        "id": "RVm_JQV6dbOU"
      },
      "source": [
        "1. Comment on the fit of the model to the dataset? (2 marks)\n",
        "2. In the grid search, are the intervals used for *C* and *gamma* hyperparameters suitable? Why or why not? (2 marks)"
      ]
    },
    {
      "cell_type": "markdown",
      "metadata": {
        "id": "M7sEL_cgdbOU"
      },
      "source": [
        "#### 1.2.4 - Answers\n",
        "1.The model fits the dataset very well, achieving a high test-set accuracy of 96% and minimal misclassifications. The consistency between cross-validation and test-set accuracy indicates good generalization. High precision, recall, and F1-scores for all classes show balanced performance. Overall, the model demonstrates neither overfitting nor underfitting.\n",
        "\n",
        "\n",
        "2.  The intervals for C and gamma are suitable, as the best parameters (C=100, gamma=0.01) fall within the tested range. However, C=100 being the maximum suggests testing higher values (e.g., 500) could refine results. The gamma range captures the optimal value well, confirming its appropriateness. The intervals effectively balance exploration and performance optimization."
      ]
    },
    {
      "cell_type": "markdown",
      "metadata": {
        "id": "CfM49aOVdbOU"
      },
      "source": [
        "___"
      ]
    },
    {
      "cell_type": "markdown",
      "metadata": {
        "id": "AvWW7XK6dbOU"
      },
      "source": [
        "### 1.3 - Model Evaluation on Test Datasets 1 and 2 (9 Marks)"
      ]
    },
    {
      "cell_type": "markdown",
      "metadata": {
        "id": "SdyPKuLOdbOU"
      },
      "source": [
        "___"
      ]
    },
    {
      "cell_type": "markdown",
      "metadata": {
        "id": "Z3T3GMmEdbOU"
      },
      "source": [
        "#### 1.3.1 - Extract all features and targets from test datasets"
      ]
    },
    {
      "cell_type": "markdown",
      "metadata": {
        "id": "cJyPx9-OdbOU"
      },
      "source": [
        "Next, the model trained in 1.2 will be tested on independent datasets, that is *test_set1* and *test_set2*. <br>\n",
        "The test_sets must be seperated into features (Xs) and targets (ys)."
      ]
    },
    {
      "cell_type": "code",
      "execution_count": 122,
      "metadata": {
        "id": "7g-8tCGcdbOU",
        "colab": {
          "base_uri": "https://localhost:8080/",
          "height": 194
        },
        "outputId": "e41226b7-ba30-46af-fc3e-34e20bae777f"
      },
      "outputs": [
        {
          "output_type": "execute_result",
          "data": {
            "text/plain": [
              "     ax_sum    ay_sum    az_sum    gx_sum    gy_sum    gz_sum     a_sum  \\\n",
              "0  0.264465  0.089904  9.786930 -0.002305  0.000218 -0.001143  9.801661   \n",
              "1  0.264300  0.088882  9.788127 -0.001865 -0.000523 -0.001999  9.802481   \n",
              "\n",
              "      g_sum    ax_var        ay_var  ...     a_min     g_min    ax_max  \\\n",
              "0  0.025634  0.000001  7.749919e-08  ...  0.024056  0.000003  0.002506   \n",
              "1  0.025218  0.000001  9.243000e-08  ...  0.024084  0.000007  0.002427   \n",
              "\n",
              "     ay_max    az_max    gx_max    gy_max    gz_max     a_max     g_max  \n",
              "0  0.000845  0.024884  0.000155  0.000078  0.000069  0.024886  0.000170  \n",
              "1  0.000949  0.024881  0.000201  0.000095  0.000076  0.024883  0.000201  \n",
              "\n",
              "[2 rows x 32 columns]"
            ],
            "text/html": [
              "\n",
              "  <div id=\"df-85eeb6f2-9cad-4ce9-9633-7884727a39ce\" class=\"colab-df-container\">\n",
              "    <div>\n",
              "<style scoped>\n",
              "    .dataframe tbody tr th:only-of-type {\n",
              "        vertical-align: middle;\n",
              "    }\n",
              "\n",
              "    .dataframe tbody tr th {\n",
              "        vertical-align: top;\n",
              "    }\n",
              "\n",
              "    .dataframe thead th {\n",
              "        text-align: right;\n",
              "    }\n",
              "</style>\n",
              "<table border=\"1\" class=\"dataframe\">\n",
              "  <thead>\n",
              "    <tr style=\"text-align: right;\">\n",
              "      <th></th>\n",
              "      <th>ax_sum</th>\n",
              "      <th>ay_sum</th>\n",
              "      <th>az_sum</th>\n",
              "      <th>gx_sum</th>\n",
              "      <th>gy_sum</th>\n",
              "      <th>gz_sum</th>\n",
              "      <th>a_sum</th>\n",
              "      <th>g_sum</th>\n",
              "      <th>ax_var</th>\n",
              "      <th>ay_var</th>\n",
              "      <th>...</th>\n",
              "      <th>a_min</th>\n",
              "      <th>g_min</th>\n",
              "      <th>ax_max</th>\n",
              "      <th>ay_max</th>\n",
              "      <th>az_max</th>\n",
              "      <th>gx_max</th>\n",
              "      <th>gy_max</th>\n",
              "      <th>gz_max</th>\n",
              "      <th>a_max</th>\n",
              "      <th>g_max</th>\n",
              "    </tr>\n",
              "  </thead>\n",
              "  <tbody>\n",
              "    <tr>\n",
              "      <th>0</th>\n",
              "      <td>0.264465</td>\n",
              "      <td>0.089904</td>\n",
              "      <td>9.786930</td>\n",
              "      <td>-0.002305</td>\n",
              "      <td>0.000218</td>\n",
              "      <td>-0.001143</td>\n",
              "      <td>9.801661</td>\n",
              "      <td>0.025634</td>\n",
              "      <td>0.000001</td>\n",
              "      <td>7.749919e-08</td>\n",
              "      <td>...</td>\n",
              "      <td>0.024056</td>\n",
              "      <td>0.000003</td>\n",
              "      <td>0.002506</td>\n",
              "      <td>0.000845</td>\n",
              "      <td>0.024884</td>\n",
              "      <td>0.000155</td>\n",
              "      <td>0.000078</td>\n",
              "      <td>0.000069</td>\n",
              "      <td>0.024886</td>\n",
              "      <td>0.000170</td>\n",
              "    </tr>\n",
              "    <tr>\n",
              "      <th>1</th>\n",
              "      <td>0.264300</td>\n",
              "      <td>0.088882</td>\n",
              "      <td>9.788127</td>\n",
              "      <td>-0.001865</td>\n",
              "      <td>-0.000523</td>\n",
              "      <td>-0.001999</td>\n",
              "      <td>9.802481</td>\n",
              "      <td>0.025218</td>\n",
              "      <td>0.000001</td>\n",
              "      <td>9.243000e-08</td>\n",
              "      <td>...</td>\n",
              "      <td>0.024084</td>\n",
              "      <td>0.000007</td>\n",
              "      <td>0.002427</td>\n",
              "      <td>0.000949</td>\n",
              "      <td>0.024881</td>\n",
              "      <td>0.000201</td>\n",
              "      <td>0.000095</td>\n",
              "      <td>0.000076</td>\n",
              "      <td>0.024883</td>\n",
              "      <td>0.000201</td>\n",
              "    </tr>\n",
              "  </tbody>\n",
              "</table>\n",
              "<p>2 rows × 32 columns</p>\n",
              "</div>\n",
              "    <div class=\"colab-df-buttons\">\n",
              "\n",
              "  <div class=\"colab-df-container\">\n",
              "    <button class=\"colab-df-convert\" onclick=\"convertToInteractive('df-85eeb6f2-9cad-4ce9-9633-7884727a39ce')\"\n",
              "            title=\"Convert this dataframe to an interactive table.\"\n",
              "            style=\"display:none;\">\n",
              "\n",
              "  <svg xmlns=\"http://www.w3.org/2000/svg\" height=\"24px\" viewBox=\"0 -960 960 960\">\n",
              "    <path d=\"M120-120v-720h720v720H120Zm60-500h600v-160H180v160Zm220 220h160v-160H400v160Zm0 220h160v-160H400v160ZM180-400h160v-160H180v160Zm440 0h160v-160H620v160ZM180-180h160v-160H180v160Zm440 0h160v-160H620v160Z\"/>\n",
              "  </svg>\n",
              "    </button>\n",
              "\n",
              "  <style>\n",
              "    .colab-df-container {\n",
              "      display:flex;\n",
              "      gap: 12px;\n",
              "    }\n",
              "\n",
              "    .colab-df-convert {\n",
              "      background-color: #E8F0FE;\n",
              "      border: none;\n",
              "      border-radius: 50%;\n",
              "      cursor: pointer;\n",
              "      display: none;\n",
              "      fill: #1967D2;\n",
              "      height: 32px;\n",
              "      padding: 0 0 0 0;\n",
              "      width: 32px;\n",
              "    }\n",
              "\n",
              "    .colab-df-convert:hover {\n",
              "      background-color: #E2EBFA;\n",
              "      box-shadow: 0px 1px 2px rgba(60, 64, 67, 0.3), 0px 1px 3px 1px rgba(60, 64, 67, 0.15);\n",
              "      fill: #174EA6;\n",
              "    }\n",
              "\n",
              "    .colab-df-buttons div {\n",
              "      margin-bottom: 4px;\n",
              "    }\n",
              "\n",
              "    [theme=dark] .colab-df-convert {\n",
              "      background-color: #3B4455;\n",
              "      fill: #D2E3FC;\n",
              "    }\n",
              "\n",
              "    [theme=dark] .colab-df-convert:hover {\n",
              "      background-color: #434B5C;\n",
              "      box-shadow: 0px 1px 3px 1px rgba(0, 0, 0, 0.15);\n",
              "      filter: drop-shadow(0px 1px 2px rgba(0, 0, 0, 0.3));\n",
              "      fill: #FFFFFF;\n",
              "    }\n",
              "  </style>\n",
              "\n",
              "    <script>\n",
              "      const buttonEl =\n",
              "        document.querySelector('#df-85eeb6f2-9cad-4ce9-9633-7884727a39ce button.colab-df-convert');\n",
              "      buttonEl.style.display =\n",
              "        google.colab.kernel.accessAllowed ? 'block' : 'none';\n",
              "\n",
              "      async function convertToInteractive(key) {\n",
              "        const element = document.querySelector('#df-85eeb6f2-9cad-4ce9-9633-7884727a39ce');\n",
              "        const dataTable =\n",
              "          await google.colab.kernel.invokeFunction('convertToInteractive',\n",
              "                                                    [key], {});\n",
              "        if (!dataTable) return;\n",
              "\n",
              "        const docLinkHtml = 'Like what you see? Visit the ' +\n",
              "          '<a target=\"_blank\" href=https://colab.research.google.com/notebooks/data_table.ipynb>data table notebook</a>'\n",
              "          + ' to learn more about interactive tables.';\n",
              "        element.innerHTML = '';\n",
              "        dataTable['output_type'] = 'display_data';\n",
              "        await google.colab.output.renderOutput(dataTable, element);\n",
              "        const docLink = document.createElement('div');\n",
              "        docLink.innerHTML = docLinkHtml;\n",
              "        element.appendChild(docLink);\n",
              "      }\n",
              "    </script>\n",
              "  </div>\n",
              "\n",
              "\n",
              "<div id=\"df-f770cb04-c148-4303-adff-c3dd98d146cb\">\n",
              "  <button class=\"colab-df-quickchart\" onclick=\"quickchart('df-f770cb04-c148-4303-adff-c3dd98d146cb')\"\n",
              "            title=\"Suggest charts\"\n",
              "            style=\"display:none;\">\n",
              "\n",
              "<svg xmlns=\"http://www.w3.org/2000/svg\" height=\"24px\"viewBox=\"0 0 24 24\"\n",
              "     width=\"24px\">\n",
              "    <g>\n",
              "        <path d=\"M19 3H5c-1.1 0-2 .9-2 2v14c0 1.1.9 2 2 2h14c1.1 0 2-.9 2-2V5c0-1.1-.9-2-2-2zM9 17H7v-7h2v7zm4 0h-2V7h2v10zm4 0h-2v-4h2v4z\"/>\n",
              "    </g>\n",
              "</svg>\n",
              "  </button>\n",
              "\n",
              "<style>\n",
              "  .colab-df-quickchart {\n",
              "      --bg-color: #E8F0FE;\n",
              "      --fill-color: #1967D2;\n",
              "      --hover-bg-color: #E2EBFA;\n",
              "      --hover-fill-color: #174EA6;\n",
              "      --disabled-fill-color: #AAA;\n",
              "      --disabled-bg-color: #DDD;\n",
              "  }\n",
              "\n",
              "  [theme=dark] .colab-df-quickchart {\n",
              "      --bg-color: #3B4455;\n",
              "      --fill-color: #D2E3FC;\n",
              "      --hover-bg-color: #434B5C;\n",
              "      --hover-fill-color: #FFFFFF;\n",
              "      --disabled-bg-color: #3B4455;\n",
              "      --disabled-fill-color: #666;\n",
              "  }\n",
              "\n",
              "  .colab-df-quickchart {\n",
              "    background-color: var(--bg-color);\n",
              "    border: none;\n",
              "    border-radius: 50%;\n",
              "    cursor: pointer;\n",
              "    display: none;\n",
              "    fill: var(--fill-color);\n",
              "    height: 32px;\n",
              "    padding: 0;\n",
              "    width: 32px;\n",
              "  }\n",
              "\n",
              "  .colab-df-quickchart:hover {\n",
              "    background-color: var(--hover-bg-color);\n",
              "    box-shadow: 0 1px 2px rgba(60, 64, 67, 0.3), 0 1px 3px 1px rgba(60, 64, 67, 0.15);\n",
              "    fill: var(--button-hover-fill-color);\n",
              "  }\n",
              "\n",
              "  .colab-df-quickchart-complete:disabled,\n",
              "  .colab-df-quickchart-complete:disabled:hover {\n",
              "    background-color: var(--disabled-bg-color);\n",
              "    fill: var(--disabled-fill-color);\n",
              "    box-shadow: none;\n",
              "  }\n",
              "\n",
              "  .colab-df-spinner {\n",
              "    border: 2px solid var(--fill-color);\n",
              "    border-color: transparent;\n",
              "    border-bottom-color: var(--fill-color);\n",
              "    animation:\n",
              "      spin 1s steps(1) infinite;\n",
              "  }\n",
              "\n",
              "  @keyframes spin {\n",
              "    0% {\n",
              "      border-color: transparent;\n",
              "      border-bottom-color: var(--fill-color);\n",
              "      border-left-color: var(--fill-color);\n",
              "    }\n",
              "    20% {\n",
              "      border-color: transparent;\n",
              "      border-left-color: var(--fill-color);\n",
              "      border-top-color: var(--fill-color);\n",
              "    }\n",
              "    30% {\n",
              "      border-color: transparent;\n",
              "      border-left-color: var(--fill-color);\n",
              "      border-top-color: var(--fill-color);\n",
              "      border-right-color: var(--fill-color);\n",
              "    }\n",
              "    40% {\n",
              "      border-color: transparent;\n",
              "      border-right-color: var(--fill-color);\n",
              "      border-top-color: var(--fill-color);\n",
              "    }\n",
              "    60% {\n",
              "      border-color: transparent;\n",
              "      border-right-color: var(--fill-color);\n",
              "    }\n",
              "    80% {\n",
              "      border-color: transparent;\n",
              "      border-right-color: var(--fill-color);\n",
              "      border-bottom-color: var(--fill-color);\n",
              "    }\n",
              "    90% {\n",
              "      border-color: transparent;\n",
              "      border-bottom-color: var(--fill-color);\n",
              "    }\n",
              "  }\n",
              "</style>\n",
              "\n",
              "  <script>\n",
              "    async function quickchart(key) {\n",
              "      const quickchartButtonEl =\n",
              "        document.querySelector('#' + key + ' button');\n",
              "      quickchartButtonEl.disabled = true;  // To prevent multiple clicks.\n",
              "      quickchartButtonEl.classList.add('colab-df-spinner');\n",
              "      try {\n",
              "        const charts = await google.colab.kernel.invokeFunction(\n",
              "            'suggestCharts', [key], {});\n",
              "      } catch (error) {\n",
              "        console.error('Error during call to suggestCharts:', error);\n",
              "      }\n",
              "      quickchartButtonEl.classList.remove('colab-df-spinner');\n",
              "      quickchartButtonEl.classList.add('colab-df-quickchart-complete');\n",
              "    }\n",
              "    (() => {\n",
              "      let quickchartButtonEl =\n",
              "        document.querySelector('#df-f770cb04-c148-4303-adff-c3dd98d146cb button');\n",
              "      quickchartButtonEl.style.display =\n",
              "        google.colab.kernel.accessAllowed ? 'block' : 'none';\n",
              "    })();\n",
              "  </script>\n",
              "</div>\n",
              "\n",
              "    </div>\n",
              "  </div>\n"
            ],
            "application/vnd.google.colaboratory.intrinsic+json": {
              "type": "dataframe",
              "variable_name": "X1"
            }
          },
          "metadata": {},
          "execution_count": 122
        }
      ],
      "source": [
        "# TODO - Load the target vector from test_set1 into y1, and all features from test_set1 into X1\n",
        "# (1 marks)\n",
        "y1 = test_set1['motion_state']\n",
        "X1 = test_set1.drop(columns=['motion_state'])\n",
        "X1.head(2)"
      ]
    },
    {
      "cell_type": "code",
      "execution_count": 123,
      "metadata": {
        "id": "z1PnE3jedbOU",
        "colab": {
          "base_uri": "https://localhost:8080/"
        },
        "outputId": "764c06da-8bb3-47ea-bc7f-a4aabd915535"
      },
      "outputs": [
        {
          "output_type": "stream",
          "name": "stdout",
          "text": [
            "     ax_sum    ay_sum    az_sum    gx_sum    gy_sum    gz_sum     a_sum  \\\n",
            "0 -0.046400  0.305907  9.791451 -0.002184  0.001311 -0.001901  9.800683   \n",
            "1 -0.050073  0.311947  9.785619 -0.003369  0.001898 -0.002051  9.797741   \n",
            "\n",
            "      g_sum    ax_var        ay_var  ...     a_min     g_min    ax_max  \\\n",
            "0  0.012437  0.000002  3.020959e-07  ...  0.048406  0.000007  0.002575   \n",
            "1  0.013805  0.000003  6.859937e-07  ...  0.047696  0.000013  0.003880   \n",
            "\n",
            "     ay_max    az_max    gx_max    gy_max    gz_max     a_max     g_max  \n",
            "0  0.002993  0.049701  0.000094  0.000115  0.000080  0.049764  0.000142  \n",
            "1  0.004106  0.050477  0.000140  0.000140  0.000083  0.050763  0.000151  \n",
            "\n",
            "[2 rows x 32 columns]\n"
          ]
        }
      ],
      "source": [
        "# TODO - Load the target vector from test_set2 into y2, and all features from test_set2 into X2\n",
        "y2 = test_set2['motion_state']\n",
        "X2 = test_set2.drop(columns=['motion_state'])\n",
        "\n",
        "print(X2.head(2))"
      ]
    },
    {
      "cell_type": "markdown",
      "metadata": {
        "id": "Yt6y-v4ydbOV"
      },
      "source": [
        "____"
      ]
    },
    {
      "cell_type": "markdown",
      "metadata": {
        "id": "vFJlz5h7dbOV"
      },
      "source": [
        "#### 1.3.2 - Visualize Results"
      ]
    },
    {
      "cell_type": "markdown",
      "metadata": {
        "id": "z5-XUtkhdbOV"
      },
      "source": [
        "For each test dataset, print the test set accuracy score."
      ]
    },
    {
      "cell_type": "code",
      "execution_count": 124,
      "metadata": {
        "id": "PPuB0YRkdbOV",
        "colab": {
          "base_uri": "https://localhost:8080/"
        },
        "outputId": "00c651fb-6492-409a-e24b-9cbf31e4822d"
      },
      "outputs": [
        {
          "output_type": "stream",
          "name": "stdout",
          "text": [
            "test_set1 score: 0.92\n",
            "test_set2 score: 0.25\n"
          ]
        }
      ],
      "source": [
        "# TODO - Print test score accuracies for test_set1 and test_set2\n",
        "# (1 marks)\n",
        "\n",
        "test_set1_score = grid.best_estimator_.score(X1, y1)\n",
        "test_set2_score = grid.best_estimator_.score(X2, y2)\n",
        "\n",
        "print(\"test_set1 score: {:.2f}\".format(test_set1_score))\n",
        "print(\"test_set2 score: {:.2f}\".format(test_set2_score))"
      ]
    },
    {
      "cell_type": "markdown",
      "metadata": {
        "id": "QnQSKGFddbOV"
      },
      "source": [
        "Display the confusion matrix and print the classification for test_set 1 *(X1, y1)*"
      ]
    },
    {
      "cell_type": "code",
      "execution_count": 125,
      "metadata": {
        "id": "-MubaHkddbOV",
        "colab": {
          "base_uri": "https://localhost:8080/",
          "height": 768
        },
        "outputId": "eef36645-31c0-42ac-b3d0-f7c7f29fab82"
      },
      "outputs": [
        {
          "output_type": "display_data",
          "data": {
            "text/plain": [
              "<Figure size 800x600 with 2 Axes>"
            ],
            "image/png": "[encoded data removed]"
          },
          "metadata": {}
        },
        {
          "output_type": "stream",
          "name": "stdout",
          "text": [
            "Classification Report for Test Set 1:\n",
            "\n",
            "              precision    recall  f1-score   support\n",
            "\n",
            "        rest       0.97      0.87      0.91       231\n",
            "    straight       0.91      0.94      0.93       411\n",
            "        turn       0.89      0.95      0.92       141\n",
            "\n",
            "    accuracy                           0.92       783\n",
            "   macro avg       0.92      0.92      0.92       783\n",
            "weighted avg       0.92      0.92      0.92       783\n",
            "\n"
          ]
        }
      ],
      "source": [
        "# TODO - Display confusion matrix and print classification report for (X1, y1)\n",
        "# (1 marks)\n",
        "y1_pred = grid.best_estimator_.predict(X1)\n",
        "\n",
        "conf_matrix_1 = confusion_matrix(y1, y1_pred)\n",
        "\n",
        "plt.figure(figsize=(8,6))\n",
        "sns.heatmap(conf_matrix_1, annot=True, fmt='d', cmap='Blues', xticklabels=grid.classes_, yticklabels=grid.classes_)\n",
        "plt.xlabel('Predicted Labels')\n",
        "plt.ylabel('True Labels')\n",
        "plt.title('Confusion Matrix for Test Set 1')\n",
        "plt.show()\n",
        "\n",
        "print(\"Classification Report for Test Set 1:\\n\")\n",
        "print(classification_report(y1, y1_pred))"
      ]
    },
    {
      "cell_type": "markdown",
      "metadata": {
        "id": "ByE6PbRvdbOV"
      },
      "source": [
        "Display the confusion matrix and print the classification for test_set 2 *(X2, y2)*"
      ]
    },
    {
      "cell_type": "code",
      "execution_count": 126,
      "metadata": {
        "id": "Np5uTt0hdbOV",
        "colab": {
          "base_uri": "https://localhost:8080/",
          "height": 890
        },
        "outputId": "b3e85c36-4a3f-453f-d581-411c0fcd3afb"
      },
      "outputs": [
        {
          "output_type": "display_data",
          "data": {
            "text/plain": [
              "<Figure size 800x600 with 2 Axes>"
            ],
            "image/png": "[encoded data removed]"
          },
          "metadata": {}
        },
        {
          "output_type": "stream",
          "name": "stdout",
          "text": [
            "Classification Report for Test Set 2:\n",
            "\n",
            "              precision    recall  f1-score   support\n",
            "\n",
            "        rest       0.00      0.00      0.00        16\n",
            "    straight       0.00      0.00      0.00       206\n",
            "        turn       0.25      1.00      0.40        75\n",
            "\n",
            "    accuracy                           0.25       297\n",
            "   macro avg       0.08      0.33      0.13       297\n",
            "weighted avg       0.06      0.25      0.10       297\n",
            "\n"
          ]
        },
        {
          "output_type": "stream",
          "name": "stderr",
          "text": [
            "/usr/local/lib/python3.10/dist-packages/sklearn/metrics/_classification.py:1531: UndefinedMetricWarning: Precision is ill-defined and being set to 0.0 in labels with no predicted samples. Use `zero_division` parameter to control this behavior.\n",
            "  _warn_prf(average, modifier, f\"{metric.capitalize()} is\", len(result))\n",
            "/usr/local/lib/python3.10/dist-packages/sklearn/metrics/_classification.py:1531: UndefinedMetricWarning: Precision is ill-defined and being set to 0.0 in labels with no predicted samples. Use `zero_division` parameter to control this behavior.\n",
            "  _warn_prf(average, modifier, f\"{metric.capitalize()} is\", len(result))\n",
            "/usr/local/lib/python3.10/dist-packages/sklearn/metrics/_classification.py:1531: UndefinedMetricWarning: Precision is ill-defined and being set to 0.0 in labels with no predicted samples. Use `zero_division` parameter to control this behavior.\n",
            "  _warn_prf(average, modifier, f\"{metric.capitalize()} is\", len(result))\n"
          ]
        }
      ],
      "source": [
        "# TODO - Display confusion matrix and print classification report for (X2, y2)\n",
        "y2_pred = grid.best_estimator_.predict(X2)\n",
        "\n",
        "conf_matrix_2 = confusion_matrix(y2, y2_pred)\n",
        "\n",
        "plt.figure(figsize=(8, 6))\n",
        "sns.heatmap(conf_matrix_2, annot=True, fmt='d', cmap='Blues', xticklabels=grid.classes_, yticklabels=grid.classes_)\n",
        "plt.xlabel('Predicted Labels')\n",
        "plt.ylabel('True Labels')\n",
        "plt.title('Confusion Matrix for Test Set 2')\n",
        "plt.show()\n",
        "\n",
        "print(\"Classification Report for Test Set 2:\\n\")\n",
        "print(classification_report(y2, y2_pred))"
      ]
    },
    {
      "cell_type": "markdown",
      "metadata": {
        "id": "gg6zdnSOdbOV"
      },
      "source": [
        "___"
      ]
    },
    {
      "cell_type": "markdown",
      "metadata": {
        "id": "BHgUMpkQdbOV"
      },
      "source": [
        "#### 1.3.3 - Questions"
      ]
    },
    {
      "cell_type": "markdown",
      "metadata": {
        "id": "U3C1x-oYdbOV"
      },
      "source": [
        "**Based on results so far**\n",
        "1. Comment on the model's performances on the datasets *(X_test, y_test)*, *(X1, y1)*, *(X2, y2)*? A significant difference in performance should be observed, what is this an example of? (3 marks)\n",
        "1. Provide and explain potential causes for the observed behaviour in performance? (3 marks)"
      ]
    },
    {
      "cell_type": "markdown",
      "metadata": {
        "id": "X0R6NkhbdbOW"
      },
      "source": [
        "#### 1.3.3 - Answers\n",
        "1.\n",
        "The model performs exceptionally well on the (X_test, y_test) dataset with an accuracy of 96%, indicating high precision, recall, and F1-scores for all classes.\n",
        "The performance on (X1, y1) is decent, with an accuracy of 92%, showing good generalization but slightly lower precision and recall compared to (X_test, y_test).\n",
        "The performance on (X2, y2) is significantly worse, with an accuracy of only 25%, as the model fails to classify two of the three classes entirely.\n",
        "\n",
        "This significant difference in performance is an example of data distribution shift or domain mismatch, where the model trained on one data distribution struggles to generalize to a dataset with different characteristics.\n",
        "\n",
        "2.\n",
        "\n",
        "The model performs well on (X_test, y_test) with 96% accuracy and balanced precision/recall, indicating good generalization. It achieves slightly lower accuracy (92%) on (X1, y1) but still performs well, suggesting a moderate alignment with training data. However, it performs poorly on (X2, y2) with 25% accuracy, failing to generalize. This disparity exemplifies dataset shift, where the test data distribution differs from the training data.\n",
        "\n",
        "**Potential Causes for Observed Behavior:**\n",
        "1.\t**Data Distribution Shift:** Features or class distributions in X2 may differ significantly from training data.\n",
        "2.\t**Insufficient Training Diversity:** Training data may not fully capture the variations present in X2.\n",
        "3.\t**Overfitting:** The model might have learned patterns specific to training data, limiting its ability to generalize to unseen distributions.\n"
      ]
    },
    {
      "cell_type": "markdown",
      "metadata": {
        "id": "d4kuAsR9dbOW"
      },
      "source": [
        "___"
      ]
    },
    {
      "cell_type": "markdown",
      "metadata": {
        "id": "EnyHXQO3dbOW"
      },
      "source": [
        "## Section 2 - Classification Using *Selected Features* Derived From Inertial Sensor Data (12 Marks)"
      ]
    },
    {
      "cell_type": "markdown",
      "metadata": {
        "id": "ScD934WzdbOW"
      },
      "source": [
        "In this second section, an *SVC* model will be trained and tuned using grid search, however, only *selected features* will be used."
      ]
    },
    {
      "cell_type": "markdown",
      "metadata": {
        "id": "8cU7xGiydbOW"
      },
      "source": [
        "___"
      ]
    },
    {
      "cell_type": "markdown",
      "metadata": {
        "id": "uRNmsGMIdbOW"
      },
      "source": [
        "### 2.1 Grid Search with Cross Validation (5 Marks)"
      ]
    },
    {
      "cell_type": "markdown",
      "metadata": {
        "id": "gIi4n4NKdbOW"
      },
      "source": [
        "___"
      ]
    },
    {
      "cell_type": "markdown",
      "metadata": {
        "id": "kuRqvXxZdbOW"
      },
      "source": [
        "#### 2.1.1 Extract *selected* features and target from *cv_set*"
      ]
    },
    {
      "cell_type": "markdown",
      "metadata": {
        "id": "w9E8DlzCdbOW"
      },
      "source": [
        "From the *cv_set* dataframe, extract the selected features, listed below, and load them in a new dataframe *X*.\n",
        "* *ax_var* - variance of accelerometer readings in x\n",
        "* *ay_var* - variance of accelerometer readings in y\n",
        "* *az_sum* - sum of accelerometer z readings\n",
        "* *a_sum* - sum of the norm of accelerometer x, y, z readings\n",
        "* *gz_var* - variance of gyroscope reading in z"
      ]
    },
    {
      "cell_type": "code",
      "execution_count": 127,
      "metadata": {
        "id": "8XdaAXAldbOW",
        "colab": {
          "base_uri": "https://localhost:8080/",
          "height": 111
        },
        "outputId": "a391d9a0-f2a2-4132-9aec-528f7af262e5"
      },
      "outputs": [
        {
          "output_type": "execute_result",
          "data": {
            "text/plain": [
              "         ax_var        ay_var    az_sum     a_sum        gz_var\n",
              "0  8.046094e-07  1.319665e-07  9.789349  9.797418  7.446916e-10\n",
              "1  1.032619e-06  1.073067e-07  9.789095  9.798815  6.983481e-10"
            ],
            "text/html": [
              "\n",
              "  <div id=\"df-b644f980-8eb7-49ef-a979-dcc355055398\" class=\"colab-df-container\">\n",
              "    <div>\n",
              "<style scoped>\n",
              "    .dataframe tbody tr th:only-of-type {\n",
              "        vertical-align: middle;\n",
              "    }\n",
              "\n",
              "    .dataframe tbody tr th {\n",
              "        vertical-align: top;\n",
              "    }\n",
              "\n",
              "    .dataframe thead th {\n",
              "        text-align: right;\n",
              "    }\n",
              "</style>\n",
              "<table border=\"1\" class=\"dataframe\">\n",
              "  <thead>\n",
              "    <tr style=\"text-align: right;\">\n",
              "      <th></th>\n",
              "      <th>ax_var</th>\n",
              "      <th>ay_var</th>\n",
              "      <th>az_sum</th>\n",
              "      <th>a_sum</th>\n",
              "      <th>gz_var</th>\n",
              "    </tr>\n",
              "  </thead>\n",
              "  <tbody>\n",
              "    <tr>\n",
              "      <th>0</th>\n",
              "      <td>8.046094e-07</td>\n",
              "      <td>1.319665e-07</td>\n",
              "      <td>9.789349</td>\n",
              "      <td>9.797418</td>\n",
              "      <td>7.446916e-10</td>\n",
              "    </tr>\n",
              "    <tr>\n",
              "      <th>1</th>\n",
              "      <td>1.032619e-06</td>\n",
              "      <td>1.073067e-07</td>\n",
              "      <td>9.789095</td>\n",
              "      <td>9.798815</td>\n",
              "      <td>6.983481e-10</td>\n",
              "    </tr>\n",
              "  </tbody>\n",
              "</table>\n",
              "</div>\n",
              "    <div class=\"colab-df-buttons\">\n",
              "\n",
              "  <div class=\"colab-df-container\">\n",
              "    <button class=\"colab-df-convert\" onclick=\"convertToInteractive('df-b644f980-8eb7-49ef-a979-dcc355055398')\"\n",
              "            title=\"Convert this dataframe to an interactive table.\"\n",
              "            style=\"display:none;\">\n",
              "\n",
              "  <svg xmlns=\"http://www.w3.org/2000/svg\" height=\"24px\" viewBox=\"0 -960 960 960\">\n",
              "    <path d=\"M120-120v-720h720v720H120Zm60-500h600v-160H180v160Zm220 220h160v-160H400v160Zm0 220h160v-160H400v160ZM180-400h160v-160H180v160Zm440 0h160v-160H620v160ZM180-180h160v-160H180v160Zm440 0h160v-160H620v160Z\"/>\n",
              "  </svg>\n",
              "    </button>\n",
              "\n",
              "  <style>\n",
              "    .colab-df-container {\n",
              "      display:flex;\n",
              "      gap: 12px;\n",
              "    }\n",
              "\n",
              "    .colab-df-convert {\n",
              "      background-color: #E8F0FE;\n",
              "      border: none;\n",
              "      border-radius: 50%;\n",
              "      cursor: pointer;\n",
              "      display: none;\n",
              "      fill: #1967D2;\n",
              "      height: 32px;\n",
              "      padding: 0 0 0 0;\n",
              "      width: 32px;\n",
              "    }\n",
              "\n",
              "    .colab-df-convert:hover {\n",
              "      background-color: #E2EBFA;\n",
              "      box-shadow: 0px 1px 2px rgba(60, 64, 67, 0.3), 0px 1px 3px 1px rgba(60, 64, 67, 0.15);\n",
              "      fill: #174EA6;\n",
              "    }\n",
              "\n",
              "    .colab-df-buttons div {\n",
              "      margin-bottom: 4px;\n",
              "    }\n",
              "\n",
              "    [theme=dark] .colab-df-convert {\n",
              "      background-color: #3B4455;\n",
              "      fill: #D2E3FC;\n",
              "    }\n",
              "\n",
              "    [theme=dark] .colab-df-convert:hover {\n",
              "      background-color: #434B5C;\n",
              "      box-shadow: 0px 1px 3px 1px rgba(0, 0, 0, 0.15);\n",
              "      filter: drop-shadow(0px 1px 2px rgba(0, 0, 0, 0.3));\n",
              "      fill: #FFFFFF;\n",
              "    }\n",
              "  </style>\n",
              "\n",
              "    <script>\n",
              "      const buttonEl =\n",
              "        document.querySelector('#df-b644f980-8eb7-49ef-a979-dcc355055398 button.colab-df-convert');\n",
              "      buttonEl.style.display =\n",
              "        google.colab.kernel.accessAllowed ? 'block' : 'none';\n",
              "\n",
              "      async function convertToInteractive(key) {\n",
              "        const element = document.querySelector('#df-b644f980-8eb7-49ef-a979-dcc355055398');\n",
              "        const dataTable =\n",
              "          await google.colab.kernel.invokeFunction('convertToInteractive',\n",
              "                                                    [key], {});\n",
              "        if (!dataTable) return;\n",
              "\n",
              "        const docLinkHtml = 'Like what you see? Visit the ' +\n",
              "          '<a target=\"_blank\" href=https://colab.research.google.com/notebooks/data_table.ipynb>data table notebook</a>'\n",
              "          + ' to learn more about interactive tables.';\n",
              "        element.innerHTML = '';\n",
              "        dataTable['output_type'] = 'display_data';\n",
              "        await google.colab.output.renderOutput(dataTable, element);\n",
              "        const docLink = document.createElement('div');\n",
              "        docLink.innerHTML = docLinkHtml;\n",
              "        element.appendChild(docLink);\n",
              "      }\n",
              "    </script>\n",
              "  </div>\n",
              "\n",
              "\n",
              "<div id=\"df-8caaa472-9d58-4d2f-a91e-86ae8633b74f\">\n",
              "  <button class=\"colab-df-quickchart\" onclick=\"quickchart('df-8caaa472-9d58-4d2f-a91e-86ae8633b74f')\"\n",
              "            title=\"Suggest charts\"\n",
              "            style=\"display:none;\">\n",
              "\n",
              "<svg xmlns=\"http://www.w3.org/2000/svg\" height=\"24px\"viewBox=\"0 0 24 24\"\n",
              "     width=\"24px\">\n",
              "    <g>\n",
              "        <path d=\"M19 3H5c-1.1 0-2 .9-2 2v14c0 1.1.9 2 2 2h14c1.1 0 2-.9 2-2V5c0-1.1-.9-2-2-2zM9 17H7v-7h2v7zm4 0h-2V7h2v10zm4 0h-2v-4h2v4z\"/>\n",
              "    </g>\n",
              "</svg>\n",
              "  </button>\n",
              "\n",
              "<style>\n",
              "  .colab-df-quickchart {\n",
              "      --bg-color: #E8F0FE;\n",
              "      --fill-color: #1967D2;\n",
              "      --hover-bg-color: #E2EBFA;\n",
              "      --hover-fill-color: #174EA6;\n",
              "      --disabled-fill-color: #AAA;\n",
              "      --disabled-bg-color: #DDD;\n",
              "  }\n",
              "\n",
              "  [theme=dark] .colab-df-quickchart {\n",
              "      --bg-color: #3B4455;\n",
              "      --fill-color: #D2E3FC;\n",
              "      --hover-bg-color: #434B5C;\n",
              "      --hover-fill-color: #FFFFFF;\n",
              "      --disabled-bg-color: #3B4455;\n",
              "      --disabled-fill-color: #666;\n",
              "  }\n",
              "\n",
              "  .colab-df-quickchart {\n",
              "    background-color: var(--bg-color);\n",
              "    border: none;\n",
              "    border-radius: 50%;\n",
              "    cursor: pointer;\n",
              "    display: none;\n",
              "    fill: var(--fill-color);\n",
              "    height: 32px;\n",
              "    padding: 0;\n",
              "    width: 32px;\n",
              "  }\n",
              "\n",
              "  .colab-df-quickchart:hover {\n",
              "    background-color: var(--hover-bg-color);\n",
              "    box-shadow: 0 1px 2px rgba(60, 64, 67, 0.3), 0 1px 3px 1px rgba(60, 64, 67, 0.15);\n",
              "    fill: var(--button-hover-fill-color);\n",
              "  }\n",
              "\n",
              "  .colab-df-quickchart-complete:disabled,\n",
              "  .colab-df-quickchart-complete:disabled:hover {\n",
              "    background-color: var(--disabled-bg-color);\n",
              "    fill: var(--disabled-fill-color);\n",
              "    box-shadow: none;\n",
              "  }\n",
              "\n",
              "  .colab-df-spinner {\n",
              "    border: 2px solid var(--fill-color);\n",
              "    border-color: transparent;\n",
              "    border-bottom-color: var(--fill-color);\n",
              "    animation:\n",
              "      spin 1s steps(1) infinite;\n",
              "  }\n",
              "\n",
              "  @keyframes spin {\n",
              "    0% {\n",
              "      border-color: transparent;\n",
              "      border-bottom-color: var(--fill-color);\n",
              "      border-left-color: var(--fill-color);\n",
              "    }\n",
              "    20% {\n",
              "      border-color: transparent;\n",
              "      border-left-color: var(--fill-color);\n",
              "      border-top-color: var(--fill-color);\n",
              "    }\n",
              "    30% {\n",
              "      border-color: transparent;\n",
              "      border-left-color: var(--fill-color);\n",
              "      border-top-color: var(--fill-color);\n",
              "      border-right-color: var(--fill-color);\n",
              "    }\n",
              "    40% {\n",
              "      border-color: transparent;\n",
              "      border-right-color: var(--fill-color);\n",
              "      border-top-color: var(--fill-color);\n",
              "    }\n",
              "    60% {\n",
              "      border-color: transparent;\n",
              "      border-right-color: var(--fill-color);\n",
              "    }\n",
              "    80% {\n",
              "      border-color: transparent;\n",
              "      border-right-color: var(--fill-color);\n",
              "      border-bottom-color: var(--fill-color);\n",
              "    }\n",
              "    90% {\n",
              "      border-color: transparent;\n",
              "      border-bottom-color: var(--fill-color);\n",
              "    }\n",
              "  }\n",
              "</style>\n",
              "\n",
              "  <script>\n",
              "    async function quickchart(key) {\n",
              "      const quickchartButtonEl =\n",
              "        document.querySelector('#' + key + ' button');\n",
              "      quickchartButtonEl.disabled = true;  // To prevent multiple clicks.\n",
              "      quickchartButtonEl.classList.add('colab-df-spinner');\n",
              "      try {\n",
              "        const charts = await google.colab.kernel.invokeFunction(\n",
              "            'suggestCharts', [key], {});\n",
              "      } catch (error) {\n",
              "        console.error('Error during call to suggestCharts:', error);\n",
              "      }\n",
              "      quickchartButtonEl.classList.remove('colab-df-spinner');\n",
              "      quickchartButtonEl.classList.add('colab-df-quickchart-complete');\n",
              "    }\n",
              "    (() => {\n",
              "      let quickchartButtonEl =\n",
              "        document.querySelector('#df-8caaa472-9d58-4d2f-a91e-86ae8633b74f button');\n",
              "      quickchartButtonEl.style.display =\n",
              "        google.colab.kernel.accessAllowed ? 'block' : 'none';\n",
              "    })();\n",
              "  </script>\n",
              "</div>\n",
              "\n",
              "    </div>\n",
              "  </div>\n"
            ],
            "application/vnd.google.colaboratory.intrinsic+json": {
              "type": "dataframe",
              "variable_name": "X",
              "summary": "{\n  \"name\": \"X\",\n  \"rows\": 1534,\n  \"fields\": [\n    {\n      \"column\": \"ax_var\",\n      \"properties\": {\n        \"dtype\": \"number\",\n        \"std\": 3.4902110084546388e-06,\n        \"min\": 2.300688477552033e-07,\n        \"max\": 3.715872595692536e-05,\n        \"num_unique_values\": 1534,\n        \"samples\": [\n          4.4313094042853e-06,\n          1.3132733751288124e-06,\n          5.380607657910223e-06\n        ],\n        \"semantic_type\": \"\",\n        \"description\": \"\"\n      }\n    },\n    {\n      \"column\": \"ay_var\",\n      \"properties\": {\n        \"dtype\": \"number\",\n        \"std\": 7.261043690176648e-06,\n        \"min\": 2.063139452421521e-08,\n        \"max\": 8.860140826531086e-05,\n        \"num_unique_values\": 1534,\n        \"samples\": [\n          2.9716559358823464e-06,\n          1.214195136317359e-07,\n          4.904531429317249e-06\n        ],\n        \"semantic_type\": \"\",\n        \"description\": \"\"\n      }\n    },\n    {\n      \"column\": \"az_sum\",\n      \"properties\": {\n        \"dtype\": \"number\",\n        \"std\": 0.03833074115548188,\n        \"min\": 9.568498677015304,\n        \"max\": 10.039093269109726,\n        \"num_unique_values\": 1534,\n        \"samples\": [\n          9.823028848171234,\n          9.781903092861176,\n          9.800724902153016\n        ],\n        \"semantic_type\": \"\",\n        \"description\": \"\"\n      }\n    },\n    {\n      \"column\": \"a_sum\",\n      \"properties\": {\n        \"dtype\": \"number\",\n        \"std\": 0.09670897623858461,\n        \"min\": 9.68433452922772,\n        \"max\": 10.683351028441407,\n        \"num_unique_values\": 1534,\n        \"samples\": [\n          9.88455861591843,\n          9.802163376271334,\n          9.95707551536946\n        ],\n        \"semantic_type\": \"\",\n        \"description\": \"\"\n      }\n    },\n    {\n      \"column\": \"gz_var\",\n      \"properties\": {\n        \"dtype\": \"number\",\n        \"std\": 3.7188287299948326e-09,\n        \"min\": 5.607166540906701e-10,\n        \"max\": 4.5422461379324905e-08,\n        \"num_unique_values\": 1534,\n        \"samples\": [\n          9.109570626936827e-10,\n          7.823094091564866e-10,\n          1.3655727798008088e-09\n        ],\n        \"semantic_type\": \"\",\n        \"description\": \"\"\n      }\n    }\n  ]\n}"
            }
          },
          "metadata": {},
          "execution_count": 127
        }
      ],
      "source": [
        "# TODO - Load selected features from cv_set to X\n",
        "# (1 marks)\n",
        "X = cv_set[['ax_var', 'ay_var', 'az_sum', 'a_sum', 'gz_var']]\n",
        "X.head(2)"
      ]
    },
    {
      "cell_type": "code",
      "execution_count": 128,
      "metadata": {
        "id": "-lUYK5H8dbOW",
        "colab": {
          "base_uri": "https://localhost:8080/",
          "height": 238
        },
        "outputId": "9910de5d-6247-4d1d-f878-a0fea91e9667"
      },
      "outputs": [
        {
          "output_type": "execute_result",
          "data": {
            "text/plain": [
              "0        rest\n",
              "1        rest\n",
              "2    straight\n",
              "3        turn\n",
              "4        turn\n",
              "Name: motion_state, dtype: object"
            ],
            "text/html": [
              "<div>\n",
              "<style scoped>\n",
              "    .dataframe tbody tr th:only-of-type {\n",
              "        vertical-align: middle;\n",
              "    }\n",
              "\n",
              "    .dataframe tbody tr th {\n",
              "        vertical-align: top;\n",
              "    }\n",
              "\n",
              "    .dataframe thead th {\n",
              "        text-align: right;\n",
              "    }\n",
              "</style>\n",
              "<table border=\"1\" class=\"dataframe\">\n",
              "  <thead>\n",
              "    <tr style=\"text-align: right;\">\n",
              "      <th></th>\n",
              "      <th>motion_state</th>\n",
              "    </tr>\n",
              "  </thead>\n",
              "  <tbody>\n",
              "    <tr>\n",
              "      <th>0</th>\n",
              "      <td>rest</td>\n",
              "    </tr>\n",
              "    <tr>\n",
              "      <th>1</th>\n",
              "      <td>rest</td>\n",
              "    </tr>\n",
              "    <tr>\n",
              "      <th>2</th>\n",
              "      <td>straight</td>\n",
              "    </tr>\n",
              "    <tr>\n",
              "      <th>3</th>\n",
              "      <td>turn</td>\n",
              "    </tr>\n",
              "    <tr>\n",
              "      <th>4</th>\n",
              "      <td>turn</td>\n",
              "    </tr>\n",
              "  </tbody>\n",
              "</table>\n",
              "</div><br><label><b>dtype:</b> object</label>"
            ]
          },
          "metadata": {},
          "execution_count": 128
        }
      ],
      "source": [
        "# TODO - Load motion_state column (target vector) into y\n",
        "y = cv_set['motion_state']\n",
        "y.head()"
      ]
    },
    {
      "cell_type": "markdown",
      "metadata": {
        "id": "3lEPPlDUdbOW"
      },
      "source": [
        "___"
      ]
    },
    {
      "cell_type": "markdown",
      "metadata": {
        "id": "wXYT6ik7dbOW"
      },
      "source": [
        "#### 2.1.2 - Configure and Perform Grid Search with Cross-Validation"
      ]
    },
    {
      "cell_type": "markdown",
      "metadata": {
        "id": "b0DK_ue2dbOW"
      },
      "source": [
        "Follow the steps from **1.2.2** and perform model training and tuning using the selected feature set."
      ]
    },
    {
      "cell_type": "code",
      "execution_count": 129,
      "metadata": {
        "id": "bR41HOCodbOW",
        "colab": {
          "base_uri": "https://localhost:8080/"
        },
        "outputId": "ba57a7b2-93f1-435f-d085-d72f63ee6517"
      },
      "outputs": [
        {
          "output_type": "stream",
          "name": "stdout",
          "text": [
            "Best parameters found: {'classifier__C': 100, 'classifier__gamma': 0.1, 'classifier__kernel': 'rbf'}\n",
            "Best cross-validation accuracy: 0.8109556960677866\n"
          ]
        }
      ],
      "source": [
        "# TODO - Perform model training and tuning using `GridSearchCV`\n",
        "from sklearn.pipeline import Pipeline\n",
        "from sklearn.svm import SVC\n",
        "from sklearn.preprocessing import StandardScaler, RobustScaler, MinMaxScaler, Normalizer\n",
        "from sklearn.model_selection import GridSearchCV\n",
        "\n",
        "#Setting up Pipeline\n",
        "pipe = Pipeline([\n",
        "    ('scaler', StandardScaler()),\n",
        "    ('classifier', SVC())\n",
        "])\n",
        "\n",
        "#Defining the parameter grid for Hyperparameter tuning\n",
        "param_grid = {\n",
        "    'classifier__C': [0.01, 0.1, 1, 10, 100],\n",
        "    'classifier__gamma': [0.001, 0.01, 0.1, 1],\n",
        "    'classifier__kernel': ['rbf']\n",
        "}\n",
        "\n",
        "#Initializing GridSearchCV\n",
        "grid = GridSearchCV(\n",
        "    estimator = pipe,\n",
        "    param_grid = param_grid,\n",
        "    cv = 5,\n",
        "    scoring = 'accuracy',\n",
        "    return_train_score = True\n",
        ")\n",
        "\n",
        "#Fitting the model\n",
        "grid.fit(X, y)\n",
        "\n",
        "#Displaying the best parameter and the best score\n",
        "print(\"Best parameters found:\", grid.best_params_)\n",
        "print(\"Best cross-validation accuracy:\", grid.best_score_)"
      ]
    },
    {
      "cell_type": "markdown",
      "metadata": {
        "id": "uBM8XhXedbOW"
      },
      "source": [
        "___"
      ]
    },
    {
      "cell_type": "markdown",
      "metadata": {
        "id": "hKq-7P59dbOX"
      },
      "source": [
        "#### 2.1.3 - Visualize Grid Search Results"
      ]
    },
    {
      "cell_type": "markdown",
      "metadata": {
        "id": "6MCrfxlVdbOX"
      },
      "source": [
        "Print the results from the grid search. The following outputs must be printed.\n",
        "* Best parameter set\n",
        "* Best cross-validation train score\n",
        "* Best cross-validation test score\n",
        "* Test set accuracy"
      ]
    },
    {
      "cell_type": "code",
      "execution_count": 130,
      "metadata": {
        "id": "sv-yq7XydbOX",
        "colab": {
          "base_uri": "https://localhost:8080/"
        },
        "outputId": "2a041ab3-cf3d-4aa2-c47b-c13aafeadb4e"
      },
      "outputs": [
        {
          "output_type": "stream",
          "name": "stdout",
          "text": [
            "Best params:\n",
            "{'classifier__C': 100, 'classifier__gamma': 0.1, 'classifier__kernel': 'rbf'}\n",
            "\n",
            "Best cross-validation train score: 0.86\n",
            "Best cross-validation validation score: 0.81\n",
            "Test-set score: 0.86\n"
          ]
        }
      ],
      "source": [
        "# TODO: Print the results from the grid search\n",
        "\n",
        "print(\"Best params:\\n{}\\n\".format(grid.best_params_))\n",
        "print(\"Best cross-validation train score: {:.2f}\".format(grid.cv_results_['mean_train_score'][grid.best_index_]))\n",
        "print(\"Best cross-validation validation score: {:.2f}\".format(grid.best_score_))\n",
        "print(\"Test-set score: {:.2f}\".format(grid.best_estimator_.score(X, y)))"
      ]
    },
    {
      "cell_type": "markdown",
      "metadata": {
        "id": "vJ5rrcBedbOX"
      },
      "source": [
        "Display the confusion matrix and print the classification report for the trained model using the *test* split."
      ]
    },
    {
      "cell_type": "code",
      "execution_count": 131,
      "metadata": {
        "id": "MNRMt1BsdbOX",
        "colab": {
          "base_uri": "https://localhost:8080/",
          "height": 768
        },
        "outputId": "7d35dd32-9c6c-4cb2-e0a4-be387f649ef7"
      },
      "outputs": [
        {
          "output_type": "display_data",
          "data": {
            "text/plain": [
              "<Figure size 800x600 with 2 Axes>"
            ],
            "image/png": "[encoded data removed]"
          },
          "metadata": {}
        },
        {
          "output_type": "stream",
          "name": "stdout",
          "text": [
            "Classification Report:\n",
            "\n",
            "              precision    recall  f1-score   support\n",
            "\n",
            "        rest       0.90      0.99      0.94       517\n",
            "    straight       0.82      0.89      0.85       689\n",
            "        turn       0.90      0.61      0.72       328\n",
            "\n",
            "    accuracy                           0.86      1534\n",
            "   macro avg       0.87      0.83      0.84      1534\n",
            "weighted avg       0.86      0.86      0.86      1534\n",
            "\n"
          ]
        }
      ],
      "source": [
        "# TODO - Display confusion matrix and print classification reports\n",
        "\n",
        "import sklearn.metrics as confusion_matrix\n",
        "from sklearn.metrics import classification_report\n",
        "import matplotlib.pyplot as plt\n",
        "import seaborn as sns\n",
        "\n",
        "#Predicting on the Dataset\n",
        "y_pred = grid.best_estimator_.predict(X)\n",
        "\n",
        "#Computing the Confusion Matrix\n",
        "conf_matrix = confusion_matrix.confusion_matrix(y, y_pred)\n",
        "\n",
        "#Plotting the Confusion Matrix\n",
        "plt.figure(figsize=(8, 6))\n",
        "sns.heatmap(conf_matrix, annot=True, fmt='d', cmap='Blues', xticklabels=grid.classes_, yticklabels=grid.classes_)\n",
        "plt.xlabel('Predicted labels')\n",
        "plt.ylabel('True Labels')\n",
        "plt.title('Confusion Matrix')\n",
        "plt.show()\n",
        "\n",
        "#Printing the Classification Report\n",
        "print(\"Classification Report:\\n\")\n",
        "print(classification_report(y, y_pred))"
      ]
    },
    {
      "cell_type": "markdown",
      "metadata": {
        "id": "KTPDq7dAdbOX"
      },
      "source": [
        "___"
      ]
    },
    {
      "cell_type": "markdown",
      "metadata": {
        "id": "yf9vJd5adbOX"
      },
      "source": [
        "#### 2.1.4 - Question"
      ]
    },
    {
      "cell_type": "markdown",
      "metadata": {
        "id": "GWjsVOPwdbOX"
      },
      "source": [
        "\n",
        "1. Consider the differences between the performance on the training/cross-validation dataset for section 1 (1.2.3) and section 2 (2.1.3). Which model is a better fit based on *just these two evaluations*? (4 marks)"
      ]
    },
    {
      "cell_type": "markdown",
      "metadata": {
        "id": "qilcp2qOdbOX"
      },
      "source": [
        "#### 2.1.4 Answer\n",
        "1.\n",
        "1.\t**Section 1 (Full Features):**\n",
        "\n",
        "Cross-Validation Accuracy: 95% (from grid search in section 1).\n",
        "\n",
        "Test-Set Accuracy: 96%.\n",
        "\n",
        "The model performs exceptionally well, with minimal overfitting and strong generalization across all datasets.\n",
        "\n",
        "2.\t**Section 2 (Selected Features):**\n",
        "\n",
        "Cross-Validation Accuracy: 81%.\n",
        "\n",
        "Test-Set Accuracy: 86%.\n",
        "\n",
        "The model performs reasonably well but shows reduced accuracy, likely due to the limited feature set.\n",
        "\n",
        "\n",
        "**Conclusion:**\n",
        "\n",
        "The model from Section 1 (Full Features) is a better fit based on these evaluations. It achieves significantly higher accuracy and better generalization compared to the model in Section 2, which is constrained by fewer features and may lack the ability to fully capture the underlying patterns in the data.\n"
      ]
    },
    {
      "cell_type": "markdown",
      "metadata": {
        "id": "vhifOxlldbOX"
      },
      "source": [
        "___"
      ]
    },
    {
      "cell_type": "markdown",
      "metadata": {
        "id": "M0HoO48MdbOX"
      },
      "source": [
        "### 2.2 - Model Evaluation on Test Datasets 1 and 2 (7 Marks)"
      ]
    },
    {
      "cell_type": "markdown",
      "metadata": {
        "id": "hA0Fp9ladbOX"
      },
      "source": [
        "___"
      ]
    },
    {
      "cell_type": "markdown",
      "metadata": {
        "id": "sTpHNfX0dbOX"
      },
      "source": [
        "#### 2.2.1 - Extract selected features and targets from test datasets"
      ]
    },
    {
      "cell_type": "markdown",
      "metadata": {
        "id": "nbTUN7SXdbOX"
      },
      "source": [
        "The model trained in 2.1 is to be tested on the independent datasets, that is test_set1 and test_set2.\n",
        "Seperate the testsets into the selected features and target vectors *(X1, y1)* and (X2,)"
      ]
    },
    {
      "cell_type": "code",
      "execution_count": 132,
      "metadata": {
        "id": "Mr0g3qyudbOY",
        "colab": {
          "base_uri": "https://localhost:8080/",
          "height": 111
        },
        "outputId": "1371e528-d7d6-4a82-a0b0-4b0b49e4a169"
      },
      "outputs": [
        {
          "output_type": "execute_result",
          "data": {
            "text/plain": [
              "     ax_var        ay_var    az_sum     a_sum        gz_var\n",
              "0  0.000001  7.749919e-08  9.786930  9.801661  7.727190e-10\n",
              "1  0.000001  9.243000e-08  9.788127  9.802481  8.871433e-10"
            ],
            "text/html": [
              "\n",
              "  <div id=\"df-82a10c98-01cb-4851-9dc9-beaa6236c889\" class=\"colab-df-container\">\n",
              "    <div>\n",
              "<style scoped>\n",
              "    .dataframe tbody tr th:only-of-type {\n",
              "        vertical-align: middle;\n",
              "    }\n",
              "\n",
              "    .dataframe tbody tr th {\n",
              "        vertical-align: top;\n",
              "    }\n",
              "\n",
              "    .dataframe thead th {\n",
              "        text-align: right;\n",
              "    }\n",
              "</style>\n",
              "<table border=\"1\" class=\"dataframe\">\n",
              "  <thead>\n",
              "    <tr style=\"text-align: right;\">\n",
              "      <th></th>\n",
              "      <th>ax_var</th>\n",
              "      <th>ay_var</th>\n",
              "      <th>az_sum</th>\n",
              "      <th>a_sum</th>\n",
              "      <th>gz_var</th>\n",
              "    </tr>\n",
              "  </thead>\n",
              "  <tbody>\n",
              "    <tr>\n",
              "      <th>0</th>\n",
              "      <td>0.000001</td>\n",
              "      <td>7.749919e-08</td>\n",
              "      <td>9.786930</td>\n",
              "      <td>9.801661</td>\n",
              "      <td>7.727190e-10</td>\n",
              "    </tr>\n",
              "    <tr>\n",
              "      <th>1</th>\n",
              "      <td>0.000001</td>\n",
              "      <td>9.243000e-08</td>\n",
              "      <td>9.788127</td>\n",
              "      <td>9.802481</td>\n",
              "      <td>8.871433e-10</td>\n",
              "    </tr>\n",
              "  </tbody>\n",
              "</table>\n",
              "</div>\n",
              "    <div class=\"colab-df-buttons\">\n",
              "\n",
              "  <div class=\"colab-df-container\">\n",
              "    <button class=\"colab-df-convert\" onclick=\"convertToInteractive('df-82a10c98-01cb-4851-9dc9-beaa6236c889')\"\n",
              "            title=\"Convert this dataframe to an interactive table.\"\n",
              "            style=\"display:none;\">\n",
              "\n",
              "  <svg xmlns=\"http://www.w3.org/2000/svg\" height=\"24px\" viewBox=\"0 -960 960 960\">\n",
              "    <path d=\"M120-120v-720h720v720H120Zm60-500h600v-160H180v160Zm220 220h160v-160H400v160Zm0 220h160v-160H400v160ZM180-400h160v-160H180v160Zm440 0h160v-160H620v160ZM180-180h160v-160H180v160Zm440 0h160v-160H620v160Z\"/>\n",
              "  </svg>\n",
              "    </button>\n",
              "\n",
              "  <style>\n",
              "    .colab-df-container {\n",
              "      display:flex;\n",
              "      gap: 12px;\n",
              "    }\n",
              "\n",
              "    .colab-df-convert {\n",
              "      background-color: #E8F0FE;\n",
              "      border: none;\n",
              "      border-radius: 50%;\n",
              "      cursor: pointer;\n",
              "      display: none;\n",
              "      fill: #1967D2;\n",
              "      height: 32px;\n",
              "      padding: 0 0 0 0;\n",
              "      width: 32px;\n",
              "    }\n",
              "\n",
              "    .colab-df-convert:hover {\n",
              "      background-color: #E2EBFA;\n",
              "      box-shadow: 0px 1px 2px rgba(60, 64, 67, 0.3), 0px 1px 3px 1px rgba(60, 64, 67, 0.15);\n",
              "      fill: #174EA6;\n",
              "    }\n",
              "\n",
              "    .colab-df-buttons div {\n",
              "      margin-bottom: 4px;\n",
              "    }\n",
              "\n",
              "    [theme=dark] .colab-df-convert {\n",
              "      background-color: #3B4455;\n",
              "      fill: #D2E3FC;\n",
              "    }\n",
              "\n",
              "    [theme=dark] .colab-df-convert:hover {\n",
              "      background-color: #434B5C;\n",
              "      box-shadow: 0px 1px 3px 1px rgba(0, 0, 0, 0.15);\n",
              "      filter: drop-shadow(0px 1px 2px rgba(0, 0, 0, 0.3));\n",
              "      fill: #FFFFFF;\n",
              "    }\n",
              "  </style>\n",
              "\n",
              "    <script>\n",
              "      const buttonEl =\n",
              "        document.querySelector('#df-82a10c98-01cb-4851-9dc9-beaa6236c889 button.colab-df-convert');\n",
              "      buttonEl.style.display =\n",
              "        google.colab.kernel.accessAllowed ? 'block' : 'none';\n",
              "\n",
              "      async function convertToInteractive(key) {\n",
              "        const element = document.querySelector('#df-82a10c98-01cb-4851-9dc9-beaa6236c889');\n",
              "        const dataTable =\n",
              "          await google.colab.kernel.invokeFunction('convertToInteractive',\n",
              "                                                    [key], {});\n",
              "        if (!dataTable) return;\n",
              "\n",
              "        const docLinkHtml = 'Like what you see? Visit the ' +\n",
              "          '<a target=\"_blank\" href=https://colab.research.google.com/notebooks/data_table.ipynb>data table notebook</a>'\n",
              "          + ' to learn more about interactive tables.';\n",
              "        element.innerHTML = '';\n",
              "        dataTable['output_type'] = 'display_data';\n",
              "        await google.colab.output.renderOutput(dataTable, element);\n",
              "        const docLink = document.createElement('div');\n",
              "        docLink.innerHTML = docLinkHtml;\n",
              "        element.appendChild(docLink);\n",
              "      }\n",
              "    </script>\n",
              "  </div>\n",
              "\n",
              "\n",
              "<div id=\"df-0bca304c-1913-4b44-9a5a-fdc441cf8e89\">\n",
              "  <button class=\"colab-df-quickchart\" onclick=\"quickchart('df-0bca304c-1913-4b44-9a5a-fdc441cf8e89')\"\n",
              "            title=\"Suggest charts\"\n",
              "            style=\"display:none;\">\n",
              "\n",
              "<svg xmlns=\"http://www.w3.org/2000/svg\" height=\"24px\"viewBox=\"0 0 24 24\"\n",
              "     width=\"24px\">\n",
              "    <g>\n",
              "        <path d=\"M19 3H5c-1.1 0-2 .9-2 2v14c0 1.1.9 2 2 2h14c1.1 0 2-.9 2-2V5c0-1.1-.9-2-2-2zM9 17H7v-7h2v7zm4 0h-2V7h2v10zm4 0h-2v-4h2v4z\"/>\n",
              "    </g>\n",
              "</svg>\n",
              "  </button>\n",
              "\n",
              "<style>\n",
              "  .colab-df-quickchart {\n",
              "      --bg-color: #E8F0FE;\n",
              "      --fill-color: #1967D2;\n",
              "      --hover-bg-color: #E2EBFA;\n",
              "      --hover-fill-color: #174EA6;\n",
              "      --disabled-fill-color: #AAA;\n",
              "      --disabled-bg-color: #DDD;\n",
              "  }\n",
              "\n",
              "  [theme=dark] .colab-df-quickchart {\n",
              "      --bg-color: #3B4455;\n",
              "      --fill-color: #D2E3FC;\n",
              "      --hover-bg-color: #434B5C;\n",
              "      --hover-fill-color: #FFFFFF;\n",
              "      --disabled-bg-color: #3B4455;\n",
              "      --disabled-fill-color: #666;\n",
              "  }\n",
              "\n",
              "  .colab-df-quickchart {\n",
              "    background-color: var(--bg-color);\n",
              "    border: none;\n",
              "    border-radius: 50%;\n",
              "    cursor: pointer;\n",
              "    display: none;\n",
              "    fill: var(--fill-color);\n",
              "    height: 32px;\n",
              "    padding: 0;\n",
              "    width: 32px;\n",
              "  }\n",
              "\n",
              "  .colab-df-quickchart:hover {\n",
              "    background-color: var(--hover-bg-color);\n",
              "    box-shadow: 0 1px 2px rgba(60, 64, 67, 0.3), 0 1px 3px 1px rgba(60, 64, 67, 0.15);\n",
              "    fill: var(--button-hover-fill-color);\n",
              "  }\n",
              "\n",
              "  .colab-df-quickchart-complete:disabled,\n",
              "  .colab-df-quickchart-complete:disabled:hover {\n",
              "    background-color: var(--disabled-bg-color);\n",
              "    fill: var(--disabled-fill-color);\n",
              "    box-shadow: none;\n",
              "  }\n",
              "\n",
              "  .colab-df-spinner {\n",
              "    border: 2px solid var(--fill-color);\n",
              "    border-color: transparent;\n",
              "    border-bottom-color: var(--fill-color);\n",
              "    animation:\n",
              "      spin 1s steps(1) infinite;\n",
              "  }\n",
              "\n",
              "  @keyframes spin {\n",
              "    0% {\n",
              "      border-color: transparent;\n",
              "      border-bottom-color: var(--fill-color);\n",
              "      border-left-color: var(--fill-color);\n",
              "    }\n",
              "    20% {\n",
              "      border-color: transparent;\n",
              "      border-left-color: var(--fill-color);\n",
              "      border-top-color: var(--fill-color);\n",
              "    }\n",
              "    30% {\n",
              "      border-color: transparent;\n",
              "      border-left-color: var(--fill-color);\n",
              "      border-top-color: var(--fill-color);\n",
              "      border-right-color: var(--fill-color);\n",
              "    }\n",
              "    40% {\n",
              "      border-color: transparent;\n",
              "      border-right-color: var(--fill-color);\n",
              "      border-top-color: var(--fill-color);\n",
              "    }\n",
              "    60% {\n",
              "      border-color: transparent;\n",
              "      border-right-color: var(--fill-color);\n",
              "    }\n",
              "    80% {\n",
              "      border-color: transparent;\n",
              "      border-right-color: var(--fill-color);\n",
              "      border-bottom-color: var(--fill-color);\n",
              "    }\n",
              "    90% {\n",
              "      border-color: transparent;\n",
              "      border-bottom-color: var(--fill-color);\n",
              "    }\n",
              "  }\n",
              "</style>\n",
              "\n",
              "  <script>\n",
              "    async function quickchart(key) {\n",
              "      const quickchartButtonEl =\n",
              "        document.querySelector('#' + key + ' button');\n",
              "      quickchartButtonEl.disabled = true;  // To prevent multiple clicks.\n",
              "      quickchartButtonEl.classList.add('colab-df-spinner');\n",
              "      try {\n",
              "        const charts = await google.colab.kernel.invokeFunction(\n",
              "            'suggestCharts', [key], {});\n",
              "      } catch (error) {\n",
              "        console.error('Error during call to suggestCharts:', error);\n",
              "      }\n",
              "      quickchartButtonEl.classList.remove('colab-df-spinner');\n",
              "      quickchartButtonEl.classList.add('colab-df-quickchart-complete');\n",
              "    }\n",
              "    (() => {\n",
              "      let quickchartButtonEl =\n",
              "        document.querySelector('#df-0bca304c-1913-4b44-9a5a-fdc441cf8e89 button');\n",
              "      quickchartButtonEl.style.display =\n",
              "        google.colab.kernel.accessAllowed ? 'block' : 'none';\n",
              "    })();\n",
              "  </script>\n",
              "</div>\n",
              "\n",
              "    </div>\n",
              "  </div>\n"
            ],
            "application/vnd.google.colaboratory.intrinsic+json": {
              "type": "dataframe",
              "variable_name": "X1",
              "summary": "{\n  \"name\": \"X1\",\n  \"rows\": 783,\n  \"fields\": [\n    {\n      \"column\": \"ax_var\",\n      \"properties\": {\n        \"dtype\": \"number\",\n        \"std\": 5.704713580204495e-06,\n        \"min\": 1.9366989666365741e-07,\n        \"max\": 6.355004025261966e-05,\n        \"num_unique_values\": 783,\n        \"samples\": [\n          1.2967420788778058e-05,\n          3.784058925706243e-06,\n          1.2441028366050602e-05\n        ],\n        \"semantic_type\": \"\",\n        \"description\": \"\"\n      }\n    },\n    {\n      \"column\": \"ay_var\",\n      \"properties\": {\n        \"dtype\": \"number\",\n        \"std\": 1.2828260061904779e-05,\n        \"min\": 3.7973084401152586e-08,\n        \"max\": 0.0001020891786377,\n        \"num_unique_values\": 783,\n        \"samples\": [\n          2.676248959183811e-05,\n          6.5663059267698045e-06,\n          1.2382988464705216e-05\n        ],\n        \"semantic_type\": \"\",\n        \"description\": \"\"\n      }\n    },\n    {\n      \"column\": \"az_sum\",\n      \"properties\": {\n        \"dtype\": \"number\",\n        \"std\": 0.06652701828813166,\n        \"min\": 9.392701729536055,\n        \"max\": 10.35444636464119,\n        \"num_unique_values\": 783,\n        \"samples\": [\n          9.876505975723267,\n          9.790087885856629,\n          9.825899143218994\n        ],\n        \"semantic_type\": \"\",\n        \"description\": \"\"\n      }\n    },\n    {\n      \"column\": \"a_sum\",\n      \"properties\": {\n        \"dtype\": \"number\",\n        \"std\": 0.1680731717936553,\n        \"min\": 9.488722777060696,\n        \"max\": 11.076148552014288,\n        \"num_unique_values\": 783,\n        \"samples\": [\n          10.25861882773166,\n          9.905071409783288,\n          10.071425264545546\n        ],\n        \"semantic_type\": \"\",\n        \"description\": \"\"\n      }\n    },\n    {\n      \"column\": \"gz_var\",\n      \"properties\": {\n        \"dtype\": \"number\",\n        \"std\": 7.165497715451334e-09,\n        \"min\": 5.525842536563396e-10,\n        \"max\": 1.057857877158056e-07,\n        \"num_unique_values\": 783,\n        \"samples\": [\n          2.516709383659844e-08,\n          1.4113834900911094e-09,\n          1.3444695829798344e-09\n        ],\n        \"semantic_type\": \"\",\n        \"description\": \"\"\n      }\n    }\n  ]\n}"
            }
          },
          "metadata": {},
          "execution_count": 132
        }
      ],
      "source": [
        "# TODO - Load the target vector from test_set1 into y1, and the selected features from test_set1 into X1\n",
        "# (1 marks)\n",
        "y1 = test_set1['motion_state']\n",
        "X1 = test_set1[['ax_var', 'ay_var', 'az_sum', 'a_sum', 'gz_var']]\n",
        "X1.head(2)"
      ]
    },
    {
      "cell_type": "code",
      "execution_count": 133,
      "metadata": {
        "id": "-KxeozX-dbOY",
        "colab": {
          "base_uri": "https://localhost:8080/",
          "height": 111
        },
        "outputId": "ac704245-dcd5-4470-b466-0fb42a60f6b0"
      },
      "outputs": [
        {
          "output_type": "execute_result",
          "data": {
            "text/plain": [
              "     ax_var        ay_var    az_sum     a_sum        gz_var\n",
              "0  0.000002  3.020959e-07  9.791451  9.800683  1.405038e-09\n",
              "1  0.000003  6.859937e-07  9.785619  9.797741  1.164381e-09"
            ],
            "text/html": [
              "\n",
              "  <div id=\"df-39f72078-9315-4a4a-9103-c1baa48d613f\" class=\"colab-df-container\">\n",
              "    <div>\n",
              "<style scoped>\n",
              "    .dataframe tbody tr th:only-of-type {\n",
              "        vertical-align: middle;\n",
              "    }\n",
              "\n",
              "    .dataframe tbody tr th {\n",
              "        vertical-align: top;\n",
              "    }\n",
              "\n",
              "    .dataframe thead th {\n",
              "        text-align: right;\n",
              "    }\n",
              "</style>\n",
              "<table border=\"1\" class=\"dataframe\">\n",
              "  <thead>\n",
              "    <tr style=\"text-align: right;\">\n",
              "      <th></th>\n",
              "      <th>ax_var</th>\n",
              "      <th>ay_var</th>\n",
              "      <th>az_sum</th>\n",
              "      <th>a_sum</th>\n",
              "      <th>gz_var</th>\n",
              "    </tr>\n",
              "  </thead>\n",
              "  <tbody>\n",
              "    <tr>\n",
              "      <th>0</th>\n",
              "      <td>0.000002</td>\n",
              "      <td>3.020959e-07</td>\n",
              "      <td>9.791451</td>\n",
              "      <td>9.800683</td>\n",
              "      <td>1.405038e-09</td>\n",
              "    </tr>\n",
              "    <tr>\n",
              "      <th>1</th>\n",
              "      <td>0.000003</td>\n",
              "      <td>6.859937e-07</td>\n",
              "      <td>9.785619</td>\n",
              "      <td>9.797741</td>\n",
              "      <td>1.164381e-09</td>\n",
              "    </tr>\n",
              "  </tbody>\n",
              "</table>\n",
              "</div>\n",
              "    <div class=\"colab-df-buttons\">\n",
              "\n",
              "  <div class=\"colab-df-container\">\n",
              "    <button class=\"colab-df-convert\" onclick=\"convertToInteractive('df-39f72078-9315-4a4a-9103-c1baa48d613f')\"\n",
              "            title=\"Convert this dataframe to an interactive table.\"\n",
              "            style=\"display:none;\">\n",
              "\n",
              "  <svg xmlns=\"http://www.w3.org/2000/svg\" height=\"24px\" viewBox=\"0 -960 960 960\">\n",
              "    <path d=\"M120-120v-720h720v720H120Zm60-500h600v-160H180v160Zm220 220h160v-160H400v160Zm0 220h160v-160H400v160ZM180-400h160v-160H180v160Zm440 0h160v-160H620v160ZM180-180h160v-160H180v160Zm440 0h160v-160H620v160Z\"/>\n",
              "  </svg>\n",
              "    </button>\n",
              "\n",
              "  <style>\n",
              "    .colab-df-container {\n",
              "      display:flex;\n",
              "      gap: 12px;\n",
              "    }\n",
              "\n",
              "    .colab-df-convert {\n",
              "      background-color: #E8F0FE;\n",
              "      border: none;\n",
              "      border-radius: 50%;\n",
              "      cursor: pointer;\n",
              "      display: none;\n",
              "      fill: #1967D2;\n",
              "      height: 32px;\n",
              "      padding: 0 0 0 0;\n",
              "      width: 32px;\n",
              "    }\n",
              "\n",
              "    .colab-df-convert:hover {\n",
              "      background-color: #E2EBFA;\n",
              "      box-shadow: 0px 1px 2px rgba(60, 64, 67, 0.3), 0px 1px 3px 1px rgba(60, 64, 67, 0.15);\n",
              "      fill: #174EA6;\n",
              "    }\n",
              "\n",
              "    .colab-df-buttons div {\n",
              "      margin-bottom: 4px;\n",
              "    }\n",
              "\n",
              "    [theme=dark] .colab-df-convert {\n",
              "      background-color: #3B4455;\n",
              "      fill: #D2E3FC;\n",
              "    }\n",
              "\n",
              "    [theme=dark] .colab-df-convert:hover {\n",
              "      background-color: #434B5C;\n",
              "      box-shadow: 0px 1px 3px 1px rgba(0, 0, 0, 0.15);\n",
              "      filter: drop-shadow(0px 1px 2px rgba(0, 0, 0, 0.3));\n",
              "      fill: #FFFFFF;\n",
              "    }\n",
              "  </style>\n",
              "\n",
              "    <script>\n",
              "      const buttonEl =\n",
              "        document.querySelector('#df-39f72078-9315-4a4a-9103-c1baa48d613f button.colab-df-convert');\n",
              "      buttonEl.style.display =\n",
              "        google.colab.kernel.accessAllowed ? 'block' : 'none';\n",
              "\n",
              "      async function convertToInteractive(key) {\n",
              "        const element = document.querySelector('#df-39f72078-9315-4a4a-9103-c1baa48d613f');\n",
              "        const dataTable =\n",
              "          await google.colab.kernel.invokeFunction('convertToInteractive',\n",
              "                                                    [key], {});\n",
              "        if (!dataTable) return;\n",
              "\n",
              "        const docLinkHtml = 'Like what you see? Visit the ' +\n",
              "          '<a target=\"_blank\" href=https://colab.research.google.com/notebooks/data_table.ipynb>data table notebook</a>'\n",
              "          + ' to learn more about interactive tables.';\n",
              "        element.innerHTML = '';\n",
              "        dataTable['output_type'] = 'display_data';\n",
              "        await google.colab.output.renderOutput(dataTable, element);\n",
              "        const docLink = document.createElement('div');\n",
              "        docLink.innerHTML = docLinkHtml;\n",
              "        element.appendChild(docLink);\n",
              "      }\n",
              "    </script>\n",
              "  </div>\n",
              "\n",
              "\n",
              "<div id=\"df-11384ecc-18fa-4a6e-9191-2b731a38e297\">\n",
              "  <button class=\"colab-df-quickchart\" onclick=\"quickchart('df-11384ecc-18fa-4a6e-9191-2b731a38e297')\"\n",
              "            title=\"Suggest charts\"\n",
              "            style=\"display:none;\">\n",
              "\n",
              "<svg xmlns=\"http://www.w3.org/2000/svg\" height=\"24px\"viewBox=\"0 0 24 24\"\n",
              "     width=\"24px\">\n",
              "    <g>\n",
              "        <path d=\"M19 3H5c-1.1 0-2 .9-2 2v14c0 1.1.9 2 2 2h14c1.1 0 2-.9 2-2V5c0-1.1-.9-2-2-2zM9 17H7v-7h2v7zm4 0h-2V7h2v10zm4 0h-2v-4h2v4z\"/>\n",
              "    </g>\n",
              "</svg>\n",
              "  </button>\n",
              "\n",
              "<style>\n",
              "  .colab-df-quickchart {\n",
              "      --bg-color: #E8F0FE;\n",
              "      --fill-color: #1967D2;\n",
              "      --hover-bg-color: #E2EBFA;\n",
              "      --hover-fill-color: #174EA6;\n",
              "      --disabled-fill-color: #AAA;\n",
              "      --disabled-bg-color: #DDD;\n",
              "  }\n",
              "\n",
              "  [theme=dark] .colab-df-quickchart {\n",
              "      --bg-color: #3B4455;\n",
              "      --fill-color: #D2E3FC;\n",
              "      --hover-bg-color: #434B5C;\n",
              "      --hover-fill-color: #FFFFFF;\n",
              "      --disabled-bg-color: #3B4455;\n",
              "      --disabled-fill-color: #666;\n",
              "  }\n",
              "\n",
              "  .colab-df-quickchart {\n",
              "    background-color: var(--bg-color);\n",
              "    border: none;\n",
              "    border-radius: 50%;\n",
              "    cursor: pointer;\n",
              "    display: none;\n",
              "    fill: var(--fill-color);\n",
              "    height: 32px;\n",
              "    padding: 0;\n",
              "    width: 32px;\n",
              "  }\n",
              "\n",
              "  .colab-df-quickchart:hover {\n",
              "    background-color: var(--hover-bg-color);\n",
              "    box-shadow: 0 1px 2px rgba(60, 64, 67, 0.3), 0 1px 3px 1px rgba(60, 64, 67, 0.15);\n",
              "    fill: var(--button-hover-fill-color);\n",
              "  }\n",
              "\n",
              "  .colab-df-quickchart-complete:disabled,\n",
              "  .colab-df-quickchart-complete:disabled:hover {\n",
              "    background-color: var(--disabled-bg-color);\n",
              "    fill: var(--disabled-fill-color);\n",
              "    box-shadow: none;\n",
              "  }\n",
              "\n",
              "  .colab-df-spinner {\n",
              "    border: 2px solid var(--fill-color);\n",
              "    border-color: transparent;\n",
              "    border-bottom-color: var(--fill-color);\n",
              "    animation:\n",
              "      spin 1s steps(1) infinite;\n",
              "  }\n",
              "\n",
              "  @keyframes spin {\n",
              "    0% {\n",
              "      border-color: transparent;\n",
              "      border-bottom-color: var(--fill-color);\n",
              "      border-left-color: var(--fill-color);\n",
              "    }\n",
              "    20% {\n",
              "      border-color: transparent;\n",
              "      border-left-color: var(--fill-color);\n",
              "      border-top-color: var(--fill-color);\n",
              "    }\n",
              "    30% {\n",
              "      border-color: transparent;\n",
              "      border-left-color: var(--fill-color);\n",
              "      border-top-color: var(--fill-color);\n",
              "      border-right-color: var(--fill-color);\n",
              "    }\n",
              "    40% {\n",
              "      border-color: transparent;\n",
              "      border-right-color: var(--fill-color);\n",
              "      border-top-color: var(--fill-color);\n",
              "    }\n",
              "    60% {\n",
              "      border-color: transparent;\n",
              "      border-right-color: var(--fill-color);\n",
              "    }\n",
              "    80% {\n",
              "      border-color: transparent;\n",
              "      border-right-color: var(--fill-color);\n",
              "      border-bottom-color: var(--fill-color);\n",
              "    }\n",
              "    90% {\n",
              "      border-color: transparent;\n",
              "      border-bottom-color: var(--fill-color);\n",
              "    }\n",
              "  }\n",
              "</style>\n",
              "\n",
              "  <script>\n",
              "    async function quickchart(key) {\n",
              "      const quickchartButtonEl =\n",
              "        document.querySelector('#' + key + ' button');\n",
              "      quickchartButtonEl.disabled = true;  // To prevent multiple clicks.\n",
              "      quickchartButtonEl.classList.add('colab-df-spinner');\n",
              "      try {\n",
              "        const charts = await google.colab.kernel.invokeFunction(\n",
              "            'suggestCharts', [key], {});\n",
              "      } catch (error) {\n",
              "        console.error('Error during call to suggestCharts:', error);\n",
              "      }\n",
              "      quickchartButtonEl.classList.remove('colab-df-spinner');\n",
              "      quickchartButtonEl.classList.add('colab-df-quickchart-complete');\n",
              "    }\n",
              "    (() => {\n",
              "      let quickchartButtonEl =\n",
              "        document.querySelector('#df-11384ecc-18fa-4a6e-9191-2b731a38e297 button');\n",
              "      quickchartButtonEl.style.display =\n",
              "        google.colab.kernel.accessAllowed ? 'block' : 'none';\n",
              "    })();\n",
              "  </script>\n",
              "</div>\n",
              "\n",
              "    </div>\n",
              "  </div>\n"
            ],
            "application/vnd.google.colaboratory.intrinsic+json": {
              "type": "dataframe",
              "variable_name": "X2",
              "summary": "{\n  \"name\": \"X2\",\n  \"rows\": 297,\n  \"fields\": [\n    {\n      \"column\": \"ax_var\",\n      \"properties\": {\n        \"dtype\": \"number\",\n        \"std\": 1.7739479372303802e-05,\n        \"min\": 1.0712557349741683e-06,\n        \"max\": 9.31128631754656e-05,\n        \"num_unique_values\": 297,\n        \"samples\": [\n          1.9935859610723164e-05,\n          8.724338531261846e-06,\n          1.827018030730978e-05\n        ],\n        \"semantic_type\": \"\",\n        \"description\": \"\"\n      }\n    },\n    {\n      \"column\": \"ay_var\",\n      \"properties\": {\n        \"dtype\": \"number\",\n        \"std\": 3.31743796442537e-05,\n        \"min\": 5.7104692434991436e-08,\n        \"max\": 0.0002464289869397,\n        \"num_unique_values\": 297,\n        \"samples\": [\n          2.1997268262021317e-05,\n          1.0437955565186804e-05,\n          1.9983131331492747e-05\n        ],\n        \"semantic_type\": \"\",\n        \"description\": \"\"\n      }\n    },\n    {\n      \"column\": \"az_sum\",\n      \"properties\": {\n        \"dtype\": \"number\",\n        \"std\": 0.03941899487725125,\n        \"min\": 9.666835436820984,\n        \"max\": 9.919559583663942,\n        \"num_unique_values\": 297,\n        \"samples\": [\n          9.728311610221862,\n          9.79859800338745,\n          9.833945317268372\n        ],\n        \"semantic_type\": \"\",\n        \"description\": \"\"\n      }\n    },\n    {\n      \"column\": \"a_sum\",\n      \"properties\": {\n        \"dtype\": \"number\",\n        \"std\": 0.10823145226582793,\n        \"min\": 9.756815555124833,\n        \"max\": 10.402288787526407,\n        \"num_unique_values\": 297,\n        \"samples\": [\n          9.831261712730226,\n          9.84024113837865,\n          9.94404037685424\n        ],\n        \"semantic_type\": \"\",\n        \"description\": \"\"\n      }\n    },\n    {\n      \"column\": \"gz_var\",\n      \"properties\": {\n        \"dtype\": \"number\",\n        \"std\": 3.232631557371724e-08,\n        \"min\": 1.0937883544364359e-09,\n        \"max\": 2.624780338349737e-07,\n        \"num_unique_values\": 297,\n        \"samples\": [\n          2.0052912762140776e-09,\n          4.15427240147149e-09,\n          4.950390080736701e-09\n        ],\n        \"semantic_type\": \"\",\n        \"description\": \"\"\n      }\n    }\n  ]\n}"
            }
          },
          "metadata": {},
          "execution_count": 133
        }
      ],
      "source": [
        "# TODO - Load the target vector from test_set2 into y2, and the selected features from test_set2 into X2\n",
        "y2 = test_set2['motion_state']\n",
        "X2 = test_set2[['ax_var', 'ay_var', 'az_sum', 'a_sum', 'gz_var']]\n",
        "X2.head(2)"
      ]
    },
    {
      "cell_type": "markdown",
      "metadata": {
        "id": "XG3IdptudbOY"
      },
      "source": [
        "___"
      ]
    },
    {
      "cell_type": "markdown",
      "metadata": {
        "id": "tupZmDcgdbOZ"
      },
      "source": [
        "#### 2.2.2 - Visualize Results"
      ]
    },
    {
      "cell_type": "markdown",
      "metadata": {
        "id": "EIEP8qredbOZ"
      },
      "source": [
        "For each test dataset, print the test set accuracy score."
      ]
    },
    {
      "cell_type": "code",
      "execution_count": 134,
      "metadata": {
        "id": "Sz6imnBAdbOZ",
        "colab": {
          "base_uri": "https://localhost:8080/"
        },
        "outputId": "8a8d3186-b3fd-41f7-e855-81e90f5b3f0a"
      },
      "outputs": [
        {
          "output_type": "stream",
          "name": "stdout",
          "text": [
            "test_set1 score: 0.83\n",
            "test_set2 score: 0.82\n"
          ]
        }
      ],
      "source": [
        "# TODO - Print test score accuracies for test_set1 and test_set2\n",
        "test_set1_score = grid.best_estimator_.score(X1, y1)\n",
        "test_set2_score = grid.best_estimator_.score(X2, y2)\n",
        "\n",
        "#Printing the test score\n",
        "print(\"test_set1 score: {:.2f}\".format(test_set1_score))\n",
        "print(\"test_set2 score: {:.2f}\".format(test_set2_score))"
      ]
    },
    {
      "cell_type": "markdown",
      "metadata": {
        "id": "_bjMEFuNdbOZ"
      },
      "source": [
        "Display the confusion matrix and print the classification for test_set 1 *(X1, y1)*"
      ]
    },
    {
      "cell_type": "code",
      "execution_count": 135,
      "metadata": {
        "id": "CzWsKXOSdbOa",
        "colab": {
          "base_uri": "https://localhost:8080/",
          "height": 768
        },
        "outputId": "426515f7-17df-4285-f473-8c84133a1f46"
      },
      "outputs": [
        {
          "output_type": "display_data",
          "data": {
            "text/plain": [
              "<Figure size 800x600 with 2 Axes>"
            ],
            "image/png": "[encoded data removed]"
          },
          "metadata": {}
        },
        {
          "output_type": "stream",
          "name": "stdout",
          "text": [
            "Classification Report for Test Set 1:\n",
            "\n",
            "              precision    recall  f1-score   support\n",
            "\n",
            "        rest       0.95      0.99      0.97       231\n",
            "    straight       0.82      0.88      0.85       411\n",
            "        turn       0.63      0.43      0.51       141\n",
            "\n",
            "    accuracy                           0.83       783\n",
            "   macro avg       0.80      0.77      0.78       783\n",
            "weighted avg       0.82      0.83      0.82       783\n",
            "\n"
          ]
        }
      ],
      "source": [
        "# TODO - Display confusion matrix and print classification report for (X1, y1)\n",
        "\n",
        "import sklearn.metrics as confusion_matrix\n",
        "from sklearn.metrics import classification_report\n",
        "import matplotlib.pyplot as plt\n",
        "import seaborn as sns\n",
        "\n",
        "#Predicting on test_set1\n",
        "y1_pred = grid.best_estimator_.predict(X1)\n",
        "\n",
        "#Computing the Confusion Matrix\n",
        "conf_matrix_1 = confusion_matrix.confusion_matrix(y1, y1_pred)\n",
        "\n",
        "#Plotting the Confusion Matrix\n",
        "plt.figure(figsize=(8, 6))\n",
        "sns.heatmap(conf_matrix_1, annot=True, fmt='d', cmap='Blues', xticklabels=grid.classes_, yticklabels=grid.classes_)\n",
        "plt.xlabel('Predicted labels')\n",
        "plt.ylabel('True Labels')\n",
        "plt.title('Confusion Matrix for Test Set 1')\n",
        "plt.show()\n",
        "\n",
        "#Printing the Classification Report\n",
        "print(\"Classification Report for Test Set 1:\\n\")\n",
        "print(classification_report(y1, y1_pred))"
      ]
    },
    {
      "cell_type": "markdown",
      "metadata": {
        "id": "NgFmd3bMdbOa"
      },
      "source": [
        "Display the confusion matrix and print the classification for test_set 2 *(X2, y2)*"
      ]
    },
    {
      "cell_type": "code",
      "execution_count": 136,
      "metadata": {
        "id": "4w3DYyDBdbOa",
        "colab": {
          "base_uri": "https://localhost:8080/",
          "height": 768
        },
        "outputId": "84bfa101-7abb-45df-e0e5-9e96a4546d2e"
      },
      "outputs": [
        {
          "output_type": "display_data",
          "data": {
            "text/plain": [
              "<Figure size 800x600 with 2 Axes>"
            ],
            "image/png": "[encoded data removed]"
          },
          "metadata": {}
        },
        {
          "output_type": "stream",
          "name": "stdout",
          "text": [
            "Classification Report for Test Set 2:\n",
            "\n",
            "              precision    recall  f1-score   support\n",
            "\n",
            "        rest       1.00      0.94      0.97        16\n",
            "    straight       0.81      0.97      0.88       206\n",
            "        turn       0.82      0.37      0.51        75\n",
            "\n",
            "    accuracy                           0.82       297\n",
            "   macro avg       0.88      0.76      0.79       297\n",
            "weighted avg       0.82      0.82      0.79       297\n",
            "\n"
          ]
        }
      ],
      "source": [
        "# TODO - Display confusion matrix and print classification report for (X2, y2)\n",
        "#Predicting on test_set2\n",
        "y2_pred = grid.best_estimator_.predict(X2)\n",
        "\n",
        "#Computing the Confusion Matrix\n",
        "conf_matrix_2 = confusion_matrix.confusion_matrix(y2, y2_pred)\n",
        "\n",
        "#Plotting the Confusion Matrix\n",
        "plt.figure(figsize=(8, 6))\n",
        "sns.heatmap(conf_matrix_2, annot=True, fmt='d', cmap='Blues', xticklabels=grid.classes_, yticklabels=grid.classes_)\n",
        "plt.xlabel('Predicted labels')\n",
        "plt.ylabel('True Labels')\n",
        "plt.title('Confusion Matrix for Test Set 2')\n",
        "plt.show()\n",
        "\n",
        "#Printing the Classification Report\n",
        "print(\"Classification Report for Test Set 2:\\n\")\n",
        "print(classification_report(y2, y2_pred))"
      ]
    },
    {
      "cell_type": "markdown",
      "metadata": {
        "id": "RH3G3bI-dbOa"
      },
      "source": [
        "___"
      ]
    },
    {
      "cell_type": "markdown",
      "metadata": {
        "id": "bfNb0655dbOa"
      },
      "source": [
        "#### 2.2.3 Questions"
      ]
    },
    {
      "cell_type": "markdown",
      "metadata": {
        "id": "_Q3b1Yv7dbOa"
      },
      "source": [
        "1. For section 2, compare between the model's performance on the training/validation (2.1) set to the the performance on the two testing sets (2.2). How does the model fit? (3 marks)\n",
        "1. Compare the models' performances and fits between section 1 and section 2, and consider all three datasets. (3 marks)"
      ]
    },
    {
      "cell_type": "markdown",
      "metadata": {
        "id": "BeoFAjc_dbOb"
      },
      "source": [
        "#### 2.2.3 Answers\n",
        "1.\n",
        "\n",
        "1.\t**Training/Validation Performance (2.1):**\n",
        "\n",
        "Validation Accuracy: 81%.\n",
        "\n",
        "Indicates the model fits reasonably well to the selected features on the training data but with some limitations due to feature reduction.\n",
        "\n",
        "2.\t**Testing Performance (2.2):**\n",
        "\n",
        "Test Set 1 Accuracy: 83% — slightly higher than validation accuracy, suggesting good generalization to similar datasets.\n",
        "\n",
        "Test Set 2 Accuracy: 82% — comparable but shows reduced recall for the \"turn\" class, reflecting minor overfitting to the training data.\n",
        "\n",
        "**Conclusion:**\n",
        "\n",
        " The model fits well with the selected features, generalizing effectively to the test datasets. However, some loss in performance, especially for specific classes, highlights the impact of reduced feature diversity.\n",
        "\n",
        "2.1.\t**Section 1 (Full Features):**\n",
        "\n",
        "Validation Accuracy: 95%.\n",
        "\n",
        "Testing Accuracy: 96% on Test Set 1, but poor on Test Set 2 (25%) due to dataset shift.\n",
        "\n",
        "Better fit to training data and similar datasets but fails on mismatched distributions.\n",
        "\n",
        "\n",
        "2.\t**Section 2 (Selected Features):**\n",
        "\n",
        "Validation Accuracy: 81%.\n",
        "\n",
        "Testing Accuracy: Consistent across both test sets (83% and 82%).\n",
        "\n",
        "More robust generalization but limited overall accuracy due to reduced feature set.\n",
        "\n",
        "**Conclusion: **\n",
        "\n",
        "The Section 1 model performs better for datasets similar to the training set but struggles with distribution shifts. The Section 2 model, while less accurate, generalizes more consistently across all datasets, indicating a better balance between fit and robustness.\n"
      ]
    },
    {
      "cell_type": "markdown",
      "metadata": {
        "id": "ACYB71tIdbOb"
      },
      "source": [
        "____"
      ]
    },
    {
      "cell_type": "markdown",
      "metadata": {
        "id": "KZr4wNS3dbOb"
      },
      "source": [
        "## Section 3 - Classification Using *Group Selected Features* From Inertial Sensor Data (10 Marks)"
      ]
    },
    {
      "cell_type": "markdown",
      "metadata": {
        "id": "cXS_Q-hodbOb"
      },
      "source": [
        "Once again, an *SVC* model is to be trained and tuned using grid search. However, you must select which features to use from the ones provided in *cv_set*.  "
      ]
    },
    {
      "cell_type": "markdown",
      "metadata": {
        "id": "R6sxy_HndbOb"
      },
      "source": [
        "____"
      ]
    },
    {
      "cell_type": "markdown",
      "metadata": {
        "id": "THhpaXm2dbOb"
      },
      "source": [
        "### 3.1 Grid Search with Cross Validation (4 Marks)"
      ]
    },
    {
      "cell_type": "markdown",
      "metadata": {
        "id": "3v7wOaC9dbOb"
      },
      "source": [
        "___"
      ]
    },
    {
      "cell_type": "markdown",
      "metadata": {
        "id": "CKJo3jz4dbOb"
      },
      "source": [
        "#### 3.1.1 Extract *Group Selected* features and target from *cv_set*"
      ]
    },
    {
      "cell_type": "markdown",
      "metadata": {
        "id": "PiHVZhfWdbOc"
      },
      "source": [
        "**Question**\n",
        "1. Please list the features that you have selected and explain *why you have chosen* these features? (4 marks)\n"
      ]
    },
    {
      "cell_type": "markdown",
      "metadata": {
        "id": "oE3w-aaUdbOc"
      },
      "source": [
        "**Answer**\n",
        "1.  gx_var (Variance of gyroscope readings in x):\n",
        "\n",
        "2.\tgy_sum (Sum of gyroscope readings in y):\n",
        "\n",
        "3.\tax_min (Minimum accelerometer readings in x):\n",
        "\n",
        "4.\tay_max (Maximum accelerometer readings in y):\n",
        "\n",
        "5.\tgz_sum (Sum of gyroscope readings in z):\n",
        "\n",
        "**Justification:**\n",
        "1.\tRelevance to Motion States:\n",
        "These features focus on rotational activity and changes in acceleration, crucial for distinguishing between dynamic states like \"turn\" and \"straight.\"\n",
        "2.\tNon-Overlap with Previous Features: None of the selected features (gx_var, gy_sum, ax_min, ay_max, gz_sum) were used in earlier models, ensuring diversity.\n",
        "3.\tCoverage of Key Metrics: The features provide a balanced mix of minimum, maximum, variance, and summed values, offering a comprehensive view of motion data.\n",
        "4.\tPotential to Improve Performance: These features target nuances in rotational and vertical motion, which could improve the classification of challenging classes like \"turn.\"\n"
      ]
    },
    {
      "cell_type": "code",
      "execution_count": 137,
      "metadata": {
        "id": "gw8IFAQsdbOc",
        "colab": {
          "base_uri": "https://localhost:8080/",
          "height": 111
        },
        "outputId": "161c7b55-ba74-4f5a-d8d4-f3aa385205a1"
      },
      "outputs": [
        {
          "output_type": "execute_result",
          "data": {
            "text/plain": [
              "         gx_var    gy_sum    ax_min    ay_max    gz_sum\n",
              "0  2.365611e-09  0.001406 -0.001539  0.000544 -0.001391\n",
              "1  2.242613e-09  0.000103 -0.001752  0.000615 -0.001943"
            ],
            "text/html": [
              "\n",
              "  <div id=\"df-7d7d20ca-2319-41b8-8c98-ed57a8dec47b\" class=\"colab-df-container\">\n",
              "    <div>\n",
              "<style scoped>\n",
              "    .dataframe tbody tr th:only-of-type {\n",
              "        vertical-align: middle;\n",
              "    }\n",
              "\n",
              "    .dataframe tbody tr th {\n",
              "        vertical-align: top;\n",
              "    }\n",
              "\n",
              "    .dataframe thead th {\n",
              "        text-align: right;\n",
              "    }\n",
              "</style>\n",
              "<table border=\"1\" class=\"dataframe\">\n",
              "  <thead>\n",
              "    <tr style=\"text-align: right;\">\n",
              "      <th></th>\n",
              "      <th>gx_var</th>\n",
              "      <th>gy_sum</th>\n",
              "      <th>ax_min</th>\n",
              "      <th>ay_max</th>\n",
              "      <th>gz_sum</th>\n",
              "    </tr>\n",
              "  </thead>\n",
              "  <tbody>\n",
              "    <tr>\n",
              "      <th>0</th>\n",
              "      <td>2.365611e-09</td>\n",
              "      <td>0.001406</td>\n",
              "      <td>-0.001539</td>\n",
              "      <td>0.000544</td>\n",
              "      <td>-0.001391</td>\n",
              "    </tr>\n",
              "    <tr>\n",
              "      <th>1</th>\n",
              "      <td>2.242613e-09</td>\n",
              "      <td>0.000103</td>\n",
              "      <td>-0.001752</td>\n",
              "      <td>0.000615</td>\n",
              "      <td>-0.001943</td>\n",
              "    </tr>\n",
              "  </tbody>\n",
              "</table>\n",
              "</div>\n",
              "    <div class=\"colab-df-buttons\">\n",
              "\n",
              "  <div class=\"colab-df-container\">\n",
              "    <button class=\"colab-df-convert\" onclick=\"convertToInteractive('df-7d7d20ca-2319-41b8-8c98-ed57a8dec47b')\"\n",
              "            title=\"Convert this dataframe to an interactive table.\"\n",
              "            style=\"display:none;\">\n",
              "\n",
              "  <svg xmlns=\"http://www.w3.org/2000/svg\" height=\"24px\" viewBox=\"0 -960 960 960\">\n",
              "    <path d=\"M120-120v-720h720v720H120Zm60-500h600v-160H180v160Zm220 220h160v-160H400v160Zm0 220h160v-160H400v160ZM180-400h160v-160H180v160Zm440 0h160v-160H620v160ZM180-180h160v-160H180v160Zm440 0h160v-160H620v160Z\"/>\n",
              "  </svg>\n",
              "    </button>\n",
              "\n",
              "  <style>\n",
              "    .colab-df-container {\n",
              "      display:flex;\n",
              "      gap: 12px;\n",
              "    }\n",
              "\n",
              "    .colab-df-convert {\n",
              "      background-color: #E8F0FE;\n",
              "      border: none;\n",
              "      border-radius: 50%;\n",
              "      cursor: pointer;\n",
              "      display: none;\n",
              "      fill: #1967D2;\n",
              "      height: 32px;\n",
              "      padding: 0 0 0 0;\n",
              "      width: 32px;\n",
              "    }\n",
              "\n",
              "    .colab-df-convert:hover {\n",
              "      background-color: #E2EBFA;\n",
              "      box-shadow: 0px 1px 2px rgba(60, 64, 67, 0.3), 0px 1px 3px 1px rgba(60, 64, 67, 0.15);\n",
              "      fill: #174EA6;\n",
              "    }\n",
              "\n",
              "    .colab-df-buttons div {\n",
              "      margin-bottom: 4px;\n",
              "    }\n",
              "\n",
              "    [theme=dark] .colab-df-convert {\n",
              "      background-color: #3B4455;\n",
              "      fill: #D2E3FC;\n",
              "    }\n",
              "\n",
              "    [theme=dark] .colab-df-convert:hover {\n",
              "      background-color: #434B5C;\n",
              "      box-shadow: 0px 1px 3px 1px rgba(0, 0, 0, 0.15);\n",
              "      filter: drop-shadow(0px 1px 2px rgba(0, 0, 0, 0.3));\n",
              "      fill: #FFFFFF;\n",
              "    }\n",
              "  </style>\n",
              "\n",
              "    <script>\n",
              "      const buttonEl =\n",
              "        document.querySelector('#df-7d7d20ca-2319-41b8-8c98-ed57a8dec47b button.colab-df-convert');\n",
              "      buttonEl.style.display =\n",
              "        google.colab.kernel.accessAllowed ? 'block' : 'none';\n",
              "\n",
              "      async function convertToInteractive(key) {\n",
              "        const element = document.querySelector('#df-7d7d20ca-2319-41b8-8c98-ed57a8dec47b');\n",
              "        const dataTable =\n",
              "          await google.colab.kernel.invokeFunction('convertToInteractive',\n",
              "                                                    [key], {});\n",
              "        if (!dataTable) return;\n",
              "\n",
              "        const docLinkHtml = 'Like what you see? Visit the ' +\n",
              "          '<a target=\"_blank\" href=https://colab.research.google.com/notebooks/data_table.ipynb>data table notebook</a>'\n",
              "          + ' to learn more about interactive tables.';\n",
              "        element.innerHTML = '';\n",
              "        dataTable['output_type'] = 'display_data';\n",
              "        await google.colab.output.renderOutput(dataTable, element);\n",
              "        const docLink = document.createElement('div');\n",
              "        docLink.innerHTML = docLinkHtml;\n",
              "        element.appendChild(docLink);\n",
              "      }\n",
              "    </script>\n",
              "  </div>\n",
              "\n",
              "\n",
              "<div id=\"df-ca95c789-d164-466d-bca1-8b961251d453\">\n",
              "  <button class=\"colab-df-quickchart\" onclick=\"quickchart('df-ca95c789-d164-466d-bca1-8b961251d453')\"\n",
              "            title=\"Suggest charts\"\n",
              "            style=\"display:none;\">\n",
              "\n",
              "<svg xmlns=\"http://www.w3.org/2000/svg\" height=\"24px\"viewBox=\"0 0 24 24\"\n",
              "     width=\"24px\">\n",
              "    <g>\n",
              "        <path d=\"M19 3H5c-1.1 0-2 .9-2 2v14c0 1.1.9 2 2 2h14c1.1 0 2-.9 2-2V5c0-1.1-.9-2-2-2zM9 17H7v-7h2v7zm4 0h-2V7h2v10zm4 0h-2v-4h2v4z\"/>\n",
              "    </g>\n",
              "</svg>\n",
              "  </button>\n",
              "\n",
              "<style>\n",
              "  .colab-df-quickchart {\n",
              "      --bg-color: #E8F0FE;\n",
              "      --fill-color: #1967D2;\n",
              "      --hover-bg-color: #E2EBFA;\n",
              "      --hover-fill-color: #174EA6;\n",
              "      --disabled-fill-color: #AAA;\n",
              "      --disabled-bg-color: #DDD;\n",
              "  }\n",
              "\n",
              "  [theme=dark] .colab-df-quickchart {\n",
              "      --bg-color: #3B4455;\n",
              "      --fill-color: #D2E3FC;\n",
              "      --hover-bg-color: #434B5C;\n",
              "      --hover-fill-color: #FFFFFF;\n",
              "      --disabled-bg-color: #3B4455;\n",
              "      --disabled-fill-color: #666;\n",
              "  }\n",
              "\n",
              "  .colab-df-quickchart {\n",
              "    background-color: var(--bg-color);\n",
              "    border: none;\n",
              "    border-radius: 50%;\n",
              "    cursor: pointer;\n",
              "    display: none;\n",
              "    fill: var(--fill-color);\n",
              "    height: 32px;\n",
              "    padding: 0;\n",
              "    width: 32px;\n",
              "  }\n",
              "\n",
              "  .colab-df-quickchart:hover {\n",
              "    background-color: var(--hover-bg-color);\n",
              "    box-shadow: 0 1px 2px rgba(60, 64, 67, 0.3), 0 1px 3px 1px rgba(60, 64, 67, 0.15);\n",
              "    fill: var(--button-hover-fill-color);\n",
              "  }\n",
              "\n",
              "  .colab-df-quickchart-complete:disabled,\n",
              "  .colab-df-quickchart-complete:disabled:hover {\n",
              "    background-color: var(--disabled-bg-color);\n",
              "    fill: var(--disabled-fill-color);\n",
              "    box-shadow: none;\n",
              "  }\n",
              "\n",
              "  .colab-df-spinner {\n",
              "    border: 2px solid var(--fill-color);\n",
              "    border-color: transparent;\n",
              "    border-bottom-color: var(--fill-color);\n",
              "    animation:\n",
              "      spin 1s steps(1) infinite;\n",
              "  }\n",
              "\n",
              "  @keyframes spin {\n",
              "    0% {\n",
              "      border-color: transparent;\n",
              "      border-bottom-color: var(--fill-color);\n",
              "      border-left-color: var(--fill-color);\n",
              "    }\n",
              "    20% {\n",
              "      border-color: transparent;\n",
              "      border-left-color: var(--fill-color);\n",
              "      border-top-color: var(--fill-color);\n",
              "    }\n",
              "    30% {\n",
              "      border-color: transparent;\n",
              "      border-left-color: var(--fill-color);\n",
              "      border-top-color: var(--fill-color);\n",
              "      border-right-color: var(--fill-color);\n",
              "    }\n",
              "    40% {\n",
              "      border-color: transparent;\n",
              "      border-right-color: var(--fill-color);\n",
              "      border-top-color: var(--fill-color);\n",
              "    }\n",
              "    60% {\n",
              "      border-color: transparent;\n",
              "      border-right-color: var(--fill-color);\n",
              "    }\n",
              "    80% {\n",
              "      border-color: transparent;\n",
              "      border-right-color: var(--fill-color);\n",
              "      border-bottom-color: var(--fill-color);\n",
              "    }\n",
              "    90% {\n",
              "      border-color: transparent;\n",
              "      border-bottom-color: var(--fill-color);\n",
              "    }\n",
              "  }\n",
              "</style>\n",
              "\n",
              "  <script>\n",
              "    async function quickchart(key) {\n",
              "      const quickchartButtonEl =\n",
              "        document.querySelector('#' + key + ' button');\n",
              "      quickchartButtonEl.disabled = true;  // To prevent multiple clicks.\n",
              "      quickchartButtonEl.classList.add('colab-df-spinner');\n",
              "      try {\n",
              "        const charts = await google.colab.kernel.invokeFunction(\n",
              "            'suggestCharts', [key], {});\n",
              "      } catch (error) {\n",
              "        console.error('Error during call to suggestCharts:', error);\n",
              "      }\n",
              "      quickchartButtonEl.classList.remove('colab-df-spinner');\n",
              "      quickchartButtonEl.classList.add('colab-df-quickchart-complete');\n",
              "    }\n",
              "    (() => {\n",
              "      let quickchartButtonEl =\n",
              "        document.querySelector('#df-ca95c789-d164-466d-bca1-8b961251d453 button');\n",
              "      quickchartButtonEl.style.display =\n",
              "        google.colab.kernel.accessAllowed ? 'block' : 'none';\n",
              "    })();\n",
              "  </script>\n",
              "</div>\n",
              "\n",
              "    </div>\n",
              "  </div>\n"
            ],
            "application/vnd.google.colaboratory.intrinsic+json": {
              "type": "dataframe",
              "variable_name": "X",
              "summary": "{\n  \"name\": \"X\",\n  \"rows\": 1534,\n  \"fields\": [\n    {\n      \"column\": \"gx_var\",\n      \"properties\": {\n        \"dtype\": \"number\",\n        \"std\": 5.532719054142752e-09,\n        \"min\": 1.4789154958039346e-09,\n        \"max\": 8.463863608950303e-08,\n        \"num_unique_values\": 1534,\n        \"samples\": [\n          4.25170695750029e-09,\n          2.196989804264766e-09,\n          4.117557958586329e-09\n        ],\n        \"semantic_type\": \"\",\n        \"description\": \"\"\n      }\n    },\n    {\n      \"column\": \"gy_sum\",\n      \"properties\": {\n        \"dtype\": \"number\",\n        \"std\": 0.007038847748229617,\n        \"min\": -0.0421595328988041,\n        \"max\": 0.0467094304701094,\n        \"num_unique_values\": 1534,\n        \"samples\": [\n          0.002452522644271,\n          -0.0007922873391271,\n          0.0069065323773338\n        ],\n        \"semantic_type\": \"\",\n        \"description\": \"\"\n      }\n    },\n    {\n      \"column\": \"ax_min\",\n      \"properties\": {\n        \"dtype\": \"number\",\n        \"std\": 0.002761270061599146,\n        \"min\": -0.0166145157814025,\n        \"max\": 0.0015506443381309,\n        \"num_unique_values\": 1534,\n        \"samples\": [\n          -0.0072784966230392,\n          -0.0029229173064231,\n          -0.0097680056095123\n        ],\n        \"semantic_type\": \"\",\n        \"description\": \"\"\n      }\n    },\n    {\n      \"column\": \"ay_max\",\n      \"properties\": {\n        \"dtype\": \"number\",\n        \"std\": 0.003756653985030264,\n        \"min\": -0.0027836072444915,\n        \"max\": 0.0254461884498596,\n        \"num_unique_values\": 1534,\n        \"samples\": [\n          0.0056135469675064,\n          0.001021908596158,\n          0.0046341541409492\n        ],\n        \"semantic_type\": \"\",\n        \"description\": \"\"\n      }\n    },\n    {\n      \"column\": \"gz_sum\",\n      \"properties\": {\n        \"dtype\": \"number\",\n        \"std\": 0.08722199518990686,\n        \"min\": -0.6343958801031113,\n        \"max\": 0.4986200069636106,\n        \"num_unique_values\": 1534,\n        \"samples\": [\n          -0.0052663425757145,\n          -0.0017290637049973,\n          0.3295497896522283\n        ],\n        \"semantic_type\": \"\",\n        \"description\": \"\"\n      }\n    }\n  ]\n}"
            }
          },
          "metadata": {},
          "execution_count": 137
        }
      ],
      "source": [
        "# TODO - Load group selected features from cv_set to X\n",
        "X = cv_set[['gx_var', 'gy_sum', 'ax_min', 'ay_max', 'gz_sum']]\n",
        "X.head(2)"
      ]
    },
    {
      "cell_type": "code",
      "execution_count": 138,
      "metadata": {
        "id": "gbryXIsHdbOc",
        "colab": {
          "base_uri": "https://localhost:8080/",
          "height": 238
        },
        "outputId": "6850f356-befa-407b-ab92-dd26646a1d4a"
      },
      "outputs": [
        {
          "output_type": "execute_result",
          "data": {
            "text/plain": [
              "0        rest\n",
              "1        rest\n",
              "2    straight\n",
              "3        turn\n",
              "4        turn\n",
              "Name: motion_state, dtype: object"
            ],
            "text/html": [
              "<div>\n",
              "<style scoped>\n",
              "    .dataframe tbody tr th:only-of-type {\n",
              "        vertical-align: middle;\n",
              "    }\n",
              "\n",
              "    .dataframe tbody tr th {\n",
              "        vertical-align: top;\n",
              "    }\n",
              "\n",
              "    .dataframe thead th {\n",
              "        text-align: right;\n",
              "    }\n",
              "</style>\n",
              "<table border=\"1\" class=\"dataframe\">\n",
              "  <thead>\n",
              "    <tr style=\"text-align: right;\">\n",
              "      <th></th>\n",
              "      <th>motion_state</th>\n",
              "    </tr>\n",
              "  </thead>\n",
              "  <tbody>\n",
              "    <tr>\n",
              "      <th>0</th>\n",
              "      <td>rest</td>\n",
              "    </tr>\n",
              "    <tr>\n",
              "      <th>1</th>\n",
              "      <td>rest</td>\n",
              "    </tr>\n",
              "    <tr>\n",
              "      <th>2</th>\n",
              "      <td>straight</td>\n",
              "    </tr>\n",
              "    <tr>\n",
              "      <th>3</th>\n",
              "      <td>turn</td>\n",
              "    </tr>\n",
              "    <tr>\n",
              "      <th>4</th>\n",
              "      <td>turn</td>\n",
              "    </tr>\n",
              "  </tbody>\n",
              "</table>\n",
              "</div><br><label><b>dtype:</b> object</label>"
            ]
          },
          "metadata": {},
          "execution_count": 138
        }
      ],
      "source": [
        "# TODO - Load motion_state column (target vector) into y\n",
        "y = cv_set['motion_state']\n",
        "y.head()"
      ]
    },
    {
      "cell_type": "markdown",
      "metadata": {
        "id": "Fq5i4N6edbOc"
      },
      "source": [
        "___"
      ]
    },
    {
      "cell_type": "markdown",
      "metadata": {
        "id": "Z4tSwOwkdbOd"
      },
      "source": [
        "#### 3.1.2 - Configure and Perform Grid Search with Cross-Validation"
      ]
    },
    {
      "cell_type": "markdown",
      "metadata": {
        "id": "Wr0Iq5HddbOd"
      },
      "source": [
        "Follow the steps from **1.2.2** and perform model training and tuning using the group selected feature set."
      ]
    },
    {
      "cell_type": "code",
      "execution_count": 139,
      "metadata": {
        "id": "uxaMpvVudbOd",
        "colab": {
          "base_uri": "https://localhost:8080/"
        },
        "outputId": "ca9cc2f6-f5fd-4ffe-96dc-f6541683e8a4"
      },
      "outputs": [
        {
          "output_type": "stream",
          "name": "stdout",
          "text": [
            "Best parameters found: {'classifier__C': 100, 'classifier__gamma': 0.1, 'classifier__kernel': 'rbf'}\n",
            "Best cross-validation Score: 0.916557024547061\n"
          ]
        }
      ],
      "source": [
        "# TODO - Perform model training and tuning using `GridSearchCV`\n",
        "from sklearn.pipeline import Pipeline\n",
        "from sklearn.svm import SVC\n",
        "from sklearn.preprocessing import StandardScaler, RobustScaler, MinMaxScaler, Normalizer\n",
        "from sklearn.model_selection import GridSearchCV\n",
        "\n",
        "#setting up the pipeline\n",
        "pipe = Pipeline([\n",
        "    ('scaler', StandardScaler()),\n",
        "    ('classifier', SVC())\n",
        "])\n",
        "\n",
        "#Defining the Parameter Grid for Hyperparameter Tuning\n",
        "param_grid = {\n",
        "    'classifier__C': [0.01, 0.1, 1, 10, 100],\n",
        "    'classifier__gamma': [0.001, 0.01, 0.1, 1],\n",
        "    'classifier__kernel': ['rbf']\n",
        "}\n",
        "\n",
        "#Initialising GridSearchCV\n",
        "grid = GridSearchCV(\n",
        "    estimator = pipe,\n",
        "    param_grid = param_grid,\n",
        "    cv = 5,\n",
        "    scoring = 'accuracy',\n",
        "    return_train_score = True\n",
        ")\n",
        "\n",
        "#Performing Grid Search on the Selected Features\n",
        "grid.fit(X, y)\n",
        "\n",
        "#Displaying the Best Parameters and Best Score\n",
        "print(\"Best parameters found:\", grid.best_params_)\n",
        "print(\"Best cross-validation Score:\", grid.best_score_)"
      ]
    },
    {
      "cell_type": "markdown",
      "metadata": {
        "id": "LimndESjdbOd"
      },
      "source": [
        "___"
      ]
    },
    {
      "cell_type": "markdown",
      "metadata": {
        "id": "rghUtoaqdbOd"
      },
      "source": [
        "#### 3.1.3 - Visualize Grid Search Results"
      ]
    },
    {
      "cell_type": "markdown",
      "metadata": {
        "id": "KCaRyCZtdbOd"
      },
      "source": [
        "Print the results from the grid search. The following outputs must be printed.\n",
        "* Best parameter set\n",
        "* Best cross-validation train score\n",
        "* Best cross-validation test score\n",
        "* Test set accuracy"
      ]
    },
    {
      "cell_type": "code",
      "execution_count": 140,
      "metadata": {
        "id": "0485-HobdbOd",
        "colab": {
          "base_uri": "https://localhost:8080/"
        },
        "outputId": "1a029c29-f8ea-4989-d14b-a90a3c0eb56a"
      },
      "outputs": [
        {
          "output_type": "stream",
          "name": "stdout",
          "text": [
            "Best params:\n",
            "{'classifier__C': 100, 'classifier__gamma': 0.1, 'classifier__kernel': 'rbf'}\n",
            "\n",
            "Best cross-validation train score: 0.95\n",
            "Best cross-validation validation score: 0.92\n",
            "Test-set score: 0.95\n"
          ]
        }
      ],
      "source": [
        "# TODO: Print the results from the grid search\n",
        "\n",
        "print(\"Best params:\\n{}\\n\".format(grid.best_params_))\n",
        "print(\"Best cross-validation train score: {:.2f}\".format(grid.cv_results_['mean_train_score'][grid.best_index_]))\n",
        "print(\"Best cross-validation validation score: {:.2f}\".format(grid.best_score_))\n",
        "print(\"Test-set score: {:.2f}\".format(grid.best_estimator_.score(X,y)))"
      ]
    },
    {
      "cell_type": "markdown",
      "metadata": {
        "id": "MMjH97YKdbOe"
      },
      "source": [
        "Display the confusion matrix and print the classification report for the trained model using the *test* split."
      ]
    },
    {
      "cell_type": "code",
      "execution_count": 141,
      "metadata": {
        "id": "bM2hVhepdbOe",
        "colab": {
          "base_uri": "https://localhost:8080/",
          "height": 768
        },
        "outputId": "777f2429-1641-4406-e518-b2a205d3115f"
      },
      "outputs": [
        {
          "output_type": "display_data",
          "data": {
            "text/plain": [
              "<Figure size 800x600 with 2 Axes>"
            ],
            "image/png": "[encoded data removed]"
          },
          "metadata": {}
        },
        {
          "output_type": "stream",
          "name": "stdout",
          "text": [
            "Classification Report:\n",
            "\n",
            "              precision    recall  f1-score   support\n",
            "\n",
            "        rest       0.88      0.99      0.93       517\n",
            "    straight       0.98      0.90      0.94       689\n",
            "        turn       1.00      0.98      0.99       328\n",
            "\n",
            "    accuracy                           0.95      1534\n",
            "   macro avg       0.95      0.96      0.95      1534\n",
            "weighted avg       0.95      0.95      0.95      1534\n",
            "\n"
          ]
        }
      ],
      "source": [
        "# TODO - Display confusion matrix and print classification report\n",
        "\n",
        "import sklearn.metrics as confusion_matrix\n",
        "from sklearn.metrics import classification_report\n",
        "import matplotlib.pyplot as plt\n",
        "import seaborn as sns\n",
        "\n",
        "#Predicting on the Dataset\n",
        "y_pred = grid.best_estimator_.predict(X)\n",
        "\n",
        "#Computing the Confusion Matrix\n",
        "conf_matrix = confusion_matrix.confusion_matrix(y, y_pred)\n",
        "\n",
        "#Plotting the Confusion Matrix\n",
        "plt.figure(figsize=(8, 6))\n",
        "sns.heatmap(conf_matrix, annot=True, fmt='d', cmap='Blues', xticklabels=grid.classes_, yticklabels=grid.classes_)\n",
        "plt.xlabel('Predicted labels')\n",
        "plt.ylabel('True Labels')\n",
        "plt.title('Confusion Matrix')\n",
        "plt.show()\n",
        "\n",
        "#Printing the Classification Report\n",
        "print(\"Classification Report:\\n\")\n",
        "print(classification_report(y, y_pred))"
      ]
    },
    {
      "cell_type": "markdown",
      "metadata": {
        "id": "pqmJ3x83dbOf"
      },
      "source": [
        "___"
      ]
    },
    {
      "cell_type": "markdown",
      "metadata": {
        "id": "QXqnWBAvdbOf"
      },
      "source": [
        "### 3.2 - Model Evaluation on Test Datasets 1 and 2 (6 Marks)"
      ]
    },
    {
      "cell_type": "markdown",
      "metadata": {
        "id": "VqFR1HaAdbOf"
      },
      "source": [
        "___"
      ]
    },
    {
      "cell_type": "markdown",
      "metadata": {
        "id": "9SFtMl4YdbOg"
      },
      "source": [
        "#### 3.2.1 - Extract group selected features and targets from test datasets"
      ]
    },
    {
      "cell_type": "markdown",
      "metadata": {
        "id": "_tcjguEmdbOg"
      },
      "source": [
        "The model trained in 3.1 is to be tested on the independent datasets, that is test_set1 and test_set2.\n",
        "Seperate the testsets into group selected features and target vectors *(X1, y1)* and *(X2,y2)*"
      ]
    },
    {
      "cell_type": "code",
      "execution_count": 142,
      "metadata": {
        "id": "aUGb_7n0dbOg",
        "colab": {
          "base_uri": "https://localhost:8080/",
          "height": 111
        },
        "outputId": "2a68f225-9790-439d-c000-c444bf905912"
      },
      "outputs": [
        {
          "output_type": "execute_result",
          "data": {
            "text/plain": [
              "         gx_var    gy_sum    ax_min    ay_max    gz_sum\n",
              "0  3.655217e-09  0.000218 -0.001191  0.000845 -0.001143\n",
              "1  3.349120e-09 -0.000523 -0.001104  0.000949 -0.001999"
            ],
            "text/html": [
              "\n",
              "  <div id=\"df-a4f57a51-e982-4e8a-89d1-26da7efa2656\" class=\"colab-df-container\">\n",
              "    <div>\n",
              "<style scoped>\n",
              "    .dataframe tbody tr th:only-of-type {\n",
              "        vertical-align: middle;\n",
              "    }\n",
              "\n",
              "    .dataframe tbody tr th {\n",
              "        vertical-align: top;\n",
              "    }\n",
              "\n",
              "    .dataframe thead th {\n",
              "        text-align: right;\n",
              "    }\n",
              "</style>\n",
              "<table border=\"1\" class=\"dataframe\">\n",
              "  <thead>\n",
              "    <tr style=\"text-align: right;\">\n",
              "      <th></th>\n",
              "      <th>gx_var</th>\n",
              "      <th>gy_sum</th>\n",
              "      <th>ax_min</th>\n",
              "      <th>ay_max</th>\n",
              "      <th>gz_sum</th>\n",
              "    </tr>\n",
              "  </thead>\n",
              "  <tbody>\n",
              "    <tr>\n",
              "      <th>0</th>\n",
              "      <td>3.655217e-09</td>\n",
              "      <td>0.000218</td>\n",
              "      <td>-0.001191</td>\n",
              "      <td>0.000845</td>\n",
              "      <td>-0.001143</td>\n",
              "    </tr>\n",
              "    <tr>\n",
              "      <th>1</th>\n",
              "      <td>3.349120e-09</td>\n",
              "      <td>-0.000523</td>\n",
              "      <td>-0.001104</td>\n",
              "      <td>0.000949</td>\n",
              "      <td>-0.001999</td>\n",
              "    </tr>\n",
              "  </tbody>\n",
              "</table>\n",
              "</div>\n",
              "    <div class=\"colab-df-buttons\">\n",
              "\n",
              "  <div class=\"colab-df-container\">\n",
              "    <button class=\"colab-df-convert\" onclick=\"convertToInteractive('df-a4f57a51-e982-4e8a-89d1-26da7efa2656')\"\n",
              "            title=\"Convert this dataframe to an interactive table.\"\n",
              "            style=\"display:none;\">\n",
              "\n",
              "  <svg xmlns=\"http://www.w3.org/2000/svg\" height=\"24px\" viewBox=\"0 -960 960 960\">\n",
              "    <path d=\"M120-120v-720h720v720H120Zm60-500h600v-160H180v160Zm220 220h160v-160H400v160Zm0 220h160v-160H400v160ZM180-400h160v-160H180v160Zm440 0h160v-160H620v160ZM180-180h160v-160H180v160Zm440 0h160v-160H620v160Z\"/>\n",
              "  </svg>\n",
              "    </button>\n",
              "\n",
              "  <style>\n",
              "    .colab-df-container {\n",
              "      display:flex;\n",
              "      gap: 12px;\n",
              "    }\n",
              "\n",
              "    .colab-df-convert {\n",
              "      background-color: #E8F0FE;\n",
              "      border: none;\n",
              "      border-radius: 50%;\n",
              "      cursor: pointer;\n",
              "      display: none;\n",
              "      fill: #1967D2;\n",
              "      height: 32px;\n",
              "      padding: 0 0 0 0;\n",
              "      width: 32px;\n",
              "    }\n",
              "\n",
              "    .colab-df-convert:hover {\n",
              "      background-color: #E2EBFA;\n",
              "      box-shadow: 0px 1px 2px rgba(60, 64, 67, 0.3), 0px 1px 3px 1px rgba(60, 64, 67, 0.15);\n",
              "      fill: #174EA6;\n",
              "    }\n",
              "\n",
              "    .colab-df-buttons div {\n",
              "      margin-bottom: 4px;\n",
              "    }\n",
              "\n",
              "    [theme=dark] .colab-df-convert {\n",
              "      background-color: #3B4455;\n",
              "      fill: #D2E3FC;\n",
              "    }\n",
              "\n",
              "    [theme=dark] .colab-df-convert:hover {\n",
              "      background-color: #434B5C;\n",
              "      box-shadow: 0px 1px 3px 1px rgba(0, 0, 0, 0.15);\n",
              "      filter: drop-shadow(0px 1px 2px rgba(0, 0, 0, 0.3));\n",
              "      fill: #FFFFFF;\n",
              "    }\n",
              "  </style>\n",
              "\n",
              "    <script>\n",
              "      const buttonEl =\n",
              "        document.querySelector('#df-a4f57a51-e982-4e8a-89d1-26da7efa2656 button.colab-df-convert');\n",
              "      buttonEl.style.display =\n",
              "        google.colab.kernel.accessAllowed ? 'block' : 'none';\n",
              "\n",
              "      async function convertToInteractive(key) {\n",
              "        const element = document.querySelector('#df-a4f57a51-e982-4e8a-89d1-26da7efa2656');\n",
              "        const dataTable =\n",
              "          await google.colab.kernel.invokeFunction('convertToInteractive',\n",
              "                                                    [key], {});\n",
              "        if (!dataTable) return;\n",
              "\n",
              "        const docLinkHtml = 'Like what you see? Visit the ' +\n",
              "          '<a target=\"_blank\" href=https://colab.research.google.com/notebooks/data_table.ipynb>data table notebook</a>'\n",
              "          + ' to learn more about interactive tables.';\n",
              "        element.innerHTML = '';\n",
              "        dataTable['output_type'] = 'display_data';\n",
              "        await google.colab.output.renderOutput(dataTable, element);\n",
              "        const docLink = document.createElement('div');\n",
              "        docLink.innerHTML = docLinkHtml;\n",
              "        element.appendChild(docLink);\n",
              "      }\n",
              "    </script>\n",
              "  </div>\n",
              "\n",
              "\n",
              "<div id=\"df-c865f84d-353c-49d9-b7c8-4bf61de85d7c\">\n",
              "  <button class=\"colab-df-quickchart\" onclick=\"quickchart('df-c865f84d-353c-49d9-b7c8-4bf61de85d7c')\"\n",
              "            title=\"Suggest charts\"\n",
              "            style=\"display:none;\">\n",
              "\n",
              "<svg xmlns=\"http://www.w3.org/2000/svg\" height=\"24px\"viewBox=\"0 0 24 24\"\n",
              "     width=\"24px\">\n",
              "    <g>\n",
              "        <path d=\"M19 3H5c-1.1 0-2 .9-2 2v14c0 1.1.9 2 2 2h14c1.1 0 2-.9 2-2V5c0-1.1-.9-2-2-2zM9 17H7v-7h2v7zm4 0h-2V7h2v10zm4 0h-2v-4h2v4z\"/>\n",
              "    </g>\n",
              "</svg>\n",
              "  </button>\n",
              "\n",
              "<style>\n",
              "  .colab-df-quickchart {\n",
              "      --bg-color: #E8F0FE;\n",
              "      --fill-color: #1967D2;\n",
              "      --hover-bg-color: #E2EBFA;\n",
              "      --hover-fill-color: #174EA6;\n",
              "      --disabled-fill-color: #AAA;\n",
              "      --disabled-bg-color: #DDD;\n",
              "  }\n",
              "\n",
              "  [theme=dark] .colab-df-quickchart {\n",
              "      --bg-color: #3B4455;\n",
              "      --fill-color: #D2E3FC;\n",
              "      --hover-bg-color: #434B5C;\n",
              "      --hover-fill-color: #FFFFFF;\n",
              "      --disabled-bg-color: #3B4455;\n",
              "      --disabled-fill-color: #666;\n",
              "  }\n",
              "\n",
              "  .colab-df-quickchart {\n",
              "    background-color: var(--bg-color);\n",
              "    border: none;\n",
              "    border-radius: 50%;\n",
              "    cursor: pointer;\n",
              "    display: none;\n",
              "    fill: var(--fill-color);\n",
              "    height: 32px;\n",
              "    padding: 0;\n",
              "    width: 32px;\n",
              "  }\n",
              "\n",
              "  .colab-df-quickchart:hover {\n",
              "    background-color: var(--hover-bg-color);\n",
              "    box-shadow: 0 1px 2px rgba(60, 64, 67, 0.3), 0 1px 3px 1px rgba(60, 64, 67, 0.15);\n",
              "    fill: var(--button-hover-fill-color);\n",
              "  }\n",
              "\n",
              "  .colab-df-quickchart-complete:disabled,\n",
              "  .colab-df-quickchart-complete:disabled:hover {\n",
              "    background-color: var(--disabled-bg-color);\n",
              "    fill: var(--disabled-fill-color);\n",
              "    box-shadow: none;\n",
              "  }\n",
              "\n",
              "  .colab-df-spinner {\n",
              "    border: 2px solid var(--fill-color);\n",
              "    border-color: transparent;\n",
              "    border-bottom-color: var(--fill-color);\n",
              "    animation:\n",
              "      spin 1s steps(1) infinite;\n",
              "  }\n",
              "\n",
              "  @keyframes spin {\n",
              "    0% {\n",
              "      border-color: transparent;\n",
              "      border-bottom-color: var(--fill-color);\n",
              "      border-left-color: var(--fill-color);\n",
              "    }\n",
              "    20% {\n",
              "      border-color: transparent;\n",
              "      border-left-color: var(--fill-color);\n",
              "      border-top-color: var(--fill-color);\n",
              "    }\n",
              "    30% {\n",
              "      border-color: transparent;\n",
              "      border-left-color: var(--fill-color);\n",
              "      border-top-color: var(--fill-color);\n",
              "      border-right-color: var(--fill-color);\n",
              "    }\n",
              "    40% {\n",
              "      border-color: transparent;\n",
              "      border-right-color: var(--fill-color);\n",
              "      border-top-color: var(--fill-color);\n",
              "    }\n",
              "    60% {\n",
              "      border-color: transparent;\n",
              "      border-right-color: var(--fill-color);\n",
              "    }\n",
              "    80% {\n",
              "      border-color: transparent;\n",
              "      border-right-color: var(--fill-color);\n",
              "      border-bottom-color: var(--fill-color);\n",
              "    }\n",
              "    90% {\n",
              "      border-color: transparent;\n",
              "      border-bottom-color: var(--fill-color);\n",
              "    }\n",
              "  }\n",
              "</style>\n",
              "\n",
              "  <script>\n",
              "    async function quickchart(key) {\n",
              "      const quickchartButtonEl =\n",
              "        document.querySelector('#' + key + ' button');\n",
              "      quickchartButtonEl.disabled = true;  // To prevent multiple clicks.\n",
              "      quickchartButtonEl.classList.add('colab-df-spinner');\n",
              "      try {\n",
              "        const charts = await google.colab.kernel.invokeFunction(\n",
              "            'suggestCharts', [key], {});\n",
              "      } catch (error) {\n",
              "        console.error('Error during call to suggestCharts:', error);\n",
              "      }\n",
              "      quickchartButtonEl.classList.remove('colab-df-spinner');\n",
              "      quickchartButtonEl.classList.add('colab-df-quickchart-complete');\n",
              "    }\n",
              "    (() => {\n",
              "      let quickchartButtonEl =\n",
              "        document.querySelector('#df-c865f84d-353c-49d9-b7c8-4bf61de85d7c button');\n",
              "      quickchartButtonEl.style.display =\n",
              "        google.colab.kernel.accessAllowed ? 'block' : 'none';\n",
              "    })();\n",
              "  </script>\n",
              "</div>\n",
              "\n",
              "    </div>\n",
              "  </div>\n"
            ],
            "application/vnd.google.colaboratory.intrinsic+json": {
              "type": "dataframe",
              "variable_name": "X1",
              "summary": "{\n  \"name\": \"X1\",\n  \"rows\": 783,\n  \"fields\": [\n    {\n      \"column\": \"gx_var\",\n      \"properties\": {\n        \"dtype\": \"number\",\n        \"std\": 1.1909301651001612e-08,\n        \"min\": 1.965489790328407e-09,\n        \"max\": 1.2802336049193256e-07,\n        \"num_unique_values\": 783,\n        \"samples\": [\n          2.9858193201131024e-08,\n          9.331397846281805e-09,\n          1.1471361391313444e-08\n        ],\n        \"semantic_type\": \"\",\n        \"description\": \"\"\n      }\n    },\n    {\n      \"column\": \"gy_sum\",\n      \"properties\": {\n        \"dtype\": \"number\",\n        \"std\": 0.009420311507091928,\n        \"min\": -0.0467065231327432,\n        \"max\": 0.0739578215545043,\n        \"num_unique_values\": 783,\n        \"samples\": [\n          -0.0094139467553782,\n          -0.0036627764311742,\n          -0.0013787412016972\n        ],\n        \"semantic_type\": \"\",\n        \"description\": \"\"\n      }\n    },\n    {\n      \"column\": \"ax_min\",\n      \"properties\": {\n        \"dtype\": \"number\",\n        \"std\": 0.0034655273761064983,\n        \"min\": -0.0228940248489379,\n        \"max\": -0.00028772495687,\n        \"num_unique_values\": 783,\n        \"samples\": [\n          -0.0068054693937301,\n          -0.0058016246557235,\n          -0.0094815826416015\n        ],\n        \"semantic_type\": \"\",\n        \"description\": \"\"\n      }\n    },\n    {\n      \"column\": \"ay_max\",\n      \"properties\": {\n        \"dtype\": \"number\",\n        \"std\": 0.005155408067037141,\n        \"min\": -0.0035481876134872,\n        \"max\": 0.0252808046340942,\n        \"num_unique_values\": 783,\n        \"samples\": [\n          0.0134334695339202,\n          0.0070321553945541,\n          0.0118930912017822\n        ],\n        \"semantic_type\": \"\",\n        \"description\": \"\"\n      }\n    },\n    {\n      \"column\": \"gz_sum\",\n      \"properties\": {\n        \"dtype\": \"number\",\n        \"std\": 0.08252739015106196,\n        \"min\": -0.4269867972284555,\n        \"max\": 0.6028845436871052,\n        \"num_unique_values\": 783,\n        \"samples\": [\n          -0.1463727621920406,\n          -0.0172100596446034,\n          -0.0161259849763927\n        ],\n        \"semantic_type\": \"\",\n        \"description\": \"\"\n      }\n    }\n  ]\n}"
            }
          },
          "metadata": {},
          "execution_count": 142
        }
      ],
      "source": [
        "# TODO - Load the target vector from test_set1 into y1, and the group selected features from test_set1 into X1\n",
        "y1 = test_set1['motion_state']\n",
        "X1 = test_set1[['gx_var', 'gy_sum', 'ax_min', 'ay_max', 'gz_sum']]\n",
        "X1.head(2)"
      ]
    },
    {
      "cell_type": "code",
      "execution_count": 143,
      "metadata": {
        "id": "18i8praTdbOg",
        "colab": {
          "base_uri": "https://localhost:8080/",
          "height": 111
        },
        "outputId": "8f799038-4574-4387-d3bd-944fd669928e"
      },
      "outputs": [
        {
          "output_type": "execute_result",
          "data": {
            "text/plain": [
              "         gx_var    gy_sum    ax_min    ay_max    gz_sum\n",
              "0  1.718706e-09  0.001311 -0.002970  0.002993 -0.001901\n",
              "1  2.179497e-09  0.001898 -0.003824  0.004106 -0.002051"
            ],
            "text/html": [
              "\n",
              "  <div id=\"df-0403b947-a0dd-46ed-ac09-b2db01888e6b\" class=\"colab-df-container\">\n",
              "    <div>\n",
              "<style scoped>\n",
              "    .dataframe tbody tr th:only-of-type {\n",
              "        vertical-align: middle;\n",
              "    }\n",
              "\n",
              "    .dataframe tbody tr th {\n",
              "        vertical-align: top;\n",
              "    }\n",
              "\n",
              "    .dataframe thead th {\n",
              "        text-align: right;\n",
              "    }\n",
              "</style>\n",
              "<table border=\"1\" class=\"dataframe\">\n",
              "  <thead>\n",
              "    <tr style=\"text-align: right;\">\n",
              "      <th></th>\n",
              "      <th>gx_var</th>\n",
              "      <th>gy_sum</th>\n",
              "      <th>ax_min</th>\n",
              "      <th>ay_max</th>\n",
              "      <th>gz_sum</th>\n",
              "    </tr>\n",
              "  </thead>\n",
              "  <tbody>\n",
              "    <tr>\n",
              "      <th>0</th>\n",
              "      <td>1.718706e-09</td>\n",
              "      <td>0.001311</td>\n",
              "      <td>-0.002970</td>\n",
              "      <td>0.002993</td>\n",
              "      <td>-0.001901</td>\n",
              "    </tr>\n",
              "    <tr>\n",
              "      <th>1</th>\n",
              "      <td>2.179497e-09</td>\n",
              "      <td>0.001898</td>\n",
              "      <td>-0.003824</td>\n",
              "      <td>0.004106</td>\n",
              "      <td>-0.002051</td>\n",
              "    </tr>\n",
              "  </tbody>\n",
              "</table>\n",
              "</div>\n",
              "    <div class=\"colab-df-buttons\">\n",
              "\n",
              "  <div class=\"colab-df-container\">\n",
              "    <button class=\"colab-df-convert\" onclick=\"convertToInteractive('df-0403b947-a0dd-46ed-ac09-b2db01888e6b')\"\n",
              "            title=\"Convert this dataframe to an interactive table.\"\n",
              "            style=\"display:none;\">\n",
              "\n",
              "  <svg xmlns=\"http://www.w3.org/2000/svg\" height=\"24px\" viewBox=\"0 -960 960 960\">\n",
              "    <path d=\"M120-120v-720h720v720H120Zm60-500h600v-160H180v160Zm220 220h160v-160H400v160Zm0 220h160v-160H400v160ZM180-400h160v-160H180v160Zm440 0h160v-160H620v160ZM180-180h160v-160H180v160Zm440 0h160v-160H620v160Z\"/>\n",
              "  </svg>\n",
              "    </button>\n",
              "\n",
              "  <style>\n",
              "    .colab-df-container {\n",
              "      display:flex;\n",
              "      gap: 12px;\n",
              "    }\n",
              "\n",
              "    .colab-df-convert {\n",
              "      background-color: #E8F0FE;\n",
              "      border: none;\n",
              "      border-radius: 50%;\n",
              "      cursor: pointer;\n",
              "      display: none;\n",
              "      fill: #1967D2;\n",
              "      height: 32px;\n",
              "      padding: 0 0 0 0;\n",
              "      width: 32px;\n",
              "    }\n",
              "\n",
              "    .colab-df-convert:hover {\n",
              "      background-color: #E2EBFA;\n",
              "      box-shadow: 0px 1px 2px rgba(60, 64, 67, 0.3), 0px 1px 3px 1px rgba(60, 64, 67, 0.15);\n",
              "      fill: #174EA6;\n",
              "    }\n",
              "\n",
              "    .colab-df-buttons div {\n",
              "      margin-bottom: 4px;\n",
              "    }\n",
              "\n",
              "    [theme=dark] .colab-df-convert {\n",
              "      background-color: #3B4455;\n",
              "      fill: #D2E3FC;\n",
              "    }\n",
              "\n",
              "    [theme=dark] .colab-df-convert:hover {\n",
              "      background-color: #434B5C;\n",
              "      box-shadow: 0px 1px 3px 1px rgba(0, 0, 0, 0.15);\n",
              "      filter: drop-shadow(0px 1px 2px rgba(0, 0, 0, 0.3));\n",
              "      fill: #FFFFFF;\n",
              "    }\n",
              "  </style>\n",
              "\n",
              "    <script>\n",
              "      const buttonEl =\n",
              "        document.querySelector('#df-0403b947-a0dd-46ed-ac09-b2db01888e6b button.colab-df-convert');\n",
              "      buttonEl.style.display =\n",
              "        google.colab.kernel.accessAllowed ? 'block' : 'none';\n",
              "\n",
              "      async function convertToInteractive(key) {\n",
              "        const element = document.querySelector('#df-0403b947-a0dd-46ed-ac09-b2db01888e6b');\n",
              "        const dataTable =\n",
              "          await google.colab.kernel.invokeFunction('convertToInteractive',\n",
              "                                                    [key], {});\n",
              "        if (!dataTable) return;\n",
              "\n",
              "        const docLinkHtml = 'Like what you see? Visit the ' +\n",
              "          '<a target=\"_blank\" href=https://colab.research.google.com/notebooks/data_table.ipynb>data table notebook</a>'\n",
              "          + ' to learn more about interactive tables.';\n",
              "        element.innerHTML = '';\n",
              "        dataTable['output_type'] = 'display_data';\n",
              "        await google.colab.output.renderOutput(dataTable, element);\n",
              "        const docLink = document.createElement('div');\n",
              "        docLink.innerHTML = docLinkHtml;\n",
              "        element.appendChild(docLink);\n",
              "      }\n",
              "    </script>\n",
              "  </div>\n",
              "\n",
              "\n",
              "<div id=\"df-504a0388-dbcd-4993-9037-6f58fd4a8efc\">\n",
              "  <button class=\"colab-df-quickchart\" onclick=\"quickchart('df-504a0388-dbcd-4993-9037-6f58fd4a8efc')\"\n",
              "            title=\"Suggest charts\"\n",
              "            style=\"display:none;\">\n",
              "\n",
              "<svg xmlns=\"http://www.w3.org/2000/svg\" height=\"24px\"viewBox=\"0 0 24 24\"\n",
              "     width=\"24px\">\n",
              "    <g>\n",
              "        <path d=\"M19 3H5c-1.1 0-2 .9-2 2v14c0 1.1.9 2 2 2h14c1.1 0 2-.9 2-2V5c0-1.1-.9-2-2-2zM9 17H7v-7h2v7zm4 0h-2V7h2v10zm4 0h-2v-4h2v4z\"/>\n",
              "    </g>\n",
              "</svg>\n",
              "  </button>\n",
              "\n",
              "<style>\n",
              "  .colab-df-quickchart {\n",
              "      --bg-color: #E8F0FE;\n",
              "      --fill-color: #1967D2;\n",
              "      --hover-bg-color: #E2EBFA;\n",
              "      --hover-fill-color: #174EA6;\n",
              "      --disabled-fill-color: #AAA;\n",
              "      --disabled-bg-color: #DDD;\n",
              "  }\n",
              "\n",
              "  [theme=dark] .colab-df-quickchart {\n",
              "      --bg-color: #3B4455;\n",
              "      --fill-color: #D2E3FC;\n",
              "      --hover-bg-color: #434B5C;\n",
              "      --hover-fill-color: #FFFFFF;\n",
              "      --disabled-bg-color: #3B4455;\n",
              "      --disabled-fill-color: #666;\n",
              "  }\n",
              "\n",
              "  .colab-df-quickchart {\n",
              "    background-color: var(--bg-color);\n",
              "    border: none;\n",
              "    border-radius: 50%;\n",
              "    cursor: pointer;\n",
              "    display: none;\n",
              "    fill: var(--fill-color);\n",
              "    height: 32px;\n",
              "    padding: 0;\n",
              "    width: 32px;\n",
              "  }\n",
              "\n",
              "  .colab-df-quickchart:hover {\n",
              "    background-color: var(--hover-bg-color);\n",
              "    box-shadow: 0 1px 2px rgba(60, 64, 67, 0.3), 0 1px 3px 1px rgba(60, 64, 67, 0.15);\n",
              "    fill: var(--button-hover-fill-color);\n",
              "  }\n",
              "\n",
              "  .colab-df-quickchart-complete:disabled,\n",
              "  .colab-df-quickchart-complete:disabled:hover {\n",
              "    background-color: var(--disabled-bg-color);\n",
              "    fill: var(--disabled-fill-color);\n",
              "    box-shadow: none;\n",
              "  }\n",
              "\n",
              "  .colab-df-spinner {\n",
              "    border: 2px solid var(--fill-color);\n",
              "    border-color: transparent;\n",
              "    border-bottom-color: var(--fill-color);\n",
              "    animation:\n",
              "      spin 1s steps(1) infinite;\n",
              "  }\n",
              "\n",
              "  @keyframes spin {\n",
              "    0% {\n",
              "      border-color: transparent;\n",
              "      border-bottom-color: var(--fill-color);\n",
              "      border-left-color: var(--fill-color);\n",
              "    }\n",
              "    20% {\n",
              "      border-color: transparent;\n",
              "      border-left-color: var(--fill-color);\n",
              "      border-top-color: var(--fill-color);\n",
              "    }\n",
              "    30% {\n",
              "      border-color: transparent;\n",
              "      border-left-color: var(--fill-color);\n",
              "      border-top-color: var(--fill-color);\n",
              "      border-right-color: var(--fill-color);\n",
              "    }\n",
              "    40% {\n",
              "      border-color: transparent;\n",
              "      border-right-color: var(--fill-color);\n",
              "      border-top-color: var(--fill-color);\n",
              "    }\n",
              "    60% {\n",
              "      border-color: transparent;\n",
              "      border-right-color: var(--fill-color);\n",
              "    }\n",
              "    80% {\n",
              "      border-color: transparent;\n",
              "      border-right-color: var(--fill-color);\n",
              "      border-bottom-color: var(--fill-color);\n",
              "    }\n",
              "    90% {\n",
              "      border-color: transparent;\n",
              "      border-bottom-color: var(--fill-color);\n",
              "    }\n",
              "  }\n",
              "</style>\n",
              "\n",
              "  <script>\n",
              "    async function quickchart(key) {\n",
              "      const quickchartButtonEl =\n",
              "        document.querySelector('#' + key + ' button');\n",
              "      quickchartButtonEl.disabled = true;  // To prevent multiple clicks.\n",
              "      quickchartButtonEl.classList.add('colab-df-spinner');\n",
              "      try {\n",
              "        const charts = await google.colab.kernel.invokeFunction(\n",
              "            'suggestCharts', [key], {});\n",
              "      } catch (error) {\n",
              "        console.error('Error during call to suggestCharts:', error);\n",
              "      }\n",
              "      quickchartButtonEl.classList.remove('colab-df-spinner');\n",
              "      quickchartButtonEl.classList.add('colab-df-quickchart-complete');\n",
              "    }\n",
              "    (() => {\n",
              "      let quickchartButtonEl =\n",
              "        document.querySelector('#df-504a0388-dbcd-4993-9037-6f58fd4a8efc button');\n",
              "      quickchartButtonEl.style.display =\n",
              "        google.colab.kernel.accessAllowed ? 'block' : 'none';\n",
              "    })();\n",
              "  </script>\n",
              "</div>\n",
              "\n",
              "    </div>\n",
              "  </div>\n"
            ],
            "application/vnd.google.colaboratory.intrinsic+json": {
              "type": "dataframe",
              "variable_name": "X2",
              "summary": "{\n  \"name\": \"X2\",\n  \"rows\": 297,\n  \"fields\": [\n    {\n      \"column\": \"gx_var\",\n      \"properties\": {\n        \"dtype\": \"number\",\n        \"std\": 2.3497430366641225e-08,\n        \"min\": 1.4263606885989608e-09,\n        \"max\": 1.6222971586249505e-07,\n        \"num_unique_values\": 297,\n        \"samples\": [\n          2.0607487895752592e-08,\n          8.475514163437196e-09,\n          2.6542834660142984e-08\n        ],\n        \"semantic_type\": \"\",\n        \"description\": \"\"\n      }\n    },\n    {\n      \"column\": \"gy_sum\",\n      \"properties\": {\n        \"dtype\": \"number\",\n        \"std\": 0.008801145418363276,\n        \"min\": -0.0271634527423338,\n        \"max\": 0.0365831970231374,\n        \"num_unique_values\": 297,\n        \"samples\": [\n          8.749559900024547e-05,\n          -0.0049527339592214,\n          0.0078870789179199\n        ],\n        \"semantic_type\": \"\",\n        \"description\": \"\"\n      }\n    },\n    {\n      \"column\": \"ax_min\",\n      \"properties\": {\n        \"dtype\": \"number\",\n        \"std\": 0.005642300737928025,\n        \"min\": -0.0287193393707275,\n        \"max\": 0.00102478466928,\n        \"num_unique_values\": 297,\n        \"samples\": [\n          -0.0127901458740234,\n          -0.0103649175167083,\n          -0.0094184345006942\n        ],\n        \"semantic_type\": \"\",\n        \"description\": \"\"\n      }\n    },\n    {\n      \"column\": \"ay_max\",\n      \"properties\": {\n        \"dtype\": \"number\",\n        \"std\": 0.006877564409690458,\n        \"min\": -0.002287995070219,\n        \"max\": 0.0419812393188476,\n        \"num_unique_values\": 297,\n        \"samples\": [\n          0.0168317449092865,\n          0.0105826234817504,\n          0.0136093258857727\n        ],\n        \"semantic_type\": \"\",\n        \"description\": \"\"\n      }\n    },\n    {\n      \"column\": \"gz_sum\",\n      \"properties\": {\n        \"dtype\": \"number\",\n        \"std\": 0.11243051501300799,\n        \"min\": -0.519488305747509,\n        \"max\": 0.1741967674344777,\n        \"num_unique_values\": 297,\n        \"samples\": [\n          0.0212842190958326,\n          0.0026506977879944,\n          0.0182286866154754\n        ],\n        \"semantic_type\": \"\",\n        \"description\": \"\"\n      }\n    }\n  ]\n}"
            }
          },
          "metadata": {},
          "execution_count": 143
        }
      ],
      "source": [
        "# TODO - Load the target vector from test_set2 into y2, and the group selected features from test_set2 into X2\n",
        "y2 = test_set2['motion_state']\n",
        "X2 = test_set2[['gx_var', 'gy_sum', 'ax_min', 'ay_max', 'gz_sum']]\n",
        "X2.head(2)"
      ]
    },
    {
      "cell_type": "markdown",
      "metadata": {
        "id": "Tfi2bJyLdbOg"
      },
      "source": [
        "___"
      ]
    },
    {
      "cell_type": "markdown",
      "metadata": {
        "id": "_D5siIPQdbOg"
      },
      "source": [
        "#### 3.2.2 - Visualize Results"
      ]
    },
    {
      "cell_type": "markdown",
      "metadata": {
        "id": "7YO1H-LTdbOg"
      },
      "source": [
        "For each test dataset, print the test set accuracy score."
      ]
    },
    {
      "cell_type": "code",
      "execution_count": 144,
      "metadata": {
        "id": "ha-4KEfAdbOg",
        "colab": {
          "base_uri": "https://localhost:8080/"
        },
        "outputId": "23eb2618-6b4b-4e98-d0a9-ccac949d7ccd"
      },
      "outputs": [
        {
          "output_type": "stream",
          "name": "stdout",
          "text": [
            "test_set1 score: 0.78\n",
            "test_set2 score: 0.72\n"
          ]
        }
      ],
      "source": [
        "# TODO - Print test score accuracies for test_set1 and test_set2\n",
        "print(\"test_set1 score: {:.2f}\".format(grid.best_estimator_.score(X1, y1)))\n",
        "print(\"test_set2 score: {:.2f}\".format(grid.best_estimator_.score(X2, y2)))"
      ]
    },
    {
      "cell_type": "markdown",
      "metadata": {
        "id": "xfbIRtxedbOg"
      },
      "source": [
        "Display the confusion matrix and print the classification for test_set 1 *(X1, y1)*"
      ]
    },
    {
      "cell_type": "code",
      "execution_count": 145,
      "metadata": {
        "id": "Xmo0Cc7SdbOg",
        "colab": {
          "base_uri": "https://localhost:8080/",
          "height": 768
        },
        "outputId": "7102f71f-ffb7-456d-ffd7-726e98c70b48"
      },
      "outputs": [
        {
          "output_type": "display_data",
          "data": {
            "text/plain": [
              "<Figure size 800x600 with 2 Axes>"
            ],
            "image/png": "[encoded data removed]"
          },
          "metadata": {}
        },
        {
          "output_type": "stream",
          "name": "stdout",
          "text": [
            "Classification Report for Test Set 1:\n",
            "\n",
            "              precision    recall  f1-score   support\n",
            "\n",
            "        rest       0.94      0.43      0.59       231\n",
            "    straight       0.71      0.96      0.82       411\n",
            "        turn       0.91      0.82      0.86       141\n",
            "\n",
            "    accuracy                           0.78       783\n",
            "   macro avg       0.85      0.73      0.75       783\n",
            "weighted avg       0.82      0.78      0.76       783\n",
            "\n"
          ]
        }
      ],
      "source": [
        "# TODO - Display confusion matrix and print classification report for (X1, y1)\n",
        "from sklearn.metrics import confusion_matrix, classification_report\n",
        "import matplotlib.pyplot as plt\n",
        "import seaborn as sns\n",
        "\n",
        "#Get Predictions for test_set1\n",
        "y1_pred = grid.best_estimator_.predict(X1)\n",
        "\n",
        "#Compute the Confusion Matrix\n",
        "conf_matrix_1 = confusion_matrix(y1, y1_pred)\n",
        "\n",
        "#Plot the Confusion Matrix\n",
        "plt.figure(figsize=(8, 6))\n",
        "sns.heatmap(conf_matrix_1, annot=True, fmt='d', cmap='Blues', xticklabels=grid.classes_, yticklabels=grid.classes_)\n",
        "plt.xlabel('Predicted labels')\n",
        "plt.ylabel('True Labels')\n",
        "plt.title('Confusion Matrix for Test Set 1')\n",
        "plt.show()\n",
        "\n",
        "#Print classification Report for test_set1\n",
        "print(\"Classification Report for Test Set 1:\\n\")\n",
        "print(classification_report(y1, y1_pred))"
      ]
    },
    {
      "cell_type": "markdown",
      "metadata": {
        "id": "_e1yXIyndbOg"
      },
      "source": [
        "Display the confusion matrix and print the classification for test_set 2 *(X2, y2)*"
      ]
    },
    {
      "cell_type": "code",
      "execution_count": 146,
      "metadata": {
        "id": "0i1RAucndbOh",
        "colab": {
          "base_uri": "https://localhost:8080/",
          "height": 768
        },
        "outputId": "65f4702f-2781-4340-8b96-3152f985525c"
      },
      "outputs": [
        {
          "output_type": "display_data",
          "data": {
            "text/plain": [
              "<Figure size 800x600 with 2 Axes>"
            ],
            "image/png": "[encoded data removed]"
          },
          "metadata": {}
        },
        {
          "output_type": "stream",
          "name": "stdout",
          "text": [
            "Classification Report for Test Set 2:\n",
            "\n",
            "              precision    recall  f1-score   support\n",
            "\n",
            "        rest       1.00      0.06      0.12        16\n",
            "    straight       0.86      0.72      0.78       206\n",
            "        turn       0.53      0.87      0.66        75\n",
            "\n",
            "    accuracy                           0.72       297\n",
            "   macro avg       0.80      0.55      0.52       297\n",
            "weighted avg       0.78      0.72      0.72       297\n",
            "\n"
          ]
        }
      ],
      "source": [
        "# TODO - Display confusion matrix and print classification report for (X2, y2)\n",
        "from sklearn.metrics import confusion_matrix, classification_report\n",
        "import matplotlib.pyplot as plt\n",
        "import seaborn as sns\n",
        "\n",
        "#Generate confusion matrix for test_set2\n",
        "y2_pred = grid.best_estimator_.predict(X2)\n",
        "\n",
        "#Compute the Confusion Matrix\n",
        "conf_matrix_2 = confusion_matrix(y2, y2_pred)\n",
        "\n",
        "#Plot the Confusion Matrix as a heatmap\n",
        "plt.figure(figsize=(8, 6))\n",
        "sns.heatmap(conf_matrix_2, annot=True, fmt='d', cmap='Blues', xticklabels=grid.classes_, yticklabels=grid.classes_)\n",
        "plt.xlabel('Predicted labels')\n",
        "plt.ylabel('True Labels')\n",
        "plt.title('Confusion Matrix for Test Set 2')\n",
        "plt.show()\n",
        "\n",
        "#Print classification report for test_set2\n",
        "print(\"Classification Report for Test Set 2:\\n\")\n",
        "print(classification_report(y2, y2_pred))"
      ]
    },
    {
      "cell_type": "markdown",
      "metadata": {
        "id": "sYdnEWL1dbOh"
      },
      "source": [
        "___"
      ]
    },
    {
      "cell_type": "markdown",
      "metadata": {
        "id": "IL2bo6QCdbOh"
      },
      "source": [
        "#### 3.2.3 Questions"
      ]
    },
    {
      "cell_type": "markdown",
      "metadata": {
        "id": "E7dmbmlZdbOh"
      },
      "source": [
        "1. Based on the observations across all three datasets, compare the performance of the model trained in this section to: (3 marks)\n",
        "    1. Model trained in Section 1 using *all features*.\n",
        "    1. Model trained in Section 2 using *selected features*.\n",
        "\n",
        "2. Please proivde potential explanations for the differences observed in models' performances across the three sections. (3 marks)"
      ]
    },
    {
      "cell_type": "markdown",
      "metadata": {
        "id": "wa_EWCFrdbOh"
      },
      "source": [
        "#### 3.2.3 Answers\n",
        "1.\n",
        "\n",
        "**1.\n",
        "Section 1 vs Section 3**\n",
        "Section 1 performs slightly better on both test sets (0.81 for test_set1 and 0.74 for test_set2), suggesting it benefits from having more features.\n",
        "Section 3 shows a slight decrease in accuracy (0.78 for test_set1 and 0.72 for test_set2), but it may offer better generalization with fewer features.\n",
        "Section 1 has higher accuracy but 3 might be more efficient less overfitting with fewer features.\n",
        "\n",
        "**2.\n",
        "Section 2 vs Section 3**\n",
        "Section 2 shows higher accuracy on test_set1 (0.78) compared to Section 3 (0.78), but a drop in test_set2 (0.72) for Section 3, compared to test_set2 (0.74) for Section 2.\n",
        "Both models have similar performance on test_set1, with the difference being minimal. However, Section 2 performs slightly better overall in terms of test_set2.\n",
        "Section 3 includes features like gx_var, gy_sum, and ax_min, which might capture important motion dynamics, but Section 2 with the other selected features seems to perform slightly better in both precision and recall for test_set2.\n",
        "In conclusion, Section 2 outperforms Section 3 on test_set2, while they perform similarly on test_set1."
      ]
    },
    {
      "cell_type": "markdown",
      "source": [
        "**2.**\n",
        "\n",
        "**Feature Selection:** In Section 2 and Section 3, the selected features likely focused on more relevant variables, improving performance by reducing noise compared to Section 1, where all features were used.\n",
        "\n",
        "\n",
        "**Relevance of Features:** Features in Section 2 (ax_var, ay_var, etc.) might be more effective at capturing key motion patterns, leading to better results, while Section 3's features (gx_var, gy_sum, etc.) might have been less informative for certain datasets.\n",
        "\n",
        "\n",
        "**Overfitting vs. Generalization:** Section 1, with more features, could have overfitted to the training data, while Section 2 and Section 3 models, using fewer, more relevant features, generalized better to the test sets."
      ],
      "metadata": {
        "id": "2TEvavpcs7DS"
      }
    },
    {
      "cell_type": "markdown",
      "metadata": {
        "id": "wLsfKVNQdbOh"
      },
      "source": [
        "____"
      ]
    },
    {
      "cell_type": "markdown",
      "metadata": {
        "id": "Q46q-CBCdbOh"
      },
      "source": [
        "## Section 4 - Classification Using Principal Components of Features From Inertial Sensor Data (10 Marks)"
      ]
    },
    {
      "cell_type": "markdown",
      "metadata": {
        "id": "uqBgJ8gfdbOh"
      },
      "source": [
        "____"
      ]
    },
    {
      "cell_type": "markdown",
      "metadata": {
        "id": "WQ5dfscGdbOh"
      },
      "source": [
        "### 4.1 Principal Component Analysis (PCA) Search with Cross Validation (4 Marks)"
      ]
    },
    {
      "cell_type": "markdown",
      "metadata": {
        "id": "enyfUmBFdbOh"
      },
      "source": [
        "___"
      ]
    },
    {
      "cell_type": "markdown",
      "metadata": {
        "id": "ZJO_VuF5dbOh"
      },
      "source": [
        "#### 4.1.1 Extract *ALL* features and target from *cv_set*"
      ]
    },
    {
      "cell_type": "code",
      "execution_count": 147,
      "metadata": {
        "id": "HC9JfAQddbOh",
        "colab": {
          "base_uri": "https://localhost:8080/",
          "height": 194
        },
        "outputId": "c19fb112-a1c1-470e-8317-1e43ece90ee9"
      },
      "outputs": [
        {
          "output_type": "execute_result",
          "data": {
            "text/plain": [
              "     ax_sum    ay_sum    az_sum    gx_sum    gy_sum    gz_sum     a_sum  \\\n",
              "0 -0.003929 -0.093081  9.789349 -0.002649  0.001406 -0.001391  9.797418   \n",
              "1 -0.000966 -0.092417  9.789095 -0.001806  0.000103 -0.001943  9.798815   \n",
              "\n",
              "      g_sum        ax_var        ay_var  ...     a_min     g_min    ax_max  \\\n",
              "0  0.022554  8.046094e-07  1.319665e-07  ...  0.023871  0.000003  0.001496   \n",
              "1  0.021731  1.032619e-06  1.073067e-07  ...  0.024153  0.000006  0.001865   \n",
              "\n",
              "     ay_max    az_max    gx_max    gy_max    gz_max     a_max     g_max  \n",
              "0  0.000544  0.024992  0.000110  0.000075  0.000078  0.024997  0.000187  \n",
              "1  0.000615  0.024828  0.000124  0.000098  0.000090  0.024829  0.000144  \n",
              "\n",
              "[2 rows x 32 columns]"
            ],
            "text/html": [
              "\n",
              "  <div id=\"df-470aa782-eae7-4593-8eed-871443807df3\" class=\"colab-df-container\">\n",
              "    <div>\n",
              "<style scoped>\n",
              "    .dataframe tbody tr th:only-of-type {\n",
              "        vertical-align: middle;\n",
              "    }\n",
              "\n",
              "    .dataframe tbody tr th {\n",
              "        vertical-align: top;\n",
              "    }\n",
              "\n",
              "    .dataframe thead th {\n",
              "        text-align: right;\n",
              "    }\n",
              "</style>\n",
              "<table border=\"1\" class=\"dataframe\">\n",
              "  <thead>\n",
              "    <tr style=\"text-align: right;\">\n",
              "      <th></th>\n",
              "      <th>ax_sum</th>\n",
              "      <th>ay_sum</th>\n",
              "      <th>az_sum</th>\n",
              "      <th>gx_sum</th>\n",
              "      <th>gy_sum</th>\n",
              "      <th>gz_sum</th>\n",
              "      <th>a_sum</th>\n",
              "      <th>g_sum</th>\n",
              "      <th>ax_var</th>\n",
              "      <th>ay_var</th>\n",
              "      <th>...</th>\n",
              "      <th>a_min</th>\n",
              "      <th>g_min</th>\n",
              "      <th>ax_max</th>\n",
              "      <th>ay_max</th>\n",
              "      <th>az_max</th>\n",
              "      <th>gx_max</th>\n",
              "      <th>gy_max</th>\n",
              "      <th>gz_max</th>\n",
              "      <th>a_max</th>\n",
              "      <th>g_max</th>\n",
              "    </tr>\n",
              "  </thead>\n",
              "  <tbody>\n",
              "    <tr>\n",
              "      <th>0</th>\n",
              "      <td>-0.003929</td>\n",
              "      <td>-0.093081</td>\n",
              "      <td>9.789349</td>\n",
              "      <td>-0.002649</td>\n",
              "      <td>0.001406</td>\n",
              "      <td>-0.001391</td>\n",
              "      <td>9.797418</td>\n",
              "      <td>0.022554</td>\n",
              "      <td>8.046094e-07</td>\n",
              "      <td>1.319665e-07</td>\n",
              "      <td>...</td>\n",
              "      <td>0.023871</td>\n",
              "      <td>0.000003</td>\n",
              "      <td>0.001496</td>\n",
              "      <td>0.000544</td>\n",
              "      <td>0.024992</td>\n",
              "      <td>0.000110</td>\n",
              "      <td>0.000075</td>\n",
              "      <td>0.000078</td>\n",
              "      <td>0.024997</td>\n",
              "      <td>0.000187</td>\n",
              "    </tr>\n",
              "    <tr>\n",
              "      <th>1</th>\n",
              "      <td>-0.000966</td>\n",
              "      <td>-0.092417</td>\n",
              "      <td>9.789095</td>\n",
              "      <td>-0.001806</td>\n",
              "      <td>0.000103</td>\n",
              "      <td>-0.001943</td>\n",
              "      <td>9.798815</td>\n",
              "      <td>0.021731</td>\n",
              "      <td>1.032619e-06</td>\n",
              "      <td>1.073067e-07</td>\n",
              "      <td>...</td>\n",
              "      <td>0.024153</td>\n",
              "      <td>0.000006</td>\n",
              "      <td>0.001865</td>\n",
              "      <td>0.000615</td>\n",
              "      <td>0.024828</td>\n",
              "      <td>0.000124</td>\n",
              "      <td>0.000098</td>\n",
              "      <td>0.000090</td>\n",
              "      <td>0.024829</td>\n",
              "      <td>0.000144</td>\n",
              "    </tr>\n",
              "  </tbody>\n",
              "</table>\n",
              "<p>2 rows × 32 columns</p>\n",
              "</div>\n",
              "    <div class=\"colab-df-buttons\">\n",
              "\n",
              "  <div class=\"colab-df-container\">\n",
              "    <button class=\"colab-df-convert\" onclick=\"convertToInteractive('df-470aa782-eae7-4593-8eed-871443807df3')\"\n",
              "            title=\"Convert this dataframe to an interactive table.\"\n",
              "            style=\"display:none;\">\n",
              "\n",
              "  <svg xmlns=\"http://www.w3.org/2000/svg\" height=\"24px\" viewBox=\"0 -960 960 960\">\n",
              "    <path d=\"M120-120v-720h720v720H120Zm60-500h600v-160H180v160Zm220 220h160v-160H400v160Zm0 220h160v-160H400v160ZM180-400h160v-160H180v160Zm440 0h160v-160H620v160ZM180-180h160v-160H180v160Zm440 0h160v-160H620v160Z\"/>\n",
              "  </svg>\n",
              "    </button>\n",
              "\n",
              "  <style>\n",
              "    .colab-df-container {\n",
              "      display:flex;\n",
              "      gap: 12px;\n",
              "    }\n",
              "\n",
              "    .colab-df-convert {\n",
              "      background-color: #E8F0FE;\n",
              "      border: none;\n",
              "      border-radius: 50%;\n",
              "      cursor: pointer;\n",
              "      display: none;\n",
              "      fill: #1967D2;\n",
              "      height: 32px;\n",
              "      padding: 0 0 0 0;\n",
              "      width: 32px;\n",
              "    }\n",
              "\n",
              "    .colab-df-convert:hover {\n",
              "      background-color: #E2EBFA;\n",
              "      box-shadow: 0px 1px 2px rgba(60, 64, 67, 0.3), 0px 1px 3px 1px rgba(60, 64, 67, 0.15);\n",
              "      fill: #174EA6;\n",
              "    }\n",
              "\n",
              "    .colab-df-buttons div {\n",
              "      margin-bottom: 4px;\n",
              "    }\n",
              "\n",
              "    [theme=dark] .colab-df-convert {\n",
              "      background-color: #3B4455;\n",
              "      fill: #D2E3FC;\n",
              "    }\n",
              "\n",
              "    [theme=dark] .colab-df-convert:hover {\n",
              "      background-color: #434B5C;\n",
              "      box-shadow: 0px 1px 3px 1px rgba(0, 0, 0, 0.15);\n",
              "      filter: drop-shadow(0px 1px 2px rgba(0, 0, 0, 0.3));\n",
              "      fill: #FFFFFF;\n",
              "    }\n",
              "  </style>\n",
              "\n",
              "    <script>\n",
              "      const buttonEl =\n",
              "        document.querySelector('#df-470aa782-eae7-4593-8eed-871443807df3 button.colab-df-convert');\n",
              "      buttonEl.style.display =\n",
              "        google.colab.kernel.accessAllowed ? 'block' : 'none';\n",
              "\n",
              "      async function convertToInteractive(key) {\n",
              "        const element = document.querySelector('#df-470aa782-eae7-4593-8eed-871443807df3');\n",
              "        const dataTable =\n",
              "          await google.colab.kernel.invokeFunction('convertToInteractive',\n",
              "                                                    [key], {});\n",
              "        if (!dataTable) return;\n",
              "\n",
              "        const docLinkHtml = 'Like what you see? Visit the ' +\n",
              "          '<a target=\"_blank\" href=https://colab.research.google.com/notebooks/data_table.ipynb>data table notebook</a>'\n",
              "          + ' to learn more about interactive tables.';\n",
              "        element.innerHTML = '';\n",
              "        dataTable['output_type'] = 'display_data';\n",
              "        await google.colab.output.renderOutput(dataTable, element);\n",
              "        const docLink = document.createElement('div');\n",
              "        docLink.innerHTML = docLinkHtml;\n",
              "        element.appendChild(docLink);\n",
              "      }\n",
              "    </script>\n",
              "  </div>\n",
              "\n",
              "\n",
              "<div id=\"df-7a830a52-be22-4c2e-a4f9-543f388e4142\">\n",
              "  <button class=\"colab-df-quickchart\" onclick=\"quickchart('df-7a830a52-be22-4c2e-a4f9-543f388e4142')\"\n",
              "            title=\"Suggest charts\"\n",
              "            style=\"display:none;\">\n",
              "\n",
              "<svg xmlns=\"http://www.w3.org/2000/svg\" height=\"24px\"viewBox=\"0 0 24 24\"\n",
              "     width=\"24px\">\n",
              "    <g>\n",
              "        <path d=\"M19 3H5c-1.1 0-2 .9-2 2v14c0 1.1.9 2 2 2h14c1.1 0 2-.9 2-2V5c0-1.1-.9-2-2-2zM9 17H7v-7h2v7zm4 0h-2V7h2v10zm4 0h-2v-4h2v4z\"/>\n",
              "    </g>\n",
              "</svg>\n",
              "  </button>\n",
              "\n",
              "<style>\n",
              "  .colab-df-quickchart {\n",
              "      --bg-color: #E8F0FE;\n",
              "      --fill-color: #1967D2;\n",
              "      --hover-bg-color: #E2EBFA;\n",
              "      --hover-fill-color: #174EA6;\n",
              "      --disabled-fill-color: #AAA;\n",
              "      --disabled-bg-color: #DDD;\n",
              "  }\n",
              "\n",
              "  [theme=dark] .colab-df-quickchart {\n",
              "      --bg-color: #3B4455;\n",
              "      --fill-color: #D2E3FC;\n",
              "      --hover-bg-color: #434B5C;\n",
              "      --hover-fill-color: #FFFFFF;\n",
              "      --disabled-bg-color: #3B4455;\n",
              "      --disabled-fill-color: #666;\n",
              "  }\n",
              "\n",
              "  .colab-df-quickchart {\n",
              "    background-color: var(--bg-color);\n",
              "    border: none;\n",
              "    border-radius: 50%;\n",
              "    cursor: pointer;\n",
              "    display: none;\n",
              "    fill: var(--fill-color);\n",
              "    height: 32px;\n",
              "    padding: 0;\n",
              "    width: 32px;\n",
              "  }\n",
              "\n",
              "  .colab-df-quickchart:hover {\n",
              "    background-color: var(--hover-bg-color);\n",
              "    box-shadow: 0 1px 2px rgba(60, 64, 67, 0.3), 0 1px 3px 1px rgba(60, 64, 67, 0.15);\n",
              "    fill: var(--button-hover-fill-color);\n",
              "  }\n",
              "\n",
              "  .colab-df-quickchart-complete:disabled,\n",
              "  .colab-df-quickchart-complete:disabled:hover {\n",
              "    background-color: var(--disabled-bg-color);\n",
              "    fill: var(--disabled-fill-color);\n",
              "    box-shadow: none;\n",
              "  }\n",
              "\n",
              "  .colab-df-spinner {\n",
              "    border: 2px solid var(--fill-color);\n",
              "    border-color: transparent;\n",
              "    border-bottom-color: var(--fill-color);\n",
              "    animation:\n",
              "      spin 1s steps(1) infinite;\n",
              "  }\n",
              "\n",
              "  @keyframes spin {\n",
              "    0% {\n",
              "      border-color: transparent;\n",
              "      border-bottom-color: var(--fill-color);\n",
              "      border-left-color: var(--fill-color);\n",
              "    }\n",
              "    20% {\n",
              "      border-color: transparent;\n",
              "      border-left-color: var(--fill-color);\n",
              "      border-top-color: var(--fill-color);\n",
              "    }\n",
              "    30% {\n",
              "      border-color: transparent;\n",
              "      border-left-color: var(--fill-color);\n",
              "      border-top-color: var(--fill-color);\n",
              "      border-right-color: var(--fill-color);\n",
              "    }\n",
              "    40% {\n",
              "      border-color: transparent;\n",
              "      border-right-color: var(--fill-color);\n",
              "      border-top-color: var(--fill-color);\n",
              "    }\n",
              "    60% {\n",
              "      border-color: transparent;\n",
              "      border-right-color: var(--fill-color);\n",
              "    }\n",
              "    80% {\n",
              "      border-color: transparent;\n",
              "      border-right-color: var(--fill-color);\n",
              "      border-bottom-color: var(--fill-color);\n",
              "    }\n",
              "    90% {\n",
              "      border-color: transparent;\n",
              "      border-bottom-color: var(--fill-color);\n",
              "    }\n",
              "  }\n",
              "</style>\n",
              "\n",
              "  <script>\n",
              "    async function quickchart(key) {\n",
              "      const quickchartButtonEl =\n",
              "        document.querySelector('#' + key + ' button');\n",
              "      quickchartButtonEl.disabled = true;  // To prevent multiple clicks.\n",
              "      quickchartButtonEl.classList.add('colab-df-spinner');\n",
              "      try {\n",
              "        const charts = await google.colab.kernel.invokeFunction(\n",
              "            'suggestCharts', [key], {});\n",
              "      } catch (error) {\n",
              "        console.error('Error during call to suggestCharts:', error);\n",
              "      }\n",
              "      quickchartButtonEl.classList.remove('colab-df-spinner');\n",
              "      quickchartButtonEl.classList.add('colab-df-quickchart-complete');\n",
              "    }\n",
              "    (() => {\n",
              "      let quickchartButtonEl =\n",
              "        document.querySelector('#df-7a830a52-be22-4c2e-a4f9-543f388e4142 button');\n",
              "      quickchartButtonEl.style.display =\n",
              "        google.colab.kernel.accessAllowed ? 'block' : 'none';\n",
              "    })();\n",
              "  </script>\n",
              "</div>\n",
              "\n",
              "    </div>\n",
              "  </div>\n"
            ],
            "application/vnd.google.colaboratory.intrinsic+json": {
              "type": "dataframe",
              "variable_name": "X"
            }
          },
          "metadata": {},
          "execution_count": 147
        }
      ],
      "source": [
        "# TODO - Load all features from cv_set to X\n",
        "X = cv_set.drop(columns=['motion_state'])\n",
        "X.head(2)"
      ]
    },
    {
      "cell_type": "code",
      "execution_count": 148,
      "metadata": {
        "id": "4_-9N2jjdbOh",
        "colab": {
          "base_uri": "https://localhost:8080/",
          "height": 238
        },
        "outputId": "975977ab-501d-45a3-f179-5d746dac6574"
      },
      "outputs": [
        {
          "output_type": "execute_result",
          "data": {
            "text/plain": [
              "0        rest\n",
              "1        rest\n",
              "2    straight\n",
              "3        turn\n",
              "4        turn\n",
              "Name: motion_state, dtype: object"
            ],
            "text/html": [
              "<div>\n",
              "<style scoped>\n",
              "    .dataframe tbody tr th:only-of-type {\n",
              "        vertical-align: middle;\n",
              "    }\n",
              "\n",
              "    .dataframe tbody tr th {\n",
              "        vertical-align: top;\n",
              "    }\n",
              "\n",
              "    .dataframe thead th {\n",
              "        text-align: right;\n",
              "    }\n",
              "</style>\n",
              "<table border=\"1\" class=\"dataframe\">\n",
              "  <thead>\n",
              "    <tr style=\"text-align: right;\">\n",
              "      <th></th>\n",
              "      <th>motion_state</th>\n",
              "    </tr>\n",
              "  </thead>\n",
              "  <tbody>\n",
              "    <tr>\n",
              "      <th>0</th>\n",
              "      <td>rest</td>\n",
              "    </tr>\n",
              "    <tr>\n",
              "      <th>1</th>\n",
              "      <td>rest</td>\n",
              "    </tr>\n",
              "    <tr>\n",
              "      <th>2</th>\n",
              "      <td>straight</td>\n",
              "    </tr>\n",
              "    <tr>\n",
              "      <th>3</th>\n",
              "      <td>turn</td>\n",
              "    </tr>\n",
              "    <tr>\n",
              "      <th>4</th>\n",
              "      <td>turn</td>\n",
              "    </tr>\n",
              "  </tbody>\n",
              "</table>\n",
              "</div><br><label><b>dtype:</b> object</label>"
            ]
          },
          "metadata": {},
          "execution_count": 148
        }
      ],
      "source": [
        "# TODO - Load motion_state column (target vector) into y\n",
        "y = cv_set['motion_state']\n",
        "y.head()"
      ]
    },
    {
      "cell_type": "markdown",
      "metadata": {
        "id": "EFViKftodbOh"
      },
      "source": [
        "___"
      ]
    },
    {
      "cell_type": "markdown",
      "metadata": {
        "id": "qqRcBtrTdbOh"
      },
      "source": [
        "#### 4.1.2 - Configure and Perform Grid Search with Cross-Validation"
      ]
    },
    {
      "cell_type": "markdown",
      "metadata": {
        "id": "FlAwcSUZdbOh"
      },
      "source": [
        "Similar to the steps from **1.2.2** and perform model training and tuning for an `SVC` model. Perform the `train_test_split`, initiate a `Pipeline`, then define the *Parameters* for `GridSearchCV`. Finally, perfrom the grid search."
      ]
    },
    {
      "cell_type": "code",
      "execution_count": 149,
      "metadata": {
        "id": "pBplfP5CdbOh"
      },
      "outputs": [],
      "source": [
        "# TODO - Perform model training and tuning using `GridSearchCV`\n",
        "\n",
        "from sklearn.model_selection import train_test_split\n",
        "from sklearn.pipeline import Pipeline\n",
        "from sklearn.svm import SVC\n",
        "from sklearn.decomposition import PCA\n",
        "from sklearn.preprocessing import StandardScaler\n",
        "from sklearn.model_selection import GridSearchCV\n",
        "\n",
        "X_train, X_test, y_train, y_test = train_test_split(X, y, test_size=0.2, random_state=42)"
      ]
    },
    {
      "cell_type": "markdown",
      "metadata": {
        "id": "6mFY2575dbOi"
      },
      "source": [
        "In the `Pipeline` add an entry *'pca'* to apply `PCA`."
      ]
    },
    {
      "cell_type": "code",
      "execution_count": 150,
      "metadata": {
        "id": "_DIccEsEdbOi"
      },
      "outputs": [],
      "source": [
        "# Perform any missing imports\n",
        "\n",
        "# TODO - Initiate the pipeline\n",
        "# (1 marks)\n",
        "pipe = Pipeline(steps=[\n",
        "    ('scaler', StandardScaler()),\n",
        "    ('pca', PCA()),\n",
        "    ('classifier', SVC())\n",
        "])"
      ]
    },
    {
      "cell_type": "markdown",
      "metadata": {
        "id": "FTgTlpeLdbOi"
      },
      "source": [
        "Similar to previous sections, define the grid search configuration (*param_grid*). Add *n_components* hyper parameter tuning for PCA, and search over the values `n_components=[4,7,11,14,16]`.  "
      ]
    },
    {
      "cell_type": "code",
      "execution_count": 151,
      "metadata": {
        "id": "8h0Mxhu7dbOi"
      },
      "outputs": [],
      "source": [
        "# TODO - Define the parameter grid for your model\n",
        "# (3 marks)\n",
        "max_n_components = min(X_train.shape[0], X_train.shape[1])\n",
        "param_grid = {\n",
        "    'pca__n_components': [n for n in [4, 7, 11, 14, 16] if n <= max_n_components],\n",
        "    'classifier__C': [0.01, 0.1, 1, 10, 100],\n",
        "    'classifier__gamma': [0.001, 0.01, 0.1, 1],\n",
        "    'classifier__kernel': ['rbf']\n",
        "}"
      ]
    },
    {
      "cell_type": "code",
      "execution_count": 152,
      "metadata": {
        "id": "GeK_Wb75dbOi",
        "colab": {
          "base_uri": "https://localhost:8080/"
        },
        "outputId": "e07c71ba-539d-4877-d104-446f6c8a1bdc"
      },
      "outputs": [
        {
          "output_type": "stream",
          "name": "stdout",
          "text": [
            "Best parameters found: {'classifier__C': 100, 'classifier__gamma': 0.01, 'classifier__kernel': 'rbf', 'pca__n_components': 16}\n",
            "Best cross-validation accuracy: 0.9355998008959681\n"
          ]
        }
      ],
      "source": [
        "# Perform the grid search to train model and tune hyper parameters\n",
        "\n",
        "from sklearn.model_selection import GridSearchCV\n",
        "\n",
        "grid = GridSearchCV(\n",
        "    estimator=pipe,  # Pipeline object\n",
        "    param_grid=param_grid,\n",
        "    cv=5,  # 5-fold cross-validation\n",
        "    scoring='accuracy',\n",
        "    return_train_score=True\n",
        ")\n",
        "\n",
        "# Fit the GridSearchCV\n",
        "grid.fit(X_train, y_train)\n",
        "\n",
        "# Print the best parameters and the corresponding accuracy\n",
        "print(\"Best parameters found:\", grid.best_params_)\n",
        "print(\"Best cross-validation accuracy:\", grid.best_score_)"
      ]
    },
    {
      "cell_type": "markdown",
      "metadata": {
        "id": "rcd5SayJdbOi"
      },
      "source": [
        "___"
      ]
    },
    {
      "cell_type": "markdown",
      "metadata": {
        "id": "ewdFnokNdbOi"
      },
      "source": [
        "#### 4.1.3 - Visualize Grid Search Results"
      ]
    },
    {
      "cell_type": "markdown",
      "metadata": {
        "id": "9JVh4W63dbOi"
      },
      "source": [
        "Print the results from the grid search. The following outputs must be printed.\n",
        "* Best parameter set\n",
        "* Best cross-validation train score\n",
        "* Best cross-validation test score\n",
        "* Test set accuracy"
      ]
    },
    {
      "cell_type": "code",
      "execution_count": 153,
      "metadata": {
        "id": "0A0WQZK-dbOi",
        "colab": {
          "base_uri": "https://localhost:8080/"
        },
        "outputId": "bf7e323c-9808-4001-8080-493cf73549e4"
      },
      "outputs": [
        {
          "output_type": "stream",
          "name": "stdout",
          "text": [
            "Best parameter set:\n",
            "{'classifier__C': 100, 'classifier__gamma': 0.01, 'classifier__kernel': 'rbf', 'pca__n_components': 16}\n",
            "\n",
            "Best cross-validation train score: 1.00\n",
            "Best cross-validation validation score: 0.94\n",
            "Test-set score: 0.94\n"
          ]
        }
      ],
      "source": [
        "# TODO: Print the results from the grid search\n",
        "from sklearn.metrics import confusion_matrix, classification_report, ConfusionMatrixDisplay\n",
        "\n",
        "print(\"Best parameter set:\\n{}\\n\".format(grid.best_params_))\n",
        "print(\"Best cross-validation train score: {:.2f}\".format(max(grid.cv_results_['mean_train_score'])))\n",
        "print(\"Best cross-validation validation score: {:.2f}\".format(grid.best_score_))\n",
        "print(\"Test-set score: {:.2f}\".format(grid.score(X_test, y_test)))\n"
      ]
    },
    {
      "cell_type": "markdown",
      "metadata": {
        "id": "q174SeKQdbOi"
      },
      "source": [
        "Display the confusion matrix and print the classification report for the trained model using the *test* split."
      ]
    },
    {
      "cell_type": "markdown",
      "source": [],
      "metadata": {
        "id": "7ozb4-UvinGD"
      }
    },
    {
      "cell_type": "code",
      "execution_count": 154,
      "metadata": {
        "id": "BE8m_aocdbOj"
      },
      "outputs": [],
      "source": [
        "# TODO - Display confusion matrix and print classification report"
      ]
    },
    {
      "cell_type": "code",
      "source": [
        "y_pred = grid.predict(X_test)\n",
        "conf_matrix = confusion_matrix(y_test, y_pred)\n",
        "print(\"\\nConfusion Matrix:\\n\", conf_matrix)\n",
        "ConfusionMatrixDisplay(confusion_matrix=conf_matrix, display_labels=grid.classes_).plot()\n",
        "print(\"n\\Classification Report:\\n\")\n",
        "print(classification_report(y_test, y_pred))\n"
      ],
      "metadata": {
        "colab": {
          "base_uri": "https://localhost:8080/",
          "height": 738
        },
        "id": "z6qkHfwmkSdQ",
        "outputId": "8cda4ec4-c857-46d4-e7b0-1348b5438546"
      },
      "execution_count": 155,
      "outputs": [
        {
          "output_type": "stream",
          "name": "stdout",
          "text": [
            "\n",
            "Confusion Matrix:\n",
            " [[103   1   0]\n",
            " [ 10 125   2]\n",
            " [  0   5  61]]\n",
            "n\\Classification Report:\n",
            "\n",
            "              precision    recall  f1-score   support\n",
            "\n",
            "        rest       0.91      0.99      0.95       104\n",
            "    straight       0.95      0.91      0.93       137\n",
            "        turn       0.97      0.92      0.95        66\n",
            "\n",
            "    accuracy                           0.94       307\n",
            "   macro avg       0.94      0.94      0.94       307\n",
            "weighted avg       0.94      0.94      0.94       307\n",
            "\n"
          ]
        },
        {
          "output_type": "display_data",
          "data": {
            "text/plain": [
              "<Figure size 640x480 with 2 Axes>"
            ],
            "image/png": "[encoded data removed]"
          },
          "metadata": {}
        }
      ]
    },
    {
      "cell_type": "markdown",
      "metadata": {
        "id": "pfspoWb1dbOj"
      },
      "source": [
        "___"
      ]
    },
    {
      "cell_type": "markdown",
      "metadata": {
        "id": "m-g76MAFdbOj"
      },
      "source": [
        "### 4.2 - Model Evaluation on Test Datasets 1 and 2 (6 Marks)"
      ]
    },
    {
      "cell_type": "markdown",
      "metadata": {
        "id": "i2VwE8cldbOj"
      },
      "source": [
        "___"
      ]
    },
    {
      "cell_type": "markdown",
      "metadata": {
        "id": "_L5jN5-3dbOj"
      },
      "source": [
        "#### 4.2.1 - Extract group selected features and targets from test datasets"
      ]
    },
    {
      "cell_type": "code",
      "execution_count": 156,
      "metadata": {
        "id": "1ULf1kAFdbOj",
        "colab": {
          "base_uri": "https://localhost:8080/",
          "height": 194
        },
        "outputId": "dab72133-218e-41ad-ea69-6234fda414a3"
      },
      "outputs": [
        {
          "output_type": "execute_result",
          "data": {
            "text/plain": [
              "     ax_sum    ay_sum    az_sum    gx_sum    gy_sum    gz_sum     a_sum  \\\n",
              "0  0.264465  0.089904  9.786930 -0.002305  0.000218 -0.001143  9.801661   \n",
              "1  0.264300  0.088882  9.788127 -0.001865 -0.000523 -0.001999  9.802481   \n",
              "\n",
              "      g_sum    ax_var        ay_var  ...     a_min     g_min    ax_max  \\\n",
              "0  0.025634  0.000001  7.749919e-08  ...  0.024056  0.000003  0.002506   \n",
              "1  0.025218  0.000001  9.243000e-08  ...  0.024084  0.000007  0.002427   \n",
              "\n",
              "     ay_max    az_max    gx_max    gy_max    gz_max     a_max     g_max  \n",
              "0  0.000845  0.024884  0.000155  0.000078  0.000069  0.024886  0.000170  \n",
              "1  0.000949  0.024881  0.000201  0.000095  0.000076  0.024883  0.000201  \n",
              "\n",
              "[2 rows x 32 columns]"
            ],
            "text/html": [
              "\n",
              "  <div id=\"df-aebcbecd-b6b5-47cf-aa14-30989e744f39\" class=\"colab-df-container\">\n",
              "    <div>\n",
              "<style scoped>\n",
              "    .dataframe tbody tr th:only-of-type {\n",
              "        vertical-align: middle;\n",
              "    }\n",
              "\n",
              "    .dataframe tbody tr th {\n",
              "        vertical-align: top;\n",
              "    }\n",
              "\n",
              "    .dataframe thead th {\n",
              "        text-align: right;\n",
              "    }\n",
              "</style>\n",
              "<table border=\"1\" class=\"dataframe\">\n",
              "  <thead>\n",
              "    <tr style=\"text-align: right;\">\n",
              "      <th></th>\n",
              "      <th>ax_sum</th>\n",
              "      <th>ay_sum</th>\n",
              "      <th>az_sum</th>\n",
              "      <th>gx_sum</th>\n",
              "      <th>gy_sum</th>\n",
              "      <th>gz_sum</th>\n",
              "      <th>a_sum</th>\n",
              "      <th>g_sum</th>\n",
              "      <th>ax_var</th>\n",
              "      <th>ay_var</th>\n",
              "      <th>...</th>\n",
              "      <th>a_min</th>\n",
              "      <th>g_min</th>\n",
              "      <th>ax_max</th>\n",
              "      <th>ay_max</th>\n",
              "      <th>az_max</th>\n",
              "      <th>gx_max</th>\n",
              "      <th>gy_max</th>\n",
              "      <th>gz_max</th>\n",
              "      <th>a_max</th>\n",
              "      <th>g_max</th>\n",
              "    </tr>\n",
              "  </thead>\n",
              "  <tbody>\n",
              "    <tr>\n",
              "      <th>0</th>\n",
              "      <td>0.264465</td>\n",
              "      <td>0.089904</td>\n",
              "      <td>9.786930</td>\n",
              "      <td>-0.002305</td>\n",
              "      <td>0.000218</td>\n",
              "      <td>-0.001143</td>\n",
              "      <td>9.801661</td>\n",
              "      <td>0.025634</td>\n",
              "      <td>0.000001</td>\n",
              "      <td>7.749919e-08</td>\n",
              "      <td>...</td>\n",
              "      <td>0.024056</td>\n",
              "      <td>0.000003</td>\n",
              "      <td>0.002506</td>\n",
              "      <td>0.000845</td>\n",
              "      <td>0.024884</td>\n",
              "      <td>0.000155</td>\n",
              "      <td>0.000078</td>\n",
              "      <td>0.000069</td>\n",
              "      <td>0.024886</td>\n",
              "      <td>0.000170</td>\n",
              "    </tr>\n",
              "    <tr>\n",
              "      <th>1</th>\n",
              "      <td>0.264300</td>\n",
              "      <td>0.088882</td>\n",
              "      <td>9.788127</td>\n",
              "      <td>-0.001865</td>\n",
              "      <td>-0.000523</td>\n",
              "      <td>-0.001999</td>\n",
              "      <td>9.802481</td>\n",
              "      <td>0.025218</td>\n",
              "      <td>0.000001</td>\n",
              "      <td>9.243000e-08</td>\n",
              "      <td>...</td>\n",
              "      <td>0.024084</td>\n",
              "      <td>0.000007</td>\n",
              "      <td>0.002427</td>\n",
              "      <td>0.000949</td>\n",
              "      <td>0.024881</td>\n",
              "      <td>0.000201</td>\n",
              "      <td>0.000095</td>\n",
              "      <td>0.000076</td>\n",
              "      <td>0.024883</td>\n",
              "      <td>0.000201</td>\n",
              "    </tr>\n",
              "  </tbody>\n",
              "</table>\n",
              "<p>2 rows × 32 columns</p>\n",
              "</div>\n",
              "    <div class=\"colab-df-buttons\">\n",
              "\n",
              "  <div class=\"colab-df-container\">\n",
              "    <button class=\"colab-df-convert\" onclick=\"convertToInteractive('df-aebcbecd-b6b5-47cf-aa14-30989e744f39')\"\n",
              "            title=\"Convert this dataframe to an interactive table.\"\n",
              "            style=\"display:none;\">\n",
              "\n",
              "  <svg xmlns=\"http://www.w3.org/2000/svg\" height=\"24px\" viewBox=\"0 -960 960 960\">\n",
              "    <path d=\"M120-120v-720h720v720H120Zm60-500h600v-160H180v160Zm220 220h160v-160H400v160Zm0 220h160v-160H400v160ZM180-400h160v-160H180v160Zm440 0h160v-160H620v160ZM180-180h160v-160H180v160Zm440 0h160v-160H620v160Z\"/>\n",
              "  </svg>\n",
              "    </button>\n",
              "\n",
              "  <style>\n",
              "    .colab-df-container {\n",
              "      display:flex;\n",
              "      gap: 12px;\n",
              "    }\n",
              "\n",
              "    .colab-df-convert {\n",
              "      background-color: #E8F0FE;\n",
              "      border: none;\n",
              "      border-radius: 50%;\n",
              "      cursor: pointer;\n",
              "      display: none;\n",
              "      fill: #1967D2;\n",
              "      height: 32px;\n",
              "      padding: 0 0 0 0;\n",
              "      width: 32px;\n",
              "    }\n",
              "\n",
              "    .colab-df-convert:hover {\n",
              "      background-color: #E2EBFA;\n",
              "      box-shadow: 0px 1px 2px rgba(60, 64, 67, 0.3), 0px 1px 3px 1px rgba(60, 64, 67, 0.15);\n",
              "      fill: #174EA6;\n",
              "    }\n",
              "\n",
              "    .colab-df-buttons div {\n",
              "      margin-bottom: 4px;\n",
              "    }\n",
              "\n",
              "    [theme=dark] .colab-df-convert {\n",
              "      background-color: #3B4455;\n",
              "      fill: #D2E3FC;\n",
              "    }\n",
              "\n",
              "    [theme=dark] .colab-df-convert:hover {\n",
              "      background-color: #434B5C;\n",
              "      box-shadow: 0px 1px 3px 1px rgba(0, 0, 0, 0.15);\n",
              "      filter: drop-shadow(0px 1px 2px rgba(0, 0, 0, 0.3));\n",
              "      fill: #FFFFFF;\n",
              "    }\n",
              "  </style>\n",
              "\n",
              "    <script>\n",
              "      const buttonEl =\n",
              "        document.querySelector('#df-aebcbecd-b6b5-47cf-aa14-30989e744f39 button.colab-df-convert');\n",
              "      buttonEl.style.display =\n",
              "        google.colab.kernel.accessAllowed ? 'block' : 'none';\n",
              "\n",
              "      async function convertToInteractive(key) {\n",
              "        const element = document.querySelector('#df-aebcbecd-b6b5-47cf-aa14-30989e744f39');\n",
              "        const dataTable =\n",
              "          await google.colab.kernel.invokeFunction('convertToInteractive',\n",
              "                                                    [key], {});\n",
              "        if (!dataTable) return;\n",
              "\n",
              "        const docLinkHtml = 'Like what you see? Visit the ' +\n",
              "          '<a target=\"_blank\" href=https://colab.research.google.com/notebooks/data_table.ipynb>data table notebook</a>'\n",
              "          + ' to learn more about interactive tables.';\n",
              "        element.innerHTML = '';\n",
              "        dataTable['output_type'] = 'display_data';\n",
              "        await google.colab.output.renderOutput(dataTable, element);\n",
              "        const docLink = document.createElement('div');\n",
              "        docLink.innerHTML = docLinkHtml;\n",
              "        element.appendChild(docLink);\n",
              "      }\n",
              "    </script>\n",
              "  </div>\n",
              "\n",
              "\n",
              "<div id=\"df-0aea71b6-264b-44d3-8fbe-9c8929bb77d3\">\n",
              "  <button class=\"colab-df-quickchart\" onclick=\"quickchart('df-0aea71b6-264b-44d3-8fbe-9c8929bb77d3')\"\n",
              "            title=\"Suggest charts\"\n",
              "            style=\"display:none;\">\n",
              "\n",
              "<svg xmlns=\"http://www.w3.org/2000/svg\" height=\"24px\"viewBox=\"0 0 24 24\"\n",
              "     width=\"24px\">\n",
              "    <g>\n",
              "        <path d=\"M19 3H5c-1.1 0-2 .9-2 2v14c0 1.1.9 2 2 2h14c1.1 0 2-.9 2-2V5c0-1.1-.9-2-2-2zM9 17H7v-7h2v7zm4 0h-2V7h2v10zm4 0h-2v-4h2v4z\"/>\n",
              "    </g>\n",
              "</svg>\n",
              "  </button>\n",
              "\n",
              "<style>\n",
              "  .colab-df-quickchart {\n",
              "      --bg-color: #E8F0FE;\n",
              "      --fill-color: #1967D2;\n",
              "      --hover-bg-color: #E2EBFA;\n",
              "      --hover-fill-color: #174EA6;\n",
              "      --disabled-fill-color: #AAA;\n",
              "      --disabled-bg-color: #DDD;\n",
              "  }\n",
              "\n",
              "  [theme=dark] .colab-df-quickchart {\n",
              "      --bg-color: #3B4455;\n",
              "      --fill-color: #D2E3FC;\n",
              "      --hover-bg-color: #434B5C;\n",
              "      --hover-fill-color: #FFFFFF;\n",
              "      --disabled-bg-color: #3B4455;\n",
              "      --disabled-fill-color: #666;\n",
              "  }\n",
              "\n",
              "  .colab-df-quickchart {\n",
              "    background-color: var(--bg-color);\n",
              "    border: none;\n",
              "    border-radius: 50%;\n",
              "    cursor: pointer;\n",
              "    display: none;\n",
              "    fill: var(--fill-color);\n",
              "    height: 32px;\n",
              "    padding: 0;\n",
              "    width: 32px;\n",
              "  }\n",
              "\n",
              "  .colab-df-quickchart:hover {\n",
              "    background-color: var(--hover-bg-color);\n",
              "    box-shadow: 0 1px 2px rgba(60, 64, 67, 0.3), 0 1px 3px 1px rgba(60, 64, 67, 0.15);\n",
              "    fill: var(--button-hover-fill-color);\n",
              "  }\n",
              "\n",
              "  .colab-df-quickchart-complete:disabled,\n",
              "  .colab-df-quickchart-complete:disabled:hover {\n",
              "    background-color: var(--disabled-bg-color);\n",
              "    fill: var(--disabled-fill-color);\n",
              "    box-shadow: none;\n",
              "  }\n",
              "\n",
              "  .colab-df-spinner {\n",
              "    border: 2px solid var(--fill-color);\n",
              "    border-color: transparent;\n",
              "    border-bottom-color: var(--fill-color);\n",
              "    animation:\n",
              "      spin 1s steps(1) infinite;\n",
              "  }\n",
              "\n",
              "  @keyframes spin {\n",
              "    0% {\n",
              "      border-color: transparent;\n",
              "      border-bottom-color: var(--fill-color);\n",
              "      border-left-color: var(--fill-color);\n",
              "    }\n",
              "    20% {\n",
              "      border-color: transparent;\n",
              "      border-left-color: var(--fill-color);\n",
              "      border-top-color: var(--fill-color);\n",
              "    }\n",
              "    30% {\n",
              "      border-color: transparent;\n",
              "      border-left-color: var(--fill-color);\n",
              "      border-top-color: var(--fill-color);\n",
              "      border-right-color: var(--fill-color);\n",
              "    }\n",
              "    40% {\n",
              "      border-color: transparent;\n",
              "      border-right-color: var(--fill-color);\n",
              "      border-top-color: var(--fill-color);\n",
              "    }\n",
              "    60% {\n",
              "      border-color: transparent;\n",
              "      border-right-color: var(--fill-color);\n",
              "    }\n",
              "    80% {\n",
              "      border-color: transparent;\n",
              "      border-right-color: var(--fill-color);\n",
              "      border-bottom-color: var(--fill-color);\n",
              "    }\n",
              "    90% {\n",
              "      border-color: transparent;\n",
              "      border-bottom-color: var(--fill-color);\n",
              "    }\n",
              "  }\n",
              "</style>\n",
              "\n",
              "  <script>\n",
              "    async function quickchart(key) {\n",
              "      const quickchartButtonEl =\n",
              "        document.querySelector('#' + key + ' button');\n",
              "      quickchartButtonEl.disabled = true;  // To prevent multiple clicks.\n",
              "      quickchartButtonEl.classList.add('colab-df-spinner');\n",
              "      try {\n",
              "        const charts = await google.colab.kernel.invokeFunction(\n",
              "            'suggestCharts', [key], {});\n",
              "      } catch (error) {\n",
              "        console.error('Error during call to suggestCharts:', error);\n",
              "      }\n",
              "      quickchartButtonEl.classList.remove('colab-df-spinner');\n",
              "      quickchartButtonEl.classList.add('colab-df-quickchart-complete');\n",
              "    }\n",
              "    (() => {\n",
              "      let quickchartButtonEl =\n",
              "        document.querySelector('#df-0aea71b6-264b-44d3-8fbe-9c8929bb77d3 button');\n",
              "      quickchartButtonEl.style.display =\n",
              "        google.colab.kernel.accessAllowed ? 'block' : 'none';\n",
              "    })();\n",
              "  </script>\n",
              "</div>\n",
              "\n",
              "    </div>\n",
              "  </div>\n"
            ],
            "application/vnd.google.colaboratory.intrinsic+json": {
              "type": "dataframe",
              "variable_name": "X1"
            }
          },
          "metadata": {},
          "execution_count": 156
        }
      ],
      "source": [
        "# TODO - Load the target vector from test_set1 into y1, and all features from test_set1 into X1\n",
        "y1 = test_set1['motion_state']\n",
        "X1 = test_set1.drop(columns=['motion_state'])\n",
        "X1.head(2)"
      ]
    },
    {
      "cell_type": "code",
      "execution_count": 157,
      "metadata": {
        "id": "TbTy2aebdbOj",
        "colab": {
          "base_uri": "https://localhost:8080/",
          "height": 194
        },
        "outputId": "ebdabb96-9bf2-4a40-e7e0-081977148aa2"
      },
      "outputs": [
        {
          "output_type": "execute_result",
          "data": {
            "text/plain": [
              "     ax_sum    ay_sum    az_sum    gx_sum    gy_sum    gz_sum     a_sum  \\\n",
              "0 -0.046400  0.305907  9.791451 -0.002184  0.001311 -0.001901  9.800683   \n",
              "1 -0.050073  0.311947  9.785619 -0.003369  0.001898 -0.002051  9.797741   \n",
              "\n",
              "      g_sum    ax_var        ay_var  ...     a_min     g_min    ax_max  \\\n",
              "0  0.012437  0.000002  3.020959e-07  ...  0.048406  0.000007  0.002575   \n",
              "1  0.013805  0.000003  6.859937e-07  ...  0.047696  0.000013  0.003880   \n",
              "\n",
              "     ay_max    az_max    gx_max    gy_max    gz_max     a_max     g_max  \n",
              "0  0.002993  0.049701  0.000094  0.000115  0.000080  0.049764  0.000142  \n",
              "1  0.004106  0.050477  0.000140  0.000140  0.000083  0.050763  0.000151  \n",
              "\n",
              "[2 rows x 32 columns]"
            ],
            "text/html": [
              "\n",
              "  <div id=\"df-1e5df2a3-05b9-49ad-bab5-bc02d1f84895\" class=\"colab-df-container\">\n",
              "    <div>\n",
              "<style scoped>\n",
              "    .dataframe tbody tr th:only-of-type {\n",
              "        vertical-align: middle;\n",
              "    }\n",
              "\n",
              "    .dataframe tbody tr th {\n",
              "        vertical-align: top;\n",
              "    }\n",
              "\n",
              "    .dataframe thead th {\n",
              "        text-align: right;\n",
              "    }\n",
              "</style>\n",
              "<table border=\"1\" class=\"dataframe\">\n",
              "  <thead>\n",
              "    <tr style=\"text-align: right;\">\n",
              "      <th></th>\n",
              "      <th>ax_sum</th>\n",
              "      <th>ay_sum</th>\n",
              "      <th>az_sum</th>\n",
              "      <th>gx_sum</th>\n",
              "      <th>gy_sum</th>\n",
              "      <th>gz_sum</th>\n",
              "      <th>a_sum</th>\n",
              "      <th>g_sum</th>\n",
              "      <th>ax_var</th>\n",
              "      <th>ay_var</th>\n",
              "      <th>...</th>\n",
              "      <th>a_min</th>\n",
              "      <th>g_min</th>\n",
              "      <th>ax_max</th>\n",
              "      <th>ay_max</th>\n",
              "      <th>az_max</th>\n",
              "      <th>gx_max</th>\n",
              "      <th>gy_max</th>\n",
              "      <th>gz_max</th>\n",
              "      <th>a_max</th>\n",
              "      <th>g_max</th>\n",
              "    </tr>\n",
              "  </thead>\n",
              "  <tbody>\n",
              "    <tr>\n",
              "      <th>0</th>\n",
              "      <td>-0.046400</td>\n",
              "      <td>0.305907</td>\n",
              "      <td>9.791451</td>\n",
              "      <td>-0.002184</td>\n",
              "      <td>0.001311</td>\n",
              "      <td>-0.001901</td>\n",
              "      <td>9.800683</td>\n",
              "      <td>0.012437</td>\n",
              "      <td>0.000002</td>\n",
              "      <td>3.020959e-07</td>\n",
              "      <td>...</td>\n",
              "      <td>0.048406</td>\n",
              "      <td>0.000007</td>\n",
              "      <td>0.002575</td>\n",
              "      <td>0.002993</td>\n",
              "      <td>0.049701</td>\n",
              "      <td>0.000094</td>\n",
              "      <td>0.000115</td>\n",
              "      <td>0.000080</td>\n",
              "      <td>0.049764</td>\n",
              "      <td>0.000142</td>\n",
              "    </tr>\n",
              "    <tr>\n",
              "      <th>1</th>\n",
              "      <td>-0.050073</td>\n",
              "      <td>0.311947</td>\n",
              "      <td>9.785619</td>\n",
              "      <td>-0.003369</td>\n",
              "      <td>0.001898</td>\n",
              "      <td>-0.002051</td>\n",
              "      <td>9.797741</td>\n",
              "      <td>0.013805</td>\n",
              "      <td>0.000003</td>\n",
              "      <td>6.859937e-07</td>\n",
              "      <td>...</td>\n",
              "      <td>0.047696</td>\n",
              "      <td>0.000013</td>\n",
              "      <td>0.003880</td>\n",
              "      <td>0.004106</td>\n",
              "      <td>0.050477</td>\n",
              "      <td>0.000140</td>\n",
              "      <td>0.000140</td>\n",
              "      <td>0.000083</td>\n",
              "      <td>0.050763</td>\n",
              "      <td>0.000151</td>\n",
              "    </tr>\n",
              "  </tbody>\n",
              "</table>\n",
              "<p>2 rows × 32 columns</p>\n",
              "</div>\n",
              "    <div class=\"colab-df-buttons\">\n",
              "\n",
              "  <div class=\"colab-df-container\">\n",
              "    <button class=\"colab-df-convert\" onclick=\"convertToInteractive('df-1e5df2a3-05b9-49ad-bab5-bc02d1f84895')\"\n",
              "            title=\"Convert this dataframe to an interactive table.\"\n",
              "            style=\"display:none;\">\n",
              "\n",
              "  <svg xmlns=\"http://www.w3.org/2000/svg\" height=\"24px\" viewBox=\"0 -960 960 960\">\n",
              "    <path d=\"M120-120v-720h720v720H120Zm60-500h600v-160H180v160Zm220 220h160v-160H400v160Zm0 220h160v-160H400v160ZM180-400h160v-160H180v160Zm440 0h160v-160H620v160ZM180-180h160v-160H180v160Zm440 0h160v-160H620v160Z\"/>\n",
              "  </svg>\n",
              "    </button>\n",
              "\n",
              "  <style>\n",
              "    .colab-df-container {\n",
              "      display:flex;\n",
              "      gap: 12px;\n",
              "    }\n",
              "\n",
              "    .colab-df-convert {\n",
              "      background-color: #E8F0FE;\n",
              "      border: none;\n",
              "      border-radius: 50%;\n",
              "      cursor: pointer;\n",
              "      display: none;\n",
              "      fill: #1967D2;\n",
              "      height: 32px;\n",
              "      padding: 0 0 0 0;\n",
              "      width: 32px;\n",
              "    }\n",
              "\n",
              "    .colab-df-convert:hover {\n",
              "      background-color: #E2EBFA;\n",
              "      box-shadow: 0px 1px 2px rgba(60, 64, 67, 0.3), 0px 1px 3px 1px rgba(60, 64, 67, 0.15);\n",
              "      fill: #174EA6;\n",
              "    }\n",
              "\n",
              "    .colab-df-buttons div {\n",
              "      margin-bottom: 4px;\n",
              "    }\n",
              "\n",
              "    [theme=dark] .colab-df-convert {\n",
              "      background-color: #3B4455;\n",
              "      fill: #D2E3FC;\n",
              "    }\n",
              "\n",
              "    [theme=dark] .colab-df-convert:hover {\n",
              "      background-color: #434B5C;\n",
              "      box-shadow: 0px 1px 3px 1px rgba(0, 0, 0, 0.15);\n",
              "      filter: drop-shadow(0px 1px 2px rgba(0, 0, 0, 0.3));\n",
              "      fill: #FFFFFF;\n",
              "    }\n",
              "  </style>\n",
              "\n",
              "    <script>\n",
              "      const buttonEl =\n",
              "        document.querySelector('#df-1e5df2a3-05b9-49ad-bab5-bc02d1f84895 button.colab-df-convert');\n",
              "      buttonEl.style.display =\n",
              "        google.colab.kernel.accessAllowed ? 'block' : 'none';\n",
              "\n",
              "      async function convertToInteractive(key) {\n",
              "        const element = document.querySelector('#df-1e5df2a3-05b9-49ad-bab5-bc02d1f84895');\n",
              "        const dataTable =\n",
              "          await google.colab.kernel.invokeFunction('convertToInteractive',\n",
              "                                                    [key], {});\n",
              "        if (!dataTable) return;\n",
              "\n",
              "        const docLinkHtml = 'Like what you see? Visit the ' +\n",
              "          '<a target=\"_blank\" href=https://colab.research.google.com/notebooks/data_table.ipynb>data table notebook</a>'\n",
              "          + ' to learn more about interactive tables.';\n",
              "        element.innerHTML = '';\n",
              "        dataTable['output_type'] = 'display_data';\n",
              "        await google.colab.output.renderOutput(dataTable, element);\n",
              "        const docLink = document.createElement('div');\n",
              "        docLink.innerHTML = docLinkHtml;\n",
              "        element.appendChild(docLink);\n",
              "      }\n",
              "    </script>\n",
              "  </div>\n",
              "\n",
              "\n",
              "<div id=\"df-faa2be09-3f48-427a-a483-27e7071aec6f\">\n",
              "  <button class=\"colab-df-quickchart\" onclick=\"quickchart('df-faa2be09-3f48-427a-a483-27e7071aec6f')\"\n",
              "            title=\"Suggest charts\"\n",
              "            style=\"display:none;\">\n",
              "\n",
              "<svg xmlns=\"http://www.w3.org/2000/svg\" height=\"24px\"viewBox=\"0 0 24 24\"\n",
              "     width=\"24px\">\n",
              "    <g>\n",
              "        <path d=\"M19 3H5c-1.1 0-2 .9-2 2v14c0 1.1.9 2 2 2h14c1.1 0 2-.9 2-2V5c0-1.1-.9-2-2-2zM9 17H7v-7h2v7zm4 0h-2V7h2v10zm4 0h-2v-4h2v4z\"/>\n",
              "    </g>\n",
              "</svg>\n",
              "  </button>\n",
              "\n",
              "<style>\n",
              "  .colab-df-quickchart {\n",
              "      --bg-color: #E8F0FE;\n",
              "      --fill-color: #1967D2;\n",
              "      --hover-bg-color: #E2EBFA;\n",
              "      --hover-fill-color: #174EA6;\n",
              "      --disabled-fill-color: #AAA;\n",
              "      --disabled-bg-color: #DDD;\n",
              "  }\n",
              "\n",
              "  [theme=dark] .colab-df-quickchart {\n",
              "      --bg-color: #3B4455;\n",
              "      --fill-color: #D2E3FC;\n",
              "      --hover-bg-color: #434B5C;\n",
              "      --hover-fill-color: #FFFFFF;\n",
              "      --disabled-bg-color: #3B4455;\n",
              "      --disabled-fill-color: #666;\n",
              "  }\n",
              "\n",
              "  .colab-df-quickchart {\n",
              "    background-color: var(--bg-color);\n",
              "    border: none;\n",
              "    border-radius: 50%;\n",
              "    cursor: pointer;\n",
              "    display: none;\n",
              "    fill: var(--fill-color);\n",
              "    height: 32px;\n",
              "    padding: 0;\n",
              "    width: 32px;\n",
              "  }\n",
              "\n",
              "  .colab-df-quickchart:hover {\n",
              "    background-color: var(--hover-bg-color);\n",
              "    box-shadow: 0 1px 2px rgba(60, 64, 67, 0.3), 0 1px 3px 1px rgba(60, 64, 67, 0.15);\n",
              "    fill: var(--button-hover-fill-color);\n",
              "  }\n",
              "\n",
              "  .colab-df-quickchart-complete:disabled,\n",
              "  .colab-df-quickchart-complete:disabled:hover {\n",
              "    background-color: var(--disabled-bg-color);\n",
              "    fill: var(--disabled-fill-color);\n",
              "    box-shadow: none;\n",
              "  }\n",
              "\n",
              "  .colab-df-spinner {\n",
              "    border: 2px solid var(--fill-color);\n",
              "    border-color: transparent;\n",
              "    border-bottom-color: var(--fill-color);\n",
              "    animation:\n",
              "      spin 1s steps(1) infinite;\n",
              "  }\n",
              "\n",
              "  @keyframes spin {\n",
              "    0% {\n",
              "      border-color: transparent;\n",
              "      border-bottom-color: var(--fill-color);\n",
              "      border-left-color: var(--fill-color);\n",
              "    }\n",
              "    20% {\n",
              "      border-color: transparent;\n",
              "      border-left-color: var(--fill-color);\n",
              "      border-top-color: var(--fill-color);\n",
              "    }\n",
              "    30% {\n",
              "      border-color: transparent;\n",
              "      border-left-color: var(--fill-color);\n",
              "      border-top-color: var(--fill-color);\n",
              "      border-right-color: var(--fill-color);\n",
              "    }\n",
              "    40% {\n",
              "      border-color: transparent;\n",
              "      border-right-color: var(--fill-color);\n",
              "      border-top-color: var(--fill-color);\n",
              "    }\n",
              "    60% {\n",
              "      border-color: transparent;\n",
              "      border-right-color: var(--fill-color);\n",
              "    }\n",
              "    80% {\n",
              "      border-color: transparent;\n",
              "      border-right-color: var(--fill-color);\n",
              "      border-bottom-color: var(--fill-color);\n",
              "    }\n",
              "    90% {\n",
              "      border-color: transparent;\n",
              "      border-bottom-color: var(--fill-color);\n",
              "    }\n",
              "  }\n",
              "</style>\n",
              "\n",
              "  <script>\n",
              "    async function quickchart(key) {\n",
              "      const quickchartButtonEl =\n",
              "        document.querySelector('#' + key + ' button');\n",
              "      quickchartButtonEl.disabled = true;  // To prevent multiple clicks.\n",
              "      quickchartButtonEl.classList.add('colab-df-spinner');\n",
              "      try {\n",
              "        const charts = await google.colab.kernel.invokeFunction(\n",
              "            'suggestCharts', [key], {});\n",
              "      } catch (error) {\n",
              "        console.error('Error during call to suggestCharts:', error);\n",
              "      }\n",
              "      quickchartButtonEl.classList.remove('colab-df-spinner');\n",
              "      quickchartButtonEl.classList.add('colab-df-quickchart-complete');\n",
              "    }\n",
              "    (() => {\n",
              "      let quickchartButtonEl =\n",
              "        document.querySelector('#df-faa2be09-3f48-427a-a483-27e7071aec6f button');\n",
              "      quickchartButtonEl.style.display =\n",
              "        google.colab.kernel.accessAllowed ? 'block' : 'none';\n",
              "    })();\n",
              "  </script>\n",
              "</div>\n",
              "\n",
              "    </div>\n",
              "  </div>\n"
            ],
            "application/vnd.google.colaboratory.intrinsic+json": {
              "type": "dataframe",
              "variable_name": "X2"
            }
          },
          "metadata": {},
          "execution_count": 157
        }
      ],
      "source": [
        "# TODO - Load the target vector from test_set2 into y2, and all features from test_set2 into X2\n",
        "y2 = test_set2['motion_state']\n",
        "X2 = test_set2.drop(columns=['motion_state'])\n",
        "X2.head(2)"
      ]
    },
    {
      "cell_type": "markdown",
      "metadata": {
        "id": "rMHIyNDtdbOk"
      },
      "source": [
        "___"
      ]
    },
    {
      "cell_type": "markdown",
      "metadata": {
        "id": "1DPgh3h5dbOk"
      },
      "source": [
        "#### 4.2.2 - Visualize Results"
      ]
    },
    {
      "cell_type": "code",
      "execution_count": 158,
      "metadata": {
        "id": "tWkH2VtGdbOk",
        "colab": {
          "base_uri": "https://localhost:8080/"
        },
        "outputId": "e705ac24-7f34-4fb8-bdba-1c0969f01b78"
      },
      "outputs": [
        {
          "output_type": "stream",
          "name": "stdout",
          "text": [
            "test_set1 score: 0.92\n",
            "test_set2 score: 0.73\n"
          ]
        }
      ],
      "source": [
        "# TODO - Print test score accuracies for test_set1 and test_set2\n",
        "X1 = X1[X_train.columns]\n",
        "X2 = X2[X_train.columns]\n",
        "test_set1_score = grid.score(X1, y1)\n",
        "test_set2_score =grid.score(X2, y2)\n",
        "print(\"test_set1 score: {:.2f}\".format(test_set1_score))\n",
        "print(\"test_set2 score: {:.2f}\".format(test_set2_score))"
      ]
    },
    {
      "cell_type": "code",
      "execution_count": 159,
      "metadata": {
        "id": "9bUom7u-dbOk"
      },
      "outputs": [],
      "source": [
        "# TODO - Display confusion matrix and print classification report for (X1, y1)"
      ]
    },
    {
      "cell_type": "code",
      "source": [
        "y1_pred = grid.predict(X1)\n",
        "conf_matrix1 = confusion_matrix(y1, y1_pred)\n",
        "print(\"\\nConfusion Matrix for test_set1:\\n\", conf_matrix1)\n",
        "ConfusionMatrixDisplay(confusion_matrix=conf_matrix1, display_labels=grid.classes_).plot()\n",
        "print(\"\\nClassification Report for test_set1:\\n\")\n",
        "print(classification_report(y1, y1_pred))"
      ],
      "metadata": {
        "colab": {
          "base_uri": "https://localhost:8080/",
          "height": 755
        },
        "id": "g9SUaQdBoa-8",
        "outputId": "1537d441-388f-4ab7-b11e-e8be5ce41641"
      },
      "execution_count": 160,
      "outputs": [
        {
          "output_type": "stream",
          "name": "stdout",
          "text": [
            "\n",
            "Confusion Matrix for test_set1:\n",
            " [[227   4   0]\n",
            " [ 11 390  10]\n",
            " [  0  38 103]]\n",
            "\n",
            "Classification Report for test_set1:\n",
            "\n",
            "              precision    recall  f1-score   support\n",
            "\n",
            "        rest       0.95      0.98      0.97       231\n",
            "    straight       0.90      0.95      0.93       411\n",
            "        turn       0.91      0.73      0.81       141\n",
            "\n",
            "    accuracy                           0.92       783\n",
            "   macro avg       0.92      0.89      0.90       783\n",
            "weighted avg       0.92      0.92      0.92       783\n",
            "\n"
          ]
        },
        {
          "output_type": "display_data",
          "data": {
            "text/plain": [
              "<Figure size 640x480 with 2 Axes>"
            ],
            "image/png": "[encoded data removed]"
          },
          "metadata": {}
        }
      ]
    },
    {
      "cell_type": "markdown",
      "metadata": {
        "id": "QlaIYhF8dbOk"
      },
      "source": [
        "Display the confusion matrix and print the classification for test_set 2 *(X2, y2)*"
      ]
    },
    {
      "cell_type": "code",
      "execution_count": 161,
      "metadata": {
        "id": "Rc9NN6-1dbOk"
      },
      "outputs": [],
      "source": [
        "# TODO - Display confusion matrix and print classification report for (X2, y2)"
      ]
    },
    {
      "cell_type": "code",
      "source": [
        "y2_pred = grid.predict(X2)\n",
        "conf_matrix2 = confusion_matrix(y2, y2_pred)\n",
        "print(\"\\nConfusion Matrix for test_set2:\\n\", conf_matrix2)\n",
        "ConfusionMatrixDisplay(confusion_matrix=conf_matrix2, display_labels=grid.classes_).plot()\n",
        "print(\"\\nClassification Report for test_set2:\\n\")\n",
        "print(classification_report(y2, y2_pred))"
      ],
      "metadata": {
        "colab": {
          "base_uri": "https://localhost:8080/",
          "height": 877
        },
        "id": "HSh9mBl7per8",
        "outputId": "c35d1cad-7e8c-4614-a8b6-c12d0d29b722"
      },
      "execution_count": 162,
      "outputs": [
        {
          "output_type": "stream",
          "name": "stdout",
          "text": [
            "\n",
            "Confusion Matrix for test_set2:\n",
            " [[  0  16   0]\n",
            " [  0 206   0]\n",
            " [  0  64  11]]\n",
            "\n",
            "Classification Report for test_set2:\n",
            "\n",
            "              precision    recall  f1-score   support\n",
            "\n",
            "        rest       0.00      0.00      0.00        16\n",
            "    straight       0.72      1.00      0.84       206\n",
            "        turn       1.00      0.15      0.26        75\n",
            "\n",
            "    accuracy                           0.73       297\n",
            "   macro avg       0.57      0.38      0.36       297\n",
            "weighted avg       0.75      0.73      0.65       297\n",
            "\n"
          ]
        },
        {
          "output_type": "stream",
          "name": "stderr",
          "text": [
            "/usr/local/lib/python3.10/dist-packages/sklearn/metrics/_classification.py:1531: UndefinedMetricWarning: Precision is ill-defined and being set to 0.0 in labels with no predicted samples. Use `zero_division` parameter to control this behavior.\n",
            "  _warn_prf(average, modifier, f\"{metric.capitalize()} is\", len(result))\n",
            "/usr/local/lib/python3.10/dist-packages/sklearn/metrics/_classification.py:1531: UndefinedMetricWarning: Precision is ill-defined and being set to 0.0 in labels with no predicted samples. Use `zero_division` parameter to control this behavior.\n",
            "  _warn_prf(average, modifier, f\"{metric.capitalize()} is\", len(result))\n",
            "/usr/local/lib/python3.10/dist-packages/sklearn/metrics/_classification.py:1531: UndefinedMetricWarning: Precision is ill-defined and being set to 0.0 in labels with no predicted samples. Use `zero_division` parameter to control this behavior.\n",
            "  _warn_prf(average, modifier, f\"{metric.capitalize()} is\", len(result))\n"
          ]
        },
        {
          "output_type": "display_data",
          "data": {
            "text/plain": [
              "<Figure size 640x480 with 2 Axes>"
            ],
            "image/png": "[encoded data removed]"
          },
          "metadata": {}
        }
      ]
    },
    {
      "cell_type": "markdown",
      "metadata": {
        "id": "XnDoo64rdbOk"
      },
      "source": [
        "___"
      ]
    },
    {
      "cell_type": "markdown",
      "metadata": {
        "id": "4ajUrIYQdbOk"
      },
      "source": [
        "#### 4.2.3 - Questions"
      ]
    },
    {
      "cell_type": "markdown",
      "metadata": {
        "id": "GQVSBM5adbOk"
      },
      "source": [
        "1. Based on the observations across all three datasets, compare the performance of the model with PCA, trained in this section to: (4 marks)\n",
        "    * Model trained in Section 1 using *all features*.\n",
        "    * Model trained in Section 2 using *selected features*.\n",
        "    * Model trained in Section 3 using *group selected features*\n",
        "\n",
        "2. Please provide potential explanations for the differences observed in models' performances across between section 1 and 4. (2 marks)"
      ]
    },
    {
      "cell_type": "markdown",
      "metadata": {
        "id": "3DPJ8BwHdbOk"
      },
      "source": [
        "#### 4.2.3 - Answers\n",
        "\n",
        "```\n",
        "# This is formatted as code\n",
        "```\n",
        "1. Comparision of Models\n",
        "\n",
        "The model trained in Section 4 with PCA\n",
        "performed slightly better than the model in Section 1 (using all featured), likely due to rduced noise and redundancy.\n",
        "\n",
        "\n",
        "Models in Section 2 and 3 outperformed Section 4 because feature selection methods preserved featured more relevant to the target variable.\n",
        "\n",
        "Section 1 underperformed compared to other models due to overfitting and the inclusion of irrelevant or redundant features.\n",
        "2. Explanations for Observation Differences:\n",
        "\n",
        "PCA in Section 4 helped reduce noise and dimensionality but may have discarded features important for prediction.\n",
        "\n",
        "Feature selection in Sections 2 and 3improved performance by focusing on relevant features.\n",
        "\n",
        "Using all featured in Section 1 led to poorer generalization due to overfitting and noise.\n",
        "\n"
      ]
    },
    {
      "cell_type": "code",
      "source": [],
      "metadata": {
        "id": "FFJ2Tnu_mGJV"
      },
      "execution_count": 162,
      "outputs": []
    },
    {
      "cell_type": "markdown",
      "metadata": {
        "id": "7_YCQBZTdbOk"
      },
      "source": [
        "____"
      ]
    },
    {
      "cell_type": "markdown",
      "metadata": {
        "id": "aQYwsvmfdbOk"
      },
      "source": [
        "## Section 5 - Classification Using *Pre Selected Features* Derived From Inertial Sensor Data (10 Marks)"
      ]
    },
    {
      "cell_type": "markdown",
      "metadata": {
        "id": "slGT4p7FdbOl"
      },
      "source": [
        "___"
      ]
    },
    {
      "cell_type": "markdown",
      "metadata": {
        "id": "v444_qPUdbOl"
      },
      "source": [
        "Now, a second classifer is to be trained and tuned using grid search. The **selected features from section 2** must be used. You may choose from one of the algorithms discussed that class listed below.\n",
        "1. Random Forest\n",
        "1. K-Nearest Neighbors\n",
        "1. Gradient Boosting Machines\n",
        "1. Neural Networks"
      ]
    },
    {
      "cell_type": "markdown",
      "metadata": {
        "id": "HfQjnLNhdbOl"
      },
      "source": [
        "____"
      ]
    },
    {
      "cell_type": "markdown",
      "metadata": {
        "id": "vL1qxEPFdbOl"
      },
      "source": [
        "### 5.1 Grid Search with Cross Validation (6 Marks)"
      ]
    },
    {
      "cell_type": "markdown",
      "metadata": {
        "id": "XARvx7-VdbOl"
      },
      "source": [
        "___"
      ]
    },
    {
      "cell_type": "markdown",
      "metadata": {
        "id": "jxtpRRCsdbOl"
      },
      "source": [
        "#### 5.1.1 Extract *Selected* features and target from *cv_set*"
      ]
    },
    {
      "cell_type": "markdown",
      "metadata": {
        "id": "7lepmYoydbOm"
      },
      "source": [
        "**Questions**\n",
        "1. Please list the ML model that you have selected . And explain *why you have chosen* this model? (2 marks)"
      ]
    },
    {
      "cell_type": "markdown",
      "metadata": {
        "id": "qCWlEu3gdbOm"
      },
      "source": [
        "**Answer**\n",
        "1.We have selected Random Forest model as it is robust to overfitting for small datasets. It can also handle high dimensional data and irrelevant features effectively. It also works well with selected features. In terms of its flexibility, it can handle both categorical and numerical features without much preprocessing."
      ]
    },
    {
      "cell_type": "code",
      "execution_count": 163,
      "metadata": {
        "id": "SZh1K9UYdbOm",
        "colab": {
          "base_uri": "https://localhost:8080/"
        },
        "outputId": "4f111961-ac0b-40eb-a831-bb4c56d59740"
      },
      "outputs": [
        {
          "output_type": "stream",
          "name": "stdout",
          "text": [
            "Selected Features (X):\n",
            "          ax_var        ay_var    az_sum     a_sum        gz_var\n",
            "0  8.046094e-07  1.319665e-07  9.789349  9.797418  7.446916e-10\n",
            "1  1.032619e-06  1.073067e-07  9.789095  9.798815  6.983481e-10\n"
          ]
        }
      ],
      "source": [
        "\n",
        "# TODO - Load group selected features from cv_set to X\n",
        "selected_features = ['ax_var', 'ay_var', 'az_sum', 'a_sum', 'gz_var']\n",
        "X = cv_set[selected_features]\n",
        "print(\"Selected Features (X):\\n\", X.head(2))\n",
        "#X.head(2)"
      ]
    },
    {
      "cell_type": "code",
      "execution_count": 164,
      "metadata": {
        "id": "RaFj84GxdbOm",
        "colab": {
          "base_uri": "https://localhost:8080/"
        },
        "outputId": "0c0801ba-a58a-49da-dfaf-c56f8a3716fd"
      },
      "outputs": [
        {
          "output_type": "stream",
          "name": "stdout",
          "text": [
            "\n",
            "Target Vector (y):\n",
            " 0        rest\n",
            "1        rest\n",
            "2    straight\n",
            "3        turn\n",
            "4        turn\n",
            "Name: motion_state, dtype: object\n"
          ]
        }
      ],
      "source": [
        "# TODO - Load motion_state column (target vector) into y\n",
        "y = cv_set['motion_state']\n",
        "print(\"\\nTarget Vector (y):\\n\", y.head())\n"
      ]
    },
    {
      "cell_type": "markdown",
      "metadata": {
        "id": "7Vy2MYOBdbOm"
      },
      "source": [
        "___"
      ]
    },
    {
      "cell_type": "markdown",
      "metadata": {
        "id": "Mnc85AaWdbOn"
      },
      "source": [
        "#### 5.1.2 - Configure and Perform Grid Search with Cross-Validation"
      ]
    },
    {
      "cell_type": "markdown",
      "metadata": {
        "id": "BgOw1-MldbOn"
      },
      "source": [
        "Similar to the steps from **1.2.2** and perform model training and tuning using for the model selected. Perform the `train_test_split`, initiate a `Pipeline`, then define the *Parameters* for `GridSearchCV`. Finally, perfrom the grid search."
      ]
    },
    {
      "cell_type": "code",
      "execution_count": 165,
      "metadata": {
        "id": "aZhJiaTVdbOn"
      },
      "outputs": [],
      "source": [
        "from sklearn.ensemble import RandomForestClassifier\n",
        "from sklearn.model_selection import train_test_split, GridSearchCV\n",
        "from sklearn.pipeline import Pipeline\n",
        "from sklearn.metrics import confusion_matrix, classification_report, ConfusionMatrixDisplay\n",
        "\n",
        "# TODO - Perform train/test split\n",
        "X_train, X_test, y_train, y_test = train_test_split(X, y, test_size=0.2, random_state=42)"
      ]
    },
    {
      "cell_type": "code",
      "execution_count": 166,
      "metadata": {
        "id": "YFjg9W_NdbOn"
      },
      "outputs": [],
      "source": [
        "# Perform any missing imports\n",
        "\n",
        "# TODO - Initiate the pipeline\n",
        "# (1 mark)\n",
        "pipe = Pipeline(steps=[\n",
        "    ('classifier', RandomForestClassifier(random_state=42))\n",
        "])\n"
      ]
    },
    {
      "cell_type": "code",
      "execution_count": 167,
      "metadata": {
        "id": "mp5vgCqCdbOn"
      },
      "outputs": [],
      "source": [
        "# TODO - Define the parameter grid for your model\n",
        "# (3 marks)\n",
        "param_grid = {\n",
        "    'classifier__n_estimators': [50, 100, 200],      # Number of trees\n",
        "    'classifier__max_depth': [None, 10, 20, 30],    # Maximum depth of trees\n",
        "    'classifier__min_samples_split': [2, 5, 10],    # Minimum samples to split\n",
        "    'classifier__min_samples_leaf': [1, 2, 4]       # Minimum samples in a leaf\n",
        "}\n"
      ]
    },
    {
      "cell_type": "code",
      "execution_count": null,
      "metadata": {
        "id": "cbKTz0RodbOn"
      },
      "outputs": [],
      "source": [
        "# TODO - Perform the grid search\n",
        "grid = GridSearchCV(\n",
        "    pipe,\n",
        "    param_grid=param_grid,\n",
        "    cv=5,\n",
        "    scoring='accuracy',\n",
        "    return_train_score=True\n",
        ")\n",
        "\n",
        "grid.fit(X_train, y_train)"
      ]
    },
    {
      "cell_type": "markdown",
      "metadata": {
        "id": "P45unK-cdbOo"
      },
      "source": [
        "___"
      ]
    },
    {
      "cell_type": "markdown",
      "metadata": {
        "id": "EXoFYsZXdbOo"
      },
      "source": [
        "#### 5.1.3 - Visualize Grid Search Results"
      ]
    },
    {
      "cell_type": "markdown",
      "metadata": {
        "id": "Lyo8N48JdbOo"
      },
      "source": [
        "Print the results from the grid search. The following outputs must be printed.\n",
        "* Best parameter set\n",
        "* Best cross-validation train score\n",
        "* Best cross-validation test score\n",
        "* Test set accuracy"
      ]
    },
    {
      "cell_type": "code",
      "execution_count": null,
      "metadata": {
        "id": "3osgsNrVdbOo"
      },
      "outputs": [],
      "source": [
        "# TODO: Print the results from the grid search\n",
        "\n",
        "print(\"Best params:\\n{}\\n\".format(grid.best_params_))\n",
        "print(\"Best cross-validation train score: {:.2f}\".format(max(grid.cv_results_['mean_train_score'])))\n",
        "print(\"Best cross-validation validation score: {:.2f}\".format(grid.best_score_))\n",
        "print(\"Test-set score: {:.2f}\".format(grid.score(X_test, y_test)))"
      ]
    },
    {
      "cell_type": "markdown",
      "metadata": {
        "id": "ZyIdwlLFdbOo"
      },
      "source": [
        "Display the confusion matrix and print the classification report for the trained model using the *test* split."
      ]
    },
    {
      "cell_type": "code",
      "execution_count": null,
      "metadata": {
        "id": "NYAw_0z_dbOo"
      },
      "outputs": [],
      "source": [
        "# TODO - Display confusion matrix and print classification report\n",
        "# Generate predictions for the test set\n",
        "y_pred = grid.predict(X_test)\n",
        "# Confusion Matrix\n",
        "conf_matrix = confusion_matrix(y_test, y_pred)\n",
        "print(\"\\nConfusion Matrix:\\n\", conf_matrix)\n",
        "ConfusionMatrixDisplay(confusion_matrix=conf_matrix, display_labels=grid.classes_).plot()\n",
        "\n",
        "# Classification Report\n",
        "print(\"\\nClassification Report:\\n\")\n",
        "print(classification_report(y_test, y_pred))\n"
      ]
    },
    {
      "cell_type": "markdown",
      "metadata": {
        "id": "n4f7XKmRdbOo"
      },
      "source": [
        "___"
      ]
    },
    {
      "cell_type": "markdown",
      "metadata": {
        "id": "_4spxeIYdbOo"
      },
      "source": [
        "### 5.2 - Model Evaluation on Test Datasets 1 and 2 (4 Marks)"
      ]
    },
    {
      "cell_type": "markdown",
      "metadata": {
        "id": "eUIrBY-PdbOp"
      },
      "source": [
        "___"
      ]
    },
    {
      "cell_type": "markdown",
      "metadata": {
        "id": "ggybCCwqdbOp"
      },
      "source": [
        "#### 5.2.1 - Extract selected features and targets from test datasets"
      ]
    },
    {
      "cell_type": "markdown",
      "metadata": {
        "id": "cnkA-AR0dbOp"
      },
      "source": [
        "The model trained in 5.1, is to be tested on the independent datasets, that is test_set1 and test_set2.\n",
        "Seperate the testsets into features and target vectors *(X1, y1)* and *(X2,y2)*"
      ]
    },
    {
      "cell_type": "code",
      "execution_count": null,
      "metadata": {
        "id": "mmNNo2zadbOp"
      },
      "outputs": [],
      "source": [
        "# Assuming test_set1 and test_set2 are loaded as DataFrames\n",
        "test_set1 = pd.read_csv('/content/drive/MyDrive/engg680_2024_fall/Lab_assignment4/UrbanNav-HK_TST-20210517_sensors.csv')\n",
        "test_set2 = pd.read_csv('/content/drive/MyDrive/engg680_2024_fall/Lab_assignment4/2020-03-14-16-45-35.csv')\n",
        "\n",
        "# TODO - Load the target vector from test_set1 into y1, and the selected features from test_set1 into X1\n",
        "y1 = test_set1['motion_state']\n",
        "X1 = test_set1[selected_features]\n",
        "print(\"Features for test_set1 (X1):\\n\", X1.head(2))\n",
        "print(\"Features for test_set1 (y1):\\n\", y1.head(2))"
      ]
    },
    {
      "cell_type": "code",
      "execution_count": null,
      "metadata": {
        "id": "hXq-wwZBdbOp"
      },
      "outputs": [],
      "source": [
        "# TODO - Load the target vector from test_set2 into y2, and the selected features from test_set2 into X2\n",
        "y2 = test_set2['motion_state']\n",
        "X2 = test_set2[selected_features]\n",
        "print(\"\\nFeatures for test_set2 (X2):\\n\", X2.head(2))\n",
        "print(\"\\nFeatures for test_set2 (y2):\\n\", y2.head(2))"
      ]
    },
    {
      "cell_type": "markdown",
      "metadata": {
        "id": "mOp0yQWVdbOp"
      },
      "source": [
        "___"
      ]
    },
    {
      "cell_type": "markdown",
      "metadata": {
        "id": "pQP5rRxgdbOp"
      },
      "source": [
        "#### 5.2.2 - Visualize Results"
      ]
    },
    {
      "cell_type": "markdown",
      "metadata": {
        "id": "hqiw_NRTdbOp"
      },
      "source": [
        "For each test dataset, print the test set accuracy score."
      ]
    },
    {
      "cell_type": "code",
      "execution_count": null,
      "metadata": {
        "id": "E3ULKYgMdbOp"
      },
      "outputs": [],
      "source": [
        "# TODO - Print test score accuracies for test_set1 and test_set2\n",
        "test_set1_score = grid.score(X1, y1)\n",
        "test_set2_score = grid.score(X2, y2)\n",
        "\n",
        "print(\"\\ntest_set1 score: {:.2f}\".format(test_set1_score))\n",
        "print(\"test_set2 score: {:.2f}\".format(test_set2_score))\n"
      ]
    },
    {
      "cell_type": "markdown",
      "metadata": {
        "id": "IBp-0_j3dbOp"
      },
      "source": [
        "Display the confusion matrix and print the classification for test_set 1 *(X1, y1)*"
      ]
    },
    {
      "cell_type": "code",
      "execution_count": null,
      "metadata": {
        "id": "j4NSPk1AdbOp"
      },
      "outputs": [],
      "source": [
        "# TODO - Display confusion matrix and print classification report for (X1, y1)\n",
        "from sklearn.metrics import confusion_matrix, classification_report, ConfusionMatrixDisplay\n",
        "y1_pred = grid.predict(X1)\n",
        "conf_matrix1 = confusion_matrix(y1, y1_pred)\n",
        "\n",
        "ConfusionMatrixDisplay(confusion_matrix=conf_matrix1, display_labels=grid.classes_).plot()\n",
        "\n",
        "print(\"\\nClassification Report for test_set1:\\n\")\n",
        "print(classification_report(y1, y1_pred))\n",
        "\n",
        "\n"
      ]
    },
    {
      "cell_type": "markdown",
      "metadata": {
        "id": "HyUx5gHtdbOp"
      },
      "source": [
        "Display the confusion matrix and print the classification for test_set 2 *(X2, y2)*"
      ]
    },
    {
      "cell_type": "code",
      "execution_count": null,
      "metadata": {
        "id": "LSoe4zefdbOp"
      },
      "outputs": [],
      "source": [
        "# TODO - Display confusion matrix and print classification report for (X2, y2)\n",
        "y2_pred = grid.predict(X2)\n",
        "conf_matrix2 = confusion_matrix(y2, y2_pred)\n",
        "\n",
        "ConfusionMatrixDisplay(confusion_matrix=conf_matrix2, display_labels=grid.classes_).plot()\n",
        "\n",
        "print(\"\\nClassification Report for test_set2:\\n\")\n",
        "print(classification_report(y2, y2_pred))\n"
      ]
    },
    {
      "cell_type": "markdown",
      "metadata": {
        "id": "AEurCZm7dbOp"
      },
      "source": [
        "___"
      ]
    },
    {
      "cell_type": "markdown",
      "metadata": {
        "id": "D-NwJ3aYdbOp"
      },
      "source": [
        "#### 5.2.3 Question"
      ]
    },
    {
      "cell_type": "markdown",
      "metadata": {
        "id": "sY5QSfyvdbOq"
      },
      "source": [
        "1. For the model trainied in this section, compare its performance to the performance of SVC which was also trained with the same selected features (section 2). Which model fits better? Explain causes for any observed discrepancies? (4 marks)"
      ]
    },
    {
      "cell_type": "markdown",
      "metadata": {
        "id": "qYL_OwWtdbOq"
      },
      "source": [
        "#### 5.2.3 - Answer\n",
        "1. Performance comparison,\n",
        "The SVC model outperforms Random Forest in both cross-validation (0.82 vs. 0.77) and test set accuracies. On Test Set 1, SVC achieves better overall accuracy (0.86 vs. 0.83) and a higher F1-score for the challenging turn class (0.72 vs. 0.51). On Test Set 2, SVC maintains superior performance (0.82 vs. 0.72), handling the turn class significantly better (F1: 0.51 vs. 0.23). SVC benefits from its ability to model complex, non-linear relationships, while Random Forest struggles with class imbalance, particularly for the turn class. The discrepancies arise due to SVC's kernel-based approach and better feature utilization compared to Random Forest’s hierarchical splits. Overall, SVC generalizes better, and its performance aligns well with cross-validation results, making it the preferred model for this task.\n"
      ]
    },
    {
      "cell_type": "markdown",
      "metadata": {
        "id": "PfzhB-c_dbOq"
      },
      "source": [
        "____"
      ]
    }
  ],
  "metadata": {
    "kernelspec": {
      "display_name": "PROJ682_ENV",
      "language": "python",
      "name": "python3"
    },
    "language_info": {
      "codemirror_mode": {
        "name": "ipython",
        "version": 3
      },
      "file_extension": ".py",
      "mimetype": "text/x-python",
      "name": "python",
      "nbconvert_exporter": "python",
      "pygments_lexer": "ipython3",
      "version": "3.12.2"
    },
    "colab": {
      "provenance": [],
      "collapsed_sections": [
        "KZr4wNS3dbOb",
        "Q46q-CBCdbOh",
        "vL1qxEPFdbOl"
      ],
      "include_colab_link": true
    }
  },
  "nbformat": 4,
  "nbformat_minor": 0
}